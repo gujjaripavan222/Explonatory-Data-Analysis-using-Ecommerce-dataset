{
 "cells": [
  {
   "cell_type": "markdown",
   "id": "b459cf22",
   "metadata": {},
   "source": [
    "Importing required libraries¶"
   ]
  },
  {
   "cell_type": "markdown",
   "id": "74d3abab",
   "metadata": {},
   "source": [
    "Loading the DataSet¶"
   ]
  },
  {
   "cell_type": "markdown",
   "id": "0a40a3a1",
   "metadata": {},
   "source": [
    "Number of rows and columns¶"
   ]
  },
  {
   "cell_type": "markdown",
   "id": "a07162f3",
   "metadata": {},
   "source": [
    "Access first five rows¶"
   ]
  },
  {
   "cell_type": "markdown",
   "id": "2bf1c744",
   "metadata": {},
   "source": [
    "Access last five rows¶"
   ]
  },
  {
   "cell_type": "markdown",
   "id": "c88a4ca6",
   "metadata": {},
   "source": [
    "Displaying total columns from Dataset¶"
   ]
  },
  {
   "cell_type": "markdown",
   "id": "00b8a0a1",
   "metadata": {},
   "source": [
    "Getting all columns one by one¶"
   ]
  },
  {
   "cell_type": "markdown",
   "id": "15b421dd",
   "metadata": {},
   "source": [
    "Renaming columns names¶"
   ]
  },
  {
   "cell_type": "markdown",
   "id": "1d62ad20",
   "metadata": {},
   "source": [
    "After changing column names Checking new column names¶"
   ]
  },
  {
   "cell_type": "markdown",
   "id": "8beab428",
   "metadata": {},
   "source": [
    "Lets check initial data¶"
   ]
  },
  {
   "cell_type": "markdown",
   "id": "163f996e",
   "metadata": {},
   "source": [
    "Checking first five rows¶"
   ]
  },
  {
   "cell_type": "markdown",
   "id": "bb09a4c7",
   "metadata": {},
   "source": [
    "Data Cleaning¶"
   ]
  },
  {
   "cell_type": "markdown",
   "id": "e8c8c1ac",
   "metadata": {},
   "source": [
    "Checking column types¶"
   ]
  },
  {
   "cell_type": "markdown",
   "id": "5f5ad64a",
   "metadata": {},
   "source": [
    "DataFrame information¶"
   ]
  },
  {
   "cell_type": "markdown",
   "id": "2b07e781",
   "metadata": {},
   "source": [
    "Checking missing values for each column¶"
   ]
  },
  {
   "cell_type": "markdown",
   "id": "90eb58ac",
   "metadata": {},
   "source": [
    "541909 rows × 8 columns"
   ]
  },
  {
   "cell_type": "markdown",
   "id": "bfc77b83",
   "metadata": {},
   "source": [
    "Checkcing number of columns¶"
   ]
  },
  {
   "cell_type": "markdown",
   "id": "617950c2",
   "metadata": {},
   "source": [
    "Checking missing values count on each column¶"
   ]
  },
  {
   "cell_type": "markdown",
   "id": "48eb2378",
   "metadata": {},
   "source": [
    "Checking missing values count on each column, applying sorting¶"
   ]
  },
  {
   "cell_type": "markdown",
   "id": "18dde0f5",
   "metadata": {},
   "source": [
    "Checking type of invoice_date column¶"
   ]
  },
  {
   "cell_type": "markdown",
   "id": "66d690fa",
   "metadata": {},
   "source": [
    "Access intial data¶"
   ]
  },
  {
   "cell_type": "markdown",
   "id": "bd9ff4ce",
   "metadata": {},
   "source": [
    "Converting invoice_date data type into datatime data type¶"
   ]
  },
  {
   "cell_type": "markdown",
   "id": "1b0e5a95",
   "metadata": {},
   "source": [
    "Checking type of invoice_date¶"
   ]
  },
  {
   "cell_type": "markdown",
   "id": "64656493",
   "metadata": {},
   "source": [
    "Let us check description column¶"
   ]
  },
  {
   "cell_type": "markdown",
   "id": "6230769e",
   "metadata": {},
   "source": [
    "We need to call lower() method¶"
   ]
  },
  {
   "cell_type": "markdown",
   "id": "7fdeb2bc",
   "metadata": {},
   "source": [
    "Missing values¶"
   ]
  },
  {
   "cell_type": "markdown",
   "id": "4a001b64",
   "metadata": {},
   "source": [
    "Based on team meeting/client discussion we will need to perform accordingly¶"
   ]
  },
  {
   "cell_type": "markdown",
   "id": "49826eb2",
   "metadata": {},
   "source": [
    "Dropping missing values¶"
   ]
  },
  {
   "cell_type": "markdown",
   "id": "7629db45",
   "metadata": {},
   "source": [
    "After dropping missing values then again Checking missing values for each columns¶"
   ]
  },
  {
   "cell_type": "markdown",
   "id": "d5a06728",
   "metadata": {},
   "source": [
    "DataFrame information¶"
   ]
  },
  {
   "cell_type": "markdown",
   "id": "92f0a556",
   "metadata": {},
   "source": [
    "Check type of cust_id data type¶"
   ]
  },
  {
   "cell_type": "markdown",
   "id": "e9109a9b",
   "metadata": {},
   "source": [
    "Converting cust_id float type into integer type¶"
   ]
  },
  {
   "cell_type": "markdown",
   "id": "48401a31",
   "metadata": {},
   "source": [
    "Ignoring warnings in jupyter¶"
   ]
  },
  {
   "cell_type": "markdown",
   "id": "12a81175",
   "metadata": {},
   "source": [
    "Accessing first five rows¶"
   ]
  },
  {
   "cell_type": "markdown",
   "id": "e961b1e7",
   "metadata": {},
   "source": [
    "New DataFrame information¶"
   ]
  },
  {
   "cell_type": "markdown",
   "id": "a165bcad",
   "metadata": {},
   "source": [
    "DataFrame description¶"
   ]
  },
  {
   "cell_type": "markdown",
   "id": "46b291d7",
   "metadata": {},
   "source": [
    "Rounding the values in DataFrame¶"
   ]
  },
  {
   "cell_type": "markdown",
   "id": "06f7fb72",
   "metadata": {},
   "source": [
    "Let us do some analysis¶"
   ]
  },
  {
   "cell_type": "markdown",
   "id": "f069aabe",
   "metadata": {},
   "source": [
    "Conclusion is: quantity column having negative values¶"
   ]
  },
  {
   "cell_type": "markdown",
   "id": "afffcaa2",
   "metadata": {},
   "source": [
    "So, we need to remove/delete negative values¶"
   ]
  },
  {
   "cell_type": "markdown",
   "id": "1409d1a0",
   "metadata": {},
   "source": [
    "Example to delete negative values from list object¶"
   ]
  },
  {
   "cell_type": "markdown",
   "id": "8f7f849c",
   "metadata": {},
   "source": [
    "Remove negative values from quantity column¶"
   ]
  },
  {
   "cell_type": "markdown",
   "id": "01832ca4",
   "metadata": {},
   "source": [
    "Access initial Data¶"
   ]
  },
  {
   "cell_type": "markdown",
   "id": "12793170",
   "metadata": {},
   "source": [
    "Checking total number of rows and columns¶"
   ]
  },
  {
   "cell_type": "markdown",
   "id": "5e21aabf",
   "metadata": {},
   "source": [
    "Adding the column  - amount_spent¶"
   ]
  },
  {
   "cell_type": "markdown",
   "id": "8e1481aa",
   "metadata": {},
   "source": [
    "Lets read the column names from DataFrame¶"
   ]
  },
  {
   "cell_type": "markdown",
   "id": "01388623",
   "metadata": {},
   "source": [
    "Rearranging columns for more readability¶"
   ]
  },
  {
   "cell_type": "markdown",
   "id": "b93a637e",
   "metadata": {},
   "source": [
    "Access initial data¶"
   ]
  },
  {
   "cell_type": "markdown",
   "id": "cef1c6ad",
   "metadata": {},
   "source": [
    "Number of rows and columns¶"
   ]
  },
  {
   "cell_type": "markdown",
   "id": "b77dd23f",
   "metadata": {},
   "source": [
    "Let us do analysis on invoice_date column¶"
   ]
  },
  {
   "cell_type": "markdown",
   "id": "0045bc82",
   "metadata": {},
   "source": [
    "number of columns in the dataset¶"
   ]
  },
  {
   "cell_type": "markdown",
   "id": "74da727f",
   "metadata": {},
   "source": [
    "Accessing invoice_date column¶"
   ]
  },
  {
   "cell_type": "markdown",
   "id": "7fec95e5",
   "metadata": {},
   "source": [
    "Method - 1 to access column¶"
   ]
  },
  {
   "cell_type": "markdown",
   "id": "a81e4182",
   "metadata": {},
   "source": [
    "Method - 2 to access column¶"
   ]
  },
  {
   "cell_type": "markdown",
   "id": "f577a9ed",
   "metadata": {},
   "source": [
    "Accessing year value from invoice_date¶"
   ]
  },
  {
   "cell_type": "markdown",
   "id": "32aab137",
   "metadata": {},
   "source": [
    "Accessing month value from invoice_date¶"
   ]
  },
  {
   "cell_type": "markdown",
   "id": "bf4d5b1f",
   "metadata": {},
   "source": [
    "Access initial Data¶"
   ]
  },
  {
   "cell_type": "markdown",
   "id": "53e17423",
   "metadata": {},
   "source": [
    "Lets insert year_month colum in 2nd position¶"
   ]
  },
  {
   "cell_type": "markdown",
   "id": "b33f8b85",
   "metadata": {},
   "source": [
    "Need to restart from here¶"
   ]
  },
  {
   "cell_type": "markdown",
   "id": "7ea07e00",
   "metadata": {},
   "source": [
    "small calculation¶"
   ]
  },
  {
   "cell_type": "markdown",
   "id": "52316278",
   "metadata": {},
   "source": [
    "397924 rows × 10 columns"
   ]
  },
  {
   "cell_type": "markdown",
   "id": "b5eb3b7e",
   "metadata": {},
   "source": [
    "Access initial data¶"
   ]
  },
  {
   "cell_type": "markdown",
   "id": "b0d0aa86",
   "metadata": {},
   "source": [
    "Adding month column to the exisint DataFrame¶"
   ]
  },
  {
   "cell_type": "markdown",
   "id": "5a7172b1",
   "metadata": {},
   "source": [
    "Lets access invoice_date column¶"
   ]
  },
  {
   "cell_type": "markdown",
   "id": "36669f6a",
   "metadata": {},
   "source": [
    "We can get day of the week¶"
   ]
  },
  {
   "cell_type": "markdown",
   "id": "025b1113",
   "metadata": {},
   "source": [
    "In pandas, the day formate starts from 0 to 6¶"
   ]
  },
  {
   "cell_type": "markdown",
   "id": "d72efa71",
   "metadata": {},
   "source": [
    "Monday = 0\n",
    "Tuesday = 1\n",
    "....\n",
    "Sunday = 6"
   ]
  },
  {
   "cell_type": "markdown",
   "id": "b4155341",
   "metadata": {},
   "source": [
    "Apply +1 to make Monday = 1.....until Sunday = 7¶"
   ]
  },
  {
   "cell_type": "markdown",
   "id": "1d5c254a",
   "metadata": {},
   "source": [
    "Adding hour column to existing DataFrame¶"
   ]
  },
  {
   "cell_type": "markdown",
   "id": "99d2cd26",
   "metadata": {},
   "source": [
    "Lets display all columns once¶"
   ]
  },
  {
   "cell_type": "markdown",
   "id": "c982a514",
   "metadata": {},
   "source": [
    "Exploratory Data Analysis (EDA)¶"
   ]
  },
  {
   "cell_type": "markdown",
   "id": "da3e7fa5",
   "metadata": {},
   "source": [
    "4339 rows × 12 columns"
   ]
  },
  {
   "cell_type": "markdown",
   "id": "b8b37259",
   "metadata": {},
   "source": [
    "4347 rows × 11 columns"
   ]
  },
  {
   "cell_type": "markdown",
   "id": "13144a7c",
   "metadata": {},
   "source": [
    "4347 rows × 3 columns"
   ]
  },
  {
   "cell_type": "markdown",
   "id": "f1fc98a3",
   "metadata": {},
   "source": [
    "Data Visaulization libraries¶"
   ]
  },
  {
   "cell_type": "markdown",
   "id": "f1099041",
   "metadata": {},
   "source": [
    "4347 rows × 3 columns"
   ]
  },
  {
   "cell_type": "markdown",
   "id": "2285a81c",
   "metadata": {},
   "source": [
    "4347 rows × 3 columns"
   ]
  },
  {
   "cell_type": "markdown",
   "id": "bbad88dd",
   "metadata": {},
   "source": [
    "Check TOP 5 most number of orders¶"
   ]
  },
  {
   "cell_type": "markdown",
   "id": "ca2617fd",
   "metadata": {},
   "source": [
    "Visualizing - Number of Orders for different Customers¶"
   ]
  },
  {
   "cell_type": "markdown",
   "id": "138c7abf",
   "metadata": {},
   "source": [
    "How much money spent by each customers?¶"
   ]
  },
  {
   "cell_type": "markdown",
   "id": "e42d5276",
   "metadata": {},
   "source": [
    "4347 rows × 7 columns"
   ]
  },
  {
   "cell_type": "markdown",
   "id": "80bedf18",
   "metadata": {},
   "source": [
    "4347 rows × 3 columns"
   ]
  },
  {
   "cell_type": "markdown",
   "id": "a9f62e23",
   "metadata": {},
   "source": [
    "4347 rows × 3 columns"
   ]
  },
  {
   "cell_type": "markdown",
   "id": "b66c189c",
   "metadata": {},
   "source": [
    "Top FIVE customers who spend highest money¶"
   ]
  },
  {
   "cell_type": "markdown",
   "id": "5aca19ba",
   "metadata": {},
   "source": [
    "Top TEN customers who spend highest money¶"
   ]
  },
  {
   "cell_type": "markdown",
   "id": "3b9edc8f",
   "metadata": {},
   "source": [
    "Visualizing - Money spent for different customers¶"
   ]
  },
  {
   "cell_type": "markdown",
   "id": "60a723dd",
   "metadata": {},
   "source": [
    "Number of order for different months¶"
   ]
  },
  {
   "cell_type": "markdown",
   "id": "caab1835",
   "metadata": {},
   "source": [
    "Initial Data¶"
   ]
  },
  {
   "cell_type": "markdown",
   "id": "0f2ce604",
   "metadata": {},
   "source": [
    "How many orders (per day)?¶"
   ]
  },
  {
   "cell_type": "markdown",
   "id": "e23e09fc",
   "metadata": {},
   "source": [
    "Day wise sales count/business¶"
   ]
  },
  {
   "cell_type": "markdown",
   "id": "15fe8cc4",
   "metadata": {},
   "source": [
    "Lets visualizat Day wise sales count/business¶"
   ]
  },
  {
   "cell_type": "markdown",
   "id": "2aacb848",
   "metadata": {},
   "source": [
    "Discover patterns for Unit Price¶"
   ]
  },
  {
   "cell_type": "markdown",
   "id": "018fc15d",
   "metadata": {},
   "source": [
    "Min value for product is zero, so there are some free products¶"
   ]
  },
  {
   "cell_type": "markdown",
   "id": "6e581bf6",
   "metadata": {},
   "source": [
    "Filter only free products(cost = 0)¶"
   ]
  },
  {
   "cell_type": "markdown",
   "id": "ff9ec0bd",
   "metadata": {},
   "source": [
    "How many orders for each country?¶"
   ]
  },
  {
   "cell_type": "markdown",
   "id": "e5cbcf46",
   "metadata": {},
   "source": [
    "397924 rows × 13 columns"
   ]
  },
  {
   "cell_type": "markdown",
   "id": "59068f4a",
   "metadata": {},
   "source": [
    "How many orders for each country?¶"
   ]
  },
  {
   "cell_type": "markdown",
   "id": "6a411c3f",
   "metadata": {},
   "source": [
    "How much money spent by each country?¶"
   ]
  },
  {
   "cell_type": "markdown",
   "id": "8811f49e",
   "metadata": {},
   "source": [
    "397924 rows × 13 columns"
   ]
  },
  {
   "cell_type": "markdown",
   "id": "947f55f2",
   "metadata": {},
   "source": [
    "How much money spent by each country?¶"
   ]
  },
  {
   "cell_type": "markdown",
   "id": "2904def5",
   "metadata": {},
   "source": [
    "This is called Data Analysis :)¶"
   ]
  },
  {
   "cell_type": "code",
   "execution_count": null,
   "id": "6702c377",
   "metadata": {},
   "outputs": [],
   "source": [
    "import pandas as pd \n",
    "import numpy as np"
   ]
  },
  {
   "cell_type": "code",
   "execution_count": null,
   "id": "7393ab63",
   "metadata": {},
   "outputs": [],
   "source": [
    "df = pd.read_csv('data.csv', encoding = 'ISO-8859-1')"
   ]
  },
  {
   "cell_type": "code",
   "execution_count": null,
   "id": "86aa41f7",
   "metadata": {},
   "outputs": [],
   "source": [
    "# ecom_data = pd.read_csv('data.csv', encoding = 'ISO-8859-1')"
   ]
  },
  {
   "cell_type": "code",
   "execution_count": null,
   "id": "4581aa1e",
   "metadata": {},
   "outputs": [],
   "source": [
    "df.shape"
   ]
  },
  {
   "cell_type": "code",
   "execution_count": null,
   "id": "8fd6ffba",
   "metadata": {},
   "outputs": [],
   "source": [
    "(541909, 8)"
   ]
  },
  {
   "cell_type": "code",
   "execution_count": null,
   "id": "a7f9c9d1",
   "metadata": {},
   "outputs": [],
   "source": [
    "df.head()"
   ]
  },
  {
   "cell_type": "code",
   "execution_count": null,
   "id": "364a1610",
   "metadata": {},
   "outputs": [],
   "source": [
    "df.tail()"
   ]
  },
  {
   "cell_type": "code",
   "execution_count": null,
   "id": "235f93d8",
   "metadata": {},
   "outputs": [],
   "source": [
    "df.columns"
   ]
  },
  {
   "cell_type": "code",
   "execution_count": null,
   "id": "aa30505d",
   "metadata": {},
   "outputs": [],
   "source": [
    "Index(['InvoiceNo', 'StockCode', 'Description', 'Quantity', 'InvoiceDate',\n",
    "       'UnitPrice', 'CustomerID', 'Country'],\n",
    "      dtype='object')"
   ]
  },
  {
   "cell_type": "code",
   "execution_count": null,
   "id": "02ff3837",
   "metadata": {},
   "outputs": [],
   "source": [
    "for column in df.columns:\n",
    "    print(column)"
   ]
  },
  {
   "cell_type": "code",
   "execution_count": null,
   "id": "2cc9843c",
   "metadata": {},
   "outputs": [],
   "source": [
    "InvoiceNo\n",
    "StockCode\n",
    "Description\n",
    "Quantity\n",
    "InvoiceDate\n",
    "UnitPrice\n",
    "CustomerID\n",
    "Country"
   ]
  },
  {
   "cell_type": "code",
   "execution_count": null,
   "id": "281e7343",
   "metadata": {},
   "outputs": [],
   "source": [
    "d = {\n",
    "        'InvoiceNo': 'invoice_num',\n",
    "        'StockCode' : 'stock_code',\n",
    "        'Description' : 'description',\n",
    "        'Quantity' : 'quantity',\n",
    "        'InvoiceDate' : 'invoice_date',\n",
    "        'UnitPrice' : 'unit_price',\n",
    "        'CustomerID' : 'cust_id',\n",
    "        'Country' : 'country'\n",
    "}"
   ]
  },
  {
   "cell_type": "code",
   "execution_count": null,
   "id": "49f2cb9e",
   "metadata": {},
   "outputs": [],
   "source": [
    "d"
   ]
  },
  {
   "cell_type": "code",
   "execution_count": null,
   "id": "f8fbb634",
   "metadata": {},
   "outputs": [],
   "source": [
    "{'InvoiceNo': 'invoice_num',\n",
    " 'StockCode': 'stock_code',\n",
    " 'Description': 'description',\n",
    " 'Quantity': 'quantity',\n",
    " 'InvoiceDate': 'invoice_date',\n",
    " 'UnitPrice': 'unit_price',\n",
    " 'CustomerID': 'cust_id',\n",
    " 'Country': 'country'}"
   ]
  },
  {
   "cell_type": "code",
   "execution_count": null,
   "id": "50095909",
   "metadata": {},
   "outputs": [],
   "source": [
    "df.rename(columns = d, inplace = True)"
   ]
  },
  {
   "cell_type": "code",
   "execution_count": null,
   "id": "8da8f649",
   "metadata": {},
   "outputs": [],
   "source": [
    "df.columns"
   ]
  },
  {
   "cell_type": "code",
   "execution_count": null,
   "id": "2804c1de",
   "metadata": {},
   "outputs": [],
   "source": [
    "Index(['invoice_num', 'stock_code', 'description', 'quantity', 'invoice_date',\n",
    "       'unit_price', 'cust_id', 'country'],\n",
    "      dtype='object')"
   ]
  },
  {
   "cell_type": "code",
   "execution_count": null,
   "id": "f9852650",
   "metadata": {},
   "outputs": [],
   "source": [
    "for i in df.columns:\n",
    "    print(i)"
   ]
  },
  {
   "cell_type": "code",
   "execution_count": null,
   "id": "06d9e3de",
   "metadata": {},
   "outputs": [],
   "source": [
    "invoice_num\n",
    "stock_code\n",
    "description\n",
    "quantity\n",
    "invoice_date\n",
    "unit_price\n",
    "cust_id\n",
    "country"
   ]
  },
  {
   "cell_type": "code",
   "execution_count": null,
   "id": "dacca1bd",
   "metadata": {},
   "outputs": [],
   "source": [
    "df.head()"
   ]
  },
  {
   "cell_type": "code",
   "execution_count": null,
   "id": "278ba8ac",
   "metadata": {},
   "outputs": [],
   "source": [
    "df.head()"
   ]
  },
  {
   "cell_type": "code",
   "execution_count": null,
   "id": "9dae3668",
   "metadata": {},
   "outputs": [],
   "source": [
    "df.dtypes"
   ]
  },
  {
   "cell_type": "code",
   "execution_count": null,
   "id": "1032452e",
   "metadata": {},
   "outputs": [],
   "source": [
    "invoice_num      object\n",
    "stock_code       object\n",
    "description      object\n",
    "quantity          int64\n",
    "invoice_date     object\n",
    "unit_price      float64\n",
    "cust_id         float64\n",
    "country          object\n",
    "dtype: object"
   ]
  },
  {
   "cell_type": "code",
   "execution_count": null,
   "id": "450be92c",
   "metadata": {},
   "outputs": [],
   "source": [
    "df.info()"
   ]
  },
  {
   "cell_type": "code",
   "execution_count": null,
   "id": "c324a679",
   "metadata": {},
   "outputs": [],
   "source": [
    "<class 'pandas.core.frame.DataFrame'>\n",
    "RangeIndex: 541909 entries, 0 to 541908\n",
    "Data columns (total 8 columns):\n",
    " #   Column        Non-Null Count   Dtype  \n",
    "---  ------        --------------   -----  \n",
    " 0   invoice_num   541909 non-null  object \n",
    " 1   stock_code    541909 non-null  object \n",
    " 2   description   540455 non-null  object \n",
    " 3   quantity      541909 non-null  int64  \n",
    " 4   invoice_date  541909 non-null  object \n",
    " 5   unit_price    541909 non-null  float64\n",
    " 6   cust_id       406829 non-null  float64\n",
    " 7   country       541909 non-null  object \n",
    "dtypes: float64(2), int64(1), object(5)\n",
    "memory usage: 33.1+ MB"
   ]
  },
  {
   "cell_type": "code",
   "execution_count": null,
   "id": "8d1fb919",
   "metadata": {},
   "outputs": [],
   "source": [
    "df.isnull()"
   ]
  },
  {
   "cell_type": "code",
   "execution_count": null,
   "id": "bfb66663",
   "metadata": {},
   "outputs": [],
   "source": [
    "len(df.columns)"
   ]
  },
  {
   "cell_type": "code",
   "execution_count": null,
   "id": "fab94e10",
   "metadata": {},
   "outputs": [],
   "source": [
    "8"
   ]
  },
  {
   "cell_type": "code",
   "execution_count": null,
   "id": "2da1350c",
   "metadata": {},
   "outputs": [],
   "source": [
    "df.shape"
   ]
  },
  {
   "cell_type": "code",
   "execution_count": null,
   "id": "33cca7e3",
   "metadata": {},
   "outputs": [],
   "source": [
    "(541909, 8)"
   ]
  },
  {
   "cell_type": "code",
   "execution_count": null,
   "id": "15946452",
   "metadata": {},
   "outputs": [],
   "source": [
    "df.isnull().sum()"
   ]
  },
  {
   "cell_type": "code",
   "execution_count": null,
   "id": "03a14d2d",
   "metadata": {},
   "outputs": [],
   "source": [
    "invoice_num          0\n",
    "stock_code           0\n",
    "description       1454\n",
    "quantity             0\n",
    "invoice_date         0\n",
    "unit_price           0\n",
    "cust_id         135080\n",
    "country              0\n",
    "dtype: int64"
   ]
  },
  {
   "cell_type": "code",
   "execution_count": null,
   "id": "6bab1560",
   "metadata": {},
   "outputs": [],
   "source": [
    "df.isnull().sum().sort_values()"
   ]
  },
  {
   "cell_type": "code",
   "execution_count": null,
   "id": "aed58bed",
   "metadata": {},
   "outputs": [],
   "source": [
    "invoice_num          0\n",
    "stock_code           0\n",
    "quantity             0\n",
    "invoice_date         0\n",
    "unit_price           0\n",
    "country              0\n",
    "description       1454\n",
    "cust_id         135080\n",
    "dtype: int64"
   ]
  },
  {
   "cell_type": "code",
   "execution_count": null,
   "id": "747f701a",
   "metadata": {},
   "outputs": [],
   "source": [
    "df.isnull().sum().sort_values(ascending = False)"
   ]
  },
  {
   "cell_type": "code",
   "execution_count": null,
   "id": "8d5fddaf",
   "metadata": {},
   "outputs": [],
   "source": [
    "cust_id         135080\n",
    "description       1454\n",
    "invoice_num          0\n",
    "stock_code           0\n",
    "quantity             0\n",
    "invoice_date         0\n",
    "unit_price           0\n",
    "country              0\n",
    "dtype: int64"
   ]
  },
  {
   "cell_type": "code",
   "execution_count": null,
   "id": "e2016757",
   "metadata": {},
   "outputs": [],
   "source": [
    "df.dtypes"
   ]
  },
  {
   "cell_type": "code",
   "execution_count": null,
   "id": "2238435b",
   "metadata": {},
   "outputs": [],
   "source": [
    "invoice_num      object\n",
    "stock_code       object\n",
    "description      object\n",
    "quantity          int64\n",
    "invoice_date     object\n",
    "unit_price      float64\n",
    "cust_id         float64\n",
    "country          object\n",
    "dtype: object"
   ]
  },
  {
   "cell_type": "code",
   "execution_count": null,
   "id": "2ea7339a",
   "metadata": {},
   "outputs": [],
   "source": [
    "df.head(2)"
   ]
  },
  {
   "cell_type": "code",
   "execution_count": null,
   "id": "93aee717",
   "metadata": {},
   "outputs": [],
   "source": [
    "df['invoice_date'] = pd.to_datetime(df.invoice_date, format='%m/%d/%Y %H:%M')"
   ]
  },
  {
   "cell_type": "code",
   "execution_count": null,
   "id": "1b1bbef1",
   "metadata": {},
   "outputs": [],
   "source": [
    "df.dtypes"
   ]
  },
  {
   "cell_type": "code",
   "execution_count": null,
   "id": "a04a00a7",
   "metadata": {},
   "outputs": [],
   "source": [
    "invoice_num             object\n",
    "stock_code              object\n",
    "description             object\n",
    "quantity                 int64\n",
    "invoice_date    datetime64[ns]\n",
    "unit_price             float64\n",
    "cust_id                float64\n",
    "country                 object\n",
    "dtype: object"
   ]
  },
  {
   "cell_type": "code",
   "execution_count": null,
   "id": "198f98f7",
   "metadata": {},
   "outputs": [],
   "source": [
    "df.head()"
   ]
  },
  {
   "cell_type": "code",
   "execution_count": null,
   "id": "77299cec",
   "metadata": {},
   "outputs": [],
   "source": [
    "df.description"
   ]
  },
  {
   "cell_type": "code",
   "execution_count": null,
   "id": "69a4da6d",
   "metadata": {},
   "outputs": [],
   "source": [
    "0          WHITE HANGING HEART T-LIGHT HOLDER\n",
    "1                         WHITE METAL LANTERN\n",
    "2              CREAM CUPID HEARTS COAT HANGER\n",
    "3         KNITTED UNION FLAG HOT WATER BOTTLE\n",
    "4              RED WOOLLY HOTTIE WHITE HEART.\n",
    "                         ...                 \n",
    "541904            PACK OF 20 SPACEBOY NAPKINS\n",
    "541905           CHILDREN'S APRON DOLLY GIRL \n",
    "541906          CHILDRENS CUTLERY DOLLY GIRL \n",
    "541907        CHILDRENS CUTLERY CIRCUS PARADE\n",
    "541908          BAKING SET 9 PIECE RETROSPOT \n",
    "Name: description, Length: 541909, dtype: object"
   ]
  },
  {
   "cell_type": "code",
   "execution_count": null,
   "id": "11eb2d60",
   "metadata": {},
   "outputs": [],
   "source": [
    "df.description.str.lower()"
   ]
  },
  {
   "cell_type": "code",
   "execution_count": null,
   "id": "a56aa5ae",
   "metadata": {},
   "outputs": [],
   "source": [
    "0          white hanging heart t-light holder\n",
    "1                         white metal lantern\n",
    "2              cream cupid hearts coat hanger\n",
    "3         knitted union flag hot water bottle\n",
    "4              red woolly hottie white heart.\n",
    "                         ...                 \n",
    "541904            pack of 20 spaceboy napkins\n",
    "541905           children's apron dolly girl \n",
    "541906          childrens cutlery dolly girl \n",
    "541907        childrens cutlery circus parade\n",
    "541908          baking set 9 piece retrospot \n",
    "Name: description, Length: 541909, dtype: object"
   ]
  },
  {
   "cell_type": "code",
   "execution_count": null,
   "id": "41029fa4",
   "metadata": {},
   "outputs": [],
   "source": [
    "df.head(3)"
   ]
  },
  {
   "cell_type": "code",
   "execution_count": null,
   "id": "2aac6dd7",
   "metadata": {},
   "outputs": [],
   "source": [
    "df['description'] = df.description.str.lower()"
   ]
  },
  {
   "cell_type": "code",
   "execution_count": null,
   "id": "91e215e1",
   "metadata": {},
   "outputs": [],
   "source": [
    "df.head()"
   ]
  },
  {
   "cell_type": "code",
   "execution_count": null,
   "id": "14882c60",
   "metadata": {},
   "outputs": [],
   "source": [
    "df.isnull().sum().sort_values(ascending = False)"
   ]
  },
  {
   "cell_type": "code",
   "execution_count": null,
   "id": "4c8d8de7",
   "metadata": {},
   "outputs": [],
   "source": [
    "cust_id         135080\n",
    "description       1454\n",
    "invoice_num          0\n",
    "stock_code           0\n",
    "quantity             0\n",
    "invoice_date         0\n",
    "unit_price           0\n",
    "country              0\n",
    "dtype: int64"
   ]
  },
  {
   "cell_type": "code",
   "execution_count": null,
   "id": "3ffcb6f0",
   "metadata": {},
   "outputs": [],
   "source": [
    "df_new = df.dropna()"
   ]
  },
  {
   "cell_type": "code",
   "execution_count": null,
   "id": "6cfa8ef4",
   "metadata": {},
   "outputs": [],
   "source": [
    "df_new.isnull().sum()"
   ]
  },
  {
   "cell_type": "code",
   "execution_count": null,
   "id": "eec61207",
   "metadata": {},
   "outputs": [],
   "source": [
    "invoice_num     0\n",
    "stock_code      0\n",
    "description     0\n",
    "quantity        0\n",
    "invoice_date    0\n",
    "unit_price      0\n",
    "cust_id         0\n",
    "country         0\n",
    "dtype: int64"
   ]
  },
  {
   "cell_type": "code",
   "execution_count": null,
   "id": "55620ab3",
   "metadata": {},
   "outputs": [],
   "source": [
    "df_new.info()"
   ]
  },
  {
   "cell_type": "code",
   "execution_count": null,
   "id": "740212bb",
   "metadata": {},
   "outputs": [],
   "source": [
    "<class 'pandas.core.frame.DataFrame'>\n",
    "Int64Index: 406829 entries, 0 to 541908\n",
    "Data columns (total 8 columns):\n",
    " #   Column        Non-Null Count   Dtype         \n",
    "---  ------        --------------   -----         \n",
    " 0   invoice_num   406829 non-null  object        \n",
    " 1   stock_code    406829 non-null  object        \n",
    " 2   description   406829 non-null  object        \n",
    " 3   quantity      406829 non-null  int64         \n",
    " 4   invoice_date  406829 non-null  datetime64[ns]\n",
    " 5   unit_price    406829 non-null  float64       \n",
    " 6   cust_id       406829 non-null  float64       \n",
    " 7   country       406829 non-null  object        \n",
    "dtypes: datetime64[ns](1), float64(2), int64(1), object(4)\n",
    "memory usage: 27.9+ MB"
   ]
  },
  {
   "cell_type": "code",
   "execution_count": null,
   "id": "00cd895e",
   "metadata": {},
   "outputs": [],
   "source": [
    "df_new.head()"
   ]
  },
  {
   "cell_type": "code",
   "execution_count": null,
   "id": "a0bc73c0",
   "metadata": {},
   "outputs": [],
   "source": [
    "df_new.dtypes"
   ]
  },
  {
   "cell_type": "code",
   "execution_count": null,
   "id": "84e57da3",
   "metadata": {},
   "outputs": [],
   "source": [
    "invoice_num             object\n",
    "stock_code              object\n",
    "description             object\n",
    "quantity                 int64\n",
    "invoice_date    datetime64[ns]\n",
    "unit_price             float64\n",
    "cust_id                float64\n",
    "country                 object\n",
    "dtype: object"
   ]
  },
  {
   "cell_type": "code",
   "execution_count": null,
   "id": "85a0bc21",
   "metadata": {},
   "outputs": [],
   "source": [
    "df_new['cust_id']"
   ]
  },
  {
   "cell_type": "code",
   "execution_count": null,
   "id": "b217b07a",
   "metadata": {},
   "outputs": [],
   "source": [
    "0         17850.0\n",
    "1         17850.0\n",
    "2         17850.0\n",
    "3         17850.0\n",
    "4         17850.0\n",
    "           ...   \n",
    "541904    12680.0\n",
    "541905    12680.0\n",
    "541906    12680.0\n",
    "541907    12680.0\n",
    "541908    12680.0\n",
    "Name: cust_id, Length: 406829, dtype: float64"
   ]
  },
  {
   "cell_type": "code",
   "execution_count": null,
   "id": "47e1506e",
   "metadata": {},
   "outputs": [],
   "source": [
    "import warnings\n",
    "warnings.filterwarnings('ignore')"
   ]
  },
  {
   "cell_type": "code",
   "execution_count": null,
   "id": "4cc6c400",
   "metadata": {},
   "outputs": [],
   "source": [
    "df_new['cust_id'] = df_new['cust_id'].astype('int64')"
   ]
  },
  {
   "cell_type": "code",
   "execution_count": null,
   "id": "5028adfd",
   "metadata": {},
   "outputs": [],
   "source": [
    "df_new.head()"
   ]
  },
  {
   "cell_type": "code",
   "execution_count": null,
   "id": "8b056af3",
   "metadata": {},
   "outputs": [],
   "source": [
    "df_new.info()"
   ]
  },
  {
   "cell_type": "code",
   "execution_count": null,
   "id": "059a5ad6",
   "metadata": {},
   "outputs": [],
   "source": [
    "<class 'pandas.core.frame.DataFrame'>\n",
    "Int64Index: 406829 entries, 0 to 541908\n",
    "Data columns (total 8 columns):\n",
    " #   Column        Non-Null Count   Dtype         \n",
    "---  ------        --------------   -----         \n",
    " 0   invoice_num   406829 non-null  object        \n",
    " 1   stock_code    406829 non-null  object        \n",
    " 2   description   406829 non-null  object        \n",
    " 3   quantity      406829 non-null  int64         \n",
    " 4   invoice_date  406829 non-null  datetime64[ns]\n",
    " 5   unit_price    406829 non-null  float64       \n",
    " 6   cust_id       406829 non-null  int64         \n",
    " 7   country       406829 non-null  object        \n",
    "dtypes: datetime64[ns](1), float64(1), int64(2), object(4)\n",
    "memory usage: 27.9+ MB"
   ]
  },
  {
   "cell_type": "code",
   "execution_count": null,
   "id": "27d17066",
   "metadata": {},
   "outputs": [],
   "source": [
    "df_new.describe()"
   ]
  },
  {
   "cell_type": "code",
   "execution_count": null,
   "id": "aced956c",
   "metadata": {},
   "outputs": [],
   "source": [
    "df_new.describe().round(2)"
   ]
  },
  {
   "cell_type": "code",
   "execution_count": null,
   "id": "e5e6b014",
   "metadata": {},
   "outputs": [],
   "source": [
    "values = [1, 2, 3, -4, -5, 6, 7]"
   ]
  },
  {
   "cell_type": "code",
   "execution_count": null,
   "id": "a85ed1ca",
   "metadata": {},
   "outputs": [],
   "source": [
    "for value in values:\n",
    "    print(value)"
   ]
  },
  {
   "cell_type": "code",
   "execution_count": null,
   "id": "9a5f4005",
   "metadata": {},
   "outputs": [],
   "source": [
    "1\n",
    "2\n",
    "3\n",
    "-4\n",
    "-5\n",
    "6\n",
    "7"
   ]
  },
  {
   "cell_type": "code",
   "execution_count": null,
   "id": "b98aea60",
   "metadata": {},
   "outputs": [],
   "source": [
    "for value in values:\n",
    "    if value >= 0:\n",
    "        print(value)"
   ]
  },
  {
   "cell_type": "code",
   "execution_count": null,
   "id": "31d854ab",
   "metadata": {},
   "outputs": [],
   "source": [
    "1\n",
    "2\n",
    "3\n",
    "6\n",
    "7"
   ]
  },
  {
   "cell_type": "code",
   "execution_count": null,
   "id": "f3ea755d",
   "metadata": {},
   "outputs": [],
   "source": [
    "df_new.quantity > 0"
   ]
  },
  {
   "cell_type": "code",
   "execution_count": null,
   "id": "9a5c06e2",
   "metadata": {},
   "outputs": [],
   "source": [
    "0         True\n",
    "1         True\n",
    "2         True\n",
    "3         True\n",
    "4         True\n",
    "          ... \n",
    "541904    True\n",
    "541905    True\n",
    "541906    True\n",
    "541907    True\n",
    "541908    True\n",
    "Name: quantity, Length: 406829, dtype: bool"
   ]
  },
  {
   "cell_type": "code",
   "execution_count": null,
   "id": "a10b1209",
   "metadata": {},
   "outputs": [],
   "source": [
    "con = df_new.quantity > 0"
   ]
  },
  {
   "cell_type": "code",
   "execution_count": null,
   "id": "06f83ff9",
   "metadata": {},
   "outputs": [],
   "source": [
    "df_new = df_new[con]"
   ]
  },
  {
   "cell_type": "code",
   "execution_count": null,
   "id": "d01b3333",
   "metadata": {},
   "outputs": [],
   "source": [
    "df_new.describe().round(2)"
   ]
  },
  {
   "cell_type": "code",
   "execution_count": null,
   "id": "63ff8021",
   "metadata": {},
   "outputs": [],
   "source": [
    "df_new.head()"
   ]
  },
  {
   "cell_type": "code",
   "execution_count": null,
   "id": "549f874d",
   "metadata": {},
   "outputs": [],
   "source": [
    "df_new.shape"
   ]
  },
  {
   "cell_type": "code",
   "execution_count": null,
   "id": "1cb0bcec",
   "metadata": {},
   "outputs": [],
   "source": [
    "(397924, 8)"
   ]
  },
  {
   "cell_type": "code",
   "execution_count": null,
   "id": "27a3ccee",
   "metadata": {},
   "outputs": [],
   "source": [
    "df_new['amount_spent'] = df_new['quantity'] * df_new['unit_price']"
   ]
  },
  {
   "cell_type": "code",
   "execution_count": null,
   "id": "fd1d4639",
   "metadata": {},
   "outputs": [],
   "source": [
    "df_new.head()"
   ]
  },
  {
   "cell_type": "code",
   "execution_count": null,
   "id": "6a726e97",
   "metadata": {},
   "outputs": [],
   "source": [
    "for col in df_new.columns:\n",
    "    print(col)"
   ]
  },
  {
   "cell_type": "code",
   "execution_count": null,
   "id": "3e0f090c",
   "metadata": {},
   "outputs": [],
   "source": [
    "invoice_num\n",
    "stock_code\n",
    "description\n",
    "quantity\n",
    "invoice_date\n",
    "unit_price\n",
    "cust_id\n",
    "country\n",
    "amount_spent"
   ]
  },
  {
   "cell_type": "code",
   "execution_count": null,
   "id": "e9646f6b",
   "metadata": {},
   "outputs": [],
   "source": [
    "col_order = ['invoice_num','invoice_date','stock_code','description','quantity','unit_price','amount_spent','cust_id','country']"
   ]
  },
  {
   "cell_type": "code",
   "execution_count": null,
   "id": "544507c5",
   "metadata": {},
   "outputs": [],
   "source": [
    "df_new = df_new[col_order]"
   ]
  },
  {
   "cell_type": "code",
   "execution_count": null,
   "id": "4420ff13",
   "metadata": {},
   "outputs": [],
   "source": [
    "df_new.head()"
   ]
  },
  {
   "cell_type": "code",
   "execution_count": null,
   "id": "26e5ed66",
   "metadata": {},
   "outputs": [],
   "source": [
    "df_new.shape"
   ]
  },
  {
   "cell_type": "code",
   "execution_count": null,
   "id": "5ee60b41",
   "metadata": {},
   "outputs": [],
   "source": [
    "(397924, 9)"
   ]
  },
  {
   "cell_type": "code",
   "execution_count": null,
   "id": "d1ccb61c",
   "metadata": {},
   "outputs": [],
   "source": [
    "len(df_new.columns)"
   ]
  },
  {
   "cell_type": "code",
   "execution_count": null,
   "id": "cc71043c",
   "metadata": {},
   "outputs": [],
   "source": [
    "9"
   ]
  },
  {
   "cell_type": "code",
   "execution_count": null,
   "id": "73bf688e",
   "metadata": {},
   "outputs": [],
   "source": [
    "df_new['invoice_date']"
   ]
  },
  {
   "cell_type": "code",
   "execution_count": null,
   "id": "ac571931",
   "metadata": {},
   "outputs": [],
   "source": [
    "0        2010-12-01 08:26:00\n",
    "1        2010-12-01 08:26:00\n",
    "2        2010-12-01 08:26:00\n",
    "3        2010-12-01 08:26:00\n",
    "4        2010-12-01 08:26:00\n",
    "                 ...        \n",
    "541904   2011-12-09 12:50:00\n",
    "541905   2011-12-09 12:50:00\n",
    "541906   2011-12-09 12:50:00\n",
    "541907   2011-12-09 12:50:00\n",
    "541908   2011-12-09 12:50:00\n",
    "Name: invoice_date, Length: 397924, dtype: datetime64[ns]"
   ]
  },
  {
   "cell_type": "code",
   "execution_count": null,
   "id": "ce3df8d6",
   "metadata": {},
   "outputs": [],
   "source": [
    "df_new.invoice_date"
   ]
  },
  {
   "cell_type": "code",
   "execution_count": null,
   "id": "19a25ca1",
   "metadata": {},
   "outputs": [],
   "source": [
    "0        2010-12-01 08:26:00\n",
    "1        2010-12-01 08:26:00\n",
    "2        2010-12-01 08:26:00\n",
    "3        2010-12-01 08:26:00\n",
    "4        2010-12-01 08:26:00\n",
    "                 ...        \n",
    "541904   2011-12-09 12:50:00\n",
    "541905   2011-12-09 12:50:00\n",
    "541906   2011-12-09 12:50:00\n",
    "541907   2011-12-09 12:50:00\n",
    "541908   2011-12-09 12:50:00\n",
    "Name: invoice_date, Length: 397924, dtype: datetime64[ns]"
   ]
  },
  {
   "cell_type": "code",
   "execution_count": null,
   "id": "a4aef2b5",
   "metadata": {},
   "outputs": [],
   "source": [
    "df_new['invoice_date'].dt.year"
   ]
  },
  {
   "cell_type": "code",
   "execution_count": null,
   "id": "5f403c91",
   "metadata": {},
   "outputs": [],
   "source": [
    "0         2010\n",
    "1         2010\n",
    "2         2010\n",
    "3         2010\n",
    "4         2010\n",
    "          ... \n",
    "541904    2011\n",
    "541905    2011\n",
    "541906    2011\n",
    "541907    2011\n",
    "541908    2011\n",
    "Name: invoice_date, Length: 397924, dtype: int64"
   ]
  },
  {
   "cell_type": "code",
   "execution_count": null,
   "id": "6307cbff",
   "metadata": {},
   "outputs": [],
   "source": [
    "df_new['invoice_date'].dt.month"
   ]
  },
  {
   "cell_type": "code",
   "execution_count": null,
   "id": "dfc3005c",
   "metadata": {},
   "outputs": [],
   "source": [
    "0         12\n",
    "1         12\n",
    "2         12\n",
    "3         12\n",
    "4         12\n",
    "          ..\n",
    "541904    12\n",
    "541905    12\n",
    "541906    12\n",
    "541907    12\n",
    "541908    12\n",
    "Name: invoice_date, Length: 397924, dtype: int64"
   ]
  },
  {
   "cell_type": "code",
   "execution_count": null,
   "id": "c0fdaeab",
   "metadata": {},
   "outputs": [],
   "source": [
    "df_new.head(2)"
   ]
  },
  {
   "cell_type": "code",
   "execution_count": null,
   "id": "1c146454",
   "metadata": {},
   "outputs": [],
   "source": [
    "y = 2010\n",
    "m = 12"
   ]
  },
  {
   "cell_type": "code",
   "execution_count": null,
   "id": "3966ec82",
   "metadata": {},
   "outputs": [],
   "source": [
    "y_m = 100*2010 + 12"
   ]
  },
  {
   "cell_type": "code",
   "execution_count": null,
   "id": "64bd0c63",
   "metadata": {},
   "outputs": [],
   "source": [
    "y_m"
   ]
  },
  {
   "cell_type": "code",
   "execution_count": null,
   "id": "b18b230e",
   "metadata": {},
   "outputs": [],
   "source": [
    "201012"
   ]
  },
  {
   "cell_type": "code",
   "execution_count": null,
   "id": "508a5537",
   "metadata": {},
   "outputs": [],
   "source": [
    "c1 = 'year_month'"
   ]
  },
  {
   "cell_type": "code",
   "execution_count": null,
   "id": "10f0d68d",
   "metadata": {},
   "outputs": [],
   "source": [
    "v1 = df_new['invoice_date'].map(lambda col: 100*(col.year) + col.month)"
   ]
  },
  {
   "cell_type": "code",
   "execution_count": null,
   "id": "447b32d6",
   "metadata": {},
   "outputs": [],
   "source": [
    "df_new.insert(loc = 2, column = c1, value = v1)"
   ]
  },
  {
   "cell_type": "code",
   "execution_count": null,
   "id": "62bdb683",
   "metadata": {},
   "outputs": [],
   "source": [
    "df_new"
   ]
  },
  {
   "cell_type": "code",
   "execution_count": null,
   "id": "8cc5612a",
   "metadata": {},
   "outputs": [],
   "source": [
    "df_new.head()"
   ]
  },
  {
   "cell_type": "code",
   "execution_count": null,
   "id": "e66bb6c5",
   "metadata": {},
   "outputs": [],
   "source": [
    "c2 = 'month'"
   ]
  },
  {
   "cell_type": "code",
   "execution_count": null,
   "id": "9d57940f",
   "metadata": {},
   "outputs": [],
   "source": [
    "v2 = df_new.invoice_date.dt.month"
   ]
  },
  {
   "cell_type": "code",
   "execution_count": null,
   "id": "72d7c37e",
   "metadata": {},
   "outputs": [],
   "source": [
    "df_new.insert(loc = 3, column = c2, value = v2)"
   ]
  },
  {
   "cell_type": "code",
   "execution_count": null,
   "id": "68abedba",
   "metadata": {},
   "outputs": [],
   "source": [
    "df_new.head()"
   ]
  },
  {
   "cell_type": "code",
   "execution_count": null,
   "id": "09b5c410",
   "metadata": {},
   "outputs": [],
   "source": [
    "df_new.invoice_date"
   ]
  },
  {
   "cell_type": "code",
   "execution_count": null,
   "id": "68d09cf2",
   "metadata": {},
   "outputs": [],
   "source": [
    "0        2010-12-01 08:26:00\n",
    "1        2010-12-01 08:26:00\n",
    "2        2010-12-01 08:26:00\n",
    "3        2010-12-01 08:26:00\n",
    "4        2010-12-01 08:26:00\n",
    "                 ...        \n",
    "541904   2011-12-09 12:50:00\n",
    "541905   2011-12-09 12:50:00\n",
    "541906   2011-12-09 12:50:00\n",
    "541907   2011-12-09 12:50:00\n",
    "541908   2011-12-09 12:50:00\n",
    "Name: invoice_date, Length: 397924, dtype: datetime64[ns]"
   ]
  },
  {
   "cell_type": "code",
   "execution_count": null,
   "id": "66a6539e",
   "metadata": {},
   "outputs": [],
   "source": [
    "df_new.invoice_date.dt.dayofweek"
   ]
  },
  {
   "cell_type": "code",
   "execution_count": null,
   "id": "6a24f333",
   "metadata": {},
   "outputs": [],
   "source": [
    "0         2\n",
    "1         2\n",
    "2         2\n",
    "3         2\n",
    "4         2\n",
    "         ..\n",
    "541904    4\n",
    "541905    4\n",
    "541906    4\n",
    "541907    4\n",
    "541908    4\n",
    "Name: invoice_date, Length: 397924, dtype: int64"
   ]
  },
  {
   "cell_type": "code",
   "execution_count": null,
   "id": "cbe2c19a",
   "metadata": {},
   "outputs": [],
   "source": [
    "c3 = 'day'"
   ]
  },
  {
   "cell_type": "code",
   "execution_count": null,
   "id": "5e6f5509",
   "metadata": {},
   "outputs": [],
   "source": [
    "v3 = (df_new.invoice_date.dt.dayofweek)+1"
   ]
  },
  {
   "cell_type": "code",
   "execution_count": null,
   "id": "5caa5a0c",
   "metadata": {},
   "outputs": [],
   "source": [
    "df_new.insert(loc = 4, column = c3, value = v3)"
   ]
  },
  {
   "cell_type": "code",
   "execution_count": null,
   "id": "f7d05c7d",
   "metadata": {},
   "outputs": [],
   "source": [
    "df_new.head()"
   ]
  },
  {
   "cell_type": "code",
   "execution_count": null,
   "id": "752ab9b3",
   "metadata": {},
   "outputs": [],
   "source": [
    "df_new.invoice_date"
   ]
  },
  {
   "cell_type": "code",
   "execution_count": null,
   "id": "a8ac9944",
   "metadata": {},
   "outputs": [],
   "source": [
    "0        2010-12-01 08:26:00\n",
    "1        2010-12-01 08:26:00\n",
    "2        2010-12-01 08:26:00\n",
    "3        2010-12-01 08:26:00\n",
    "4        2010-12-01 08:26:00\n",
    "                 ...        \n",
    "541904   2011-12-09 12:50:00\n",
    "541905   2011-12-09 12:50:00\n",
    "541906   2011-12-09 12:50:00\n",
    "541907   2011-12-09 12:50:00\n",
    "541908   2011-12-09 12:50:00\n",
    "Name: invoice_date, Length: 397924, dtype: datetime64[ns]"
   ]
  },
  {
   "cell_type": "code",
   "execution_count": null,
   "id": "f1b7607c",
   "metadata": {},
   "outputs": [],
   "source": [
    "# dir(df_new.invoice_date)"
   ]
  },
  {
   "cell_type": "code",
   "execution_count": null,
   "id": "f288b0f1",
   "metadata": {},
   "outputs": [],
   "source": [
    "# dir(df_new.invoice_date.dt)"
   ]
  },
  {
   "cell_type": "code",
   "execution_count": null,
   "id": "b3487680",
   "metadata": {},
   "outputs": [],
   "source": [
    "# df_new.invoice_date.dt.hour"
   ]
  },
  {
   "cell_type": "code",
   "execution_count": null,
   "id": "d234c38f",
   "metadata": {},
   "outputs": [],
   "source": [
    "c4 = \"hour\""
   ]
  },
  {
   "cell_type": "code",
   "execution_count": null,
   "id": "ec0cf862",
   "metadata": {},
   "outputs": [],
   "source": [
    "v4 = df_new.invoice_date.dt.hour"
   ]
  },
  {
   "cell_type": "code",
   "execution_count": null,
   "id": "fa13f001",
   "metadata": {},
   "outputs": [],
   "source": [
    "df_new.insert(loc = 5, column = c4, value = v4)"
   ]
  },
  {
   "cell_type": "code",
   "execution_count": null,
   "id": "04fd890c",
   "metadata": {},
   "outputs": [],
   "source": [
    "df_new.head()"
   ]
  },
  {
   "cell_type": "code",
   "execution_count": null,
   "id": "76e0456e",
   "metadata": {},
   "outputs": [],
   "source": [
    "df_new.columns"
   ]
  },
  {
   "cell_type": "code",
   "execution_count": null,
   "id": "52203b02",
   "metadata": {},
   "outputs": [],
   "source": [
    "Index(['invoice_num', 'invoice_date', 'year_month', 'month', 'day', 'hour',\n",
    "       'stock_code', 'description', 'quantity', 'unit_price', 'amount_spent',\n",
    "       'cust_id', 'country'],\n",
    "      dtype='object')"
   ]
  },
  {
   "cell_type": "code",
   "execution_count": null,
   "id": "8dc05cf7",
   "metadata": {},
   "outputs": [],
   "source": [
    "for col in df_new.columns:\n",
    "    print(col)"
   ]
  },
  {
   "cell_type": "code",
   "execution_count": null,
   "id": "c881e646",
   "metadata": {},
   "outputs": [],
   "source": [
    "invoice_num\n",
    "invoice_date\n",
    "year_month\n",
    "month\n",
    "day\n",
    "hour\n",
    "stock_code\n",
    "description\n",
    "quantity\n",
    "unit_price\n",
    "amount_spent\n",
    "cust_id\n",
    "country"
   ]
  },
  {
   "cell_type": "code",
   "execution_count": null,
   "id": "626e1fdf",
   "metadata": {},
   "outputs": [],
   "source": [
    "df_new.groupby(by = ['cust_id']).count()"
   ]
  },
  {
   "cell_type": "code",
   "execution_count": null,
   "id": "32d91e99",
   "metadata": {},
   "outputs": [],
   "source": [
    "df_new.groupby(by = ['cust_id','country']).count()"
   ]
  },
  {
   "cell_type": "code",
   "execution_count": null,
   "id": "60eefd09",
   "metadata": {},
   "outputs": [],
   "source": [
    "df_new.groupby(by = ['cust_id','country'])['invoice_num'].count()"
   ]
  },
  {
   "cell_type": "code",
   "execution_count": null,
   "id": "9ad3dece",
   "metadata": {},
   "outputs": [],
   "source": [
    "cust_id  country       \n",
    "12346    United Kingdom      1\n",
    "12347    Iceland           182\n",
    "12348    Finland            31\n",
    "12349    Italy              73\n",
    "12350    Norway             17\n",
    "                          ... \n",
    "18280    United Kingdom     10\n",
    "18281    United Kingdom      7\n",
    "18282    United Kingdom     12\n",
    "18283    United Kingdom    756\n",
    "18287    United Kingdom     70\n",
    "Name: invoice_num, Length: 4347, dtype: int64"
   ]
  },
  {
   "cell_type": "code",
   "execution_count": null,
   "id": "1aa407ed",
   "metadata": {},
   "outputs": [],
   "source": [
    "df_new.groupby(by = ['cust_id','country'], as_index = False)['invoice_num'].count()"
   ]
  },
  {
   "cell_type": "code",
   "execution_count": null,
   "id": "de670651",
   "metadata": {},
   "outputs": [],
   "source": [
    "df_new.groupby(by=['cust_id','country'], as_index=False)['invoice_num'].count().head()"
   ]
  },
  {
   "cell_type": "code",
   "execution_count": null,
   "id": "415b7fdf",
   "metadata": {},
   "outputs": [],
   "source": [
    "import matplotlib.pyplot as plt\n",
    "import seaborn as sns"
   ]
  },
  {
   "cell_type": "code",
   "execution_count": null,
   "id": "cc0a30aa",
   "metadata": {},
   "outputs": [],
   "source": [
    "df_new.groupby(by=['cust_id','country'], as_index=False)['invoice_num'].count()"
   ]
  },
  {
   "cell_type": "code",
   "execution_count": null,
   "id": "edb37330",
   "metadata": {},
   "outputs": [],
   "source": [
    "orders = df_new.groupby(by=['cust_id','country'], as_index=False)['invoice_num'].count()"
   ]
  },
  {
   "cell_type": "code",
   "execution_count": null,
   "id": "9305744d",
   "metadata": {},
   "outputs": [],
   "source": [
    "orders"
   ]
  },
  {
   "cell_type": "code",
   "execution_count": null,
   "id": "f2180cef",
   "metadata": {},
   "outputs": [],
   "source": [
    "orders.sort_values(by = 'invoice_num', ascending = False).head()"
   ]
  },
  {
   "cell_type": "code",
   "execution_count": null,
   "id": "83cc2dfa",
   "metadata": {},
   "outputs": [],
   "source": [
    "orders = df_new.groupby(by=['cust_id','country'], as_index=False)['invoice_num'].count()\n",
    "\n",
    "plt.subplots(figsize=(15,6))\n",
    "\n",
    "plt.plot(orders.cust_id, orders.invoice_num)\n",
    "\n",
    "plt.xlabel('Customers ID')\n",
    "plt.ylabel('Number of Orders')\n",
    "plt.title('Number of Orders for different Customers')\n",
    "\n",
    "plt.show()"
   ]
  },
  {
   "cell_type": "code",
   "execution_count": null,
   "id": "347a4c2a",
   "metadata": {},
   "outputs": [],
   "source": [
    "df_new.groupby(by = ['cust_id', 'country']).sum()"
   ]
  },
  {
   "cell_type": "code",
   "execution_count": null,
   "id": "522e3c16",
   "metadata": {},
   "outputs": [],
   "source": [
    "df_new.groupby(by = ['cust_id', 'country'])['amount_spent'].sum()"
   ]
  },
  {
   "cell_type": "code",
   "execution_count": null,
   "id": "e53d8d8c",
   "metadata": {},
   "outputs": [],
   "source": [
    "cust_id  country       \n",
    "12346    United Kingdom    77183.60\n",
    "12347    Iceland            4310.00\n",
    "12348    Finland            1797.24\n",
    "12349    Italy              1757.55\n",
    "12350    Norway              334.40\n",
    "                             ...   \n",
    "18280    United Kingdom      180.60\n",
    "18281    United Kingdom       80.82\n",
    "18282    United Kingdom      178.05\n",
    "18283    United Kingdom     2094.88\n",
    "18287    United Kingdom     1837.28\n",
    "Name: amount_spent, Length: 4347, dtype: float64"
   ]
  },
  {
   "cell_type": "code",
   "execution_count": null,
   "id": "97674a37",
   "metadata": {},
   "outputs": [],
   "source": [
    "df_new.groupby(by = ['cust_id', 'country'], as_index = False)['amount_spent'].sum()"
   ]
  },
  {
   "cell_type": "code",
   "execution_count": null,
   "id": "b5c4fb33",
   "metadata": {},
   "outputs": [],
   "source": [
    "money_spent = df_new.groupby(by = ['cust_id', 'country'], as_index = False)['amount_spent'].sum()"
   ]
  },
  {
   "cell_type": "code",
   "execution_count": null,
   "id": "65628a61",
   "metadata": {},
   "outputs": [],
   "source": [
    "money_spent"
   ]
  },
  {
   "cell_type": "code",
   "execution_count": null,
   "id": "34d98715",
   "metadata": {},
   "outputs": [],
   "source": [
    "money_spent.sort_values(by='amount_spent', ascending = False).head()"
   ]
  },
  {
   "cell_type": "code",
   "execution_count": null,
   "id": "87cbe352",
   "metadata": {},
   "outputs": [],
   "source": [
    "money_spent.sort_values(by='amount_spent', ascending = False).head(10)"
   ]
  },
  {
   "cell_type": "code",
   "execution_count": null,
   "id": "ce8ce98b",
   "metadata": {},
   "outputs": [],
   "source": [
    "money_spent = df_new.groupby(by=['cust_id','country'], as_index=False)['amount_spent'].sum()\n",
    "\n",
    "plt.subplots(figsize=(15,6))\n",
    "\n",
    "plt.plot(money_spent.cust_id, money_spent.amount_spent)\n",
    "\n",
    "plt.xlabel('Customers ID')\n",
    "plt.ylabel('Money spent (Dollar)')\n",
    "plt.title('Money Spent for different Customers')\n",
    "\n",
    "plt.show()"
   ]
  },
  {
   "cell_type": "code",
   "execution_count": null,
   "id": "ce9777ad",
   "metadata": {},
   "outputs": [],
   "source": [
    "df_new.head()"
   ]
  },
  {
   "cell_type": "code",
   "execution_count": null,
   "id": "89e094dd",
   "metadata": {},
   "outputs": [],
   "source": [
    "color = sns.color_palette()"
   ]
  },
  {
   "cell_type": "code",
   "execution_count": null,
   "id": "4e711c61",
   "metadata": {},
   "outputs": [],
   "source": [
    "df_new.head()"
   ]
  },
  {
   "cell_type": "code",
   "execution_count": null,
   "id": "c7d3c5ca",
   "metadata": {},
   "outputs": [],
   "source": [
    "df_new.groupby('invoice_num')"
   ]
  },
  {
   "cell_type": "code",
   "execution_count": null,
   "id": "1885eaa8",
   "metadata": {},
   "outputs": [],
   "source": [
    "<pandas.core.groupby.generic.DataFrameGroupBy object at 0x0000020AA1C60F70>"
   ]
  },
  {
   "cell_type": "code",
   "execution_count": null,
   "id": "bb1d2a0a",
   "metadata": {},
   "outputs": [],
   "source": [
    "df_new.groupby('invoice_num')['year_month']"
   ]
  },
  {
   "cell_type": "code",
   "execution_count": null,
   "id": "09ebdfac",
   "metadata": {},
   "outputs": [],
   "source": [
    "<pandas.core.groupby.generic.SeriesGroupBy object at 0x0000020AA1CB7DC0>"
   ]
  },
  {
   "cell_type": "code",
   "execution_count": null,
   "id": "dfca1efd",
   "metadata": {},
   "outputs": [],
   "source": [
    "df_new.groupby('invoice_num')['year_month'].unique()"
   ]
  },
  {
   "cell_type": "code",
   "execution_count": null,
   "id": "b7df82b2",
   "metadata": {},
   "outputs": [],
   "source": [
    "invoice_num\n",
    "536365    [201012]\n",
    "536366    [201012]\n",
    "536367    [201012]\n",
    "536368    [201012]\n",
    "536369    [201012]\n",
    "            ...   \n",
    "581583    [201112]\n",
    "581584    [201112]\n",
    "581585    [201112]\n",
    "581586    [201112]\n",
    "581587    [201112]\n",
    "Name: year_month, Length: 18536, dtype: object"
   ]
  },
  {
   "cell_type": "code",
   "execution_count": null,
   "id": "da8b0b19",
   "metadata": {},
   "outputs": [],
   "source": [
    "df_new.groupby('invoice_num')['year_month'].unique().value_counts()"
   ]
  },
  {
   "cell_type": "code",
   "execution_count": null,
   "id": "5509e3ac",
   "metadata": {},
   "outputs": [],
   "source": [
    "[201111]    2658\n",
    "[201110]    1929\n",
    "[201109]    1756\n",
    "[201105]    1555\n",
    "[201012]    1400\n",
    "[201106]    1393\n",
    "[201107]    1331\n",
    "[201103]    1321\n",
    "[201108]    1281\n",
    "[201104]    1149\n",
    "[201102]     998\n",
    "[201101]     987\n",
    "[201112]     778\n",
    "Name: year_month, dtype: int64"
   ]
  },
  {
   "cell_type": "code",
   "execution_count": null,
   "id": "aff58134",
   "metadata": {},
   "outputs": [],
   "source": [
    "df_new.groupby('invoice_num')['year_month'].unique().value_counts().sort_index()"
   ]
  },
  {
   "cell_type": "code",
   "execution_count": null,
   "id": "f567e555",
   "metadata": {},
   "outputs": [],
   "source": [
    "[201012]    1400\n",
    "[201101]     987\n",
    "[201102]     998\n",
    "[201103]    1321\n",
    "[201104]    1149\n",
    "[201105]    1555\n",
    "[201106]    1393\n",
    "[201107]    1331\n",
    "[201108]    1281\n",
    "[201109]    1756\n",
    "[201110]    1929\n",
    "[201111]    2658\n",
    "[201112]     778\n",
    "Name: year_month, dtype: int64"
   ]
  },
  {
   "cell_type": "code",
   "execution_count": null,
   "id": "91569514",
   "metadata": {},
   "outputs": [],
   "source": [
    "ax = df_new.groupby('invoice_num')['year_month'].unique().value_counts().sort_index().plot(kind = 'bar',color = color[0],figsize = (15,6))\n",
    "\n",
    "ax.set_xlabel('Month and Year',fontsize=15)\n",
    "ax.set_ylabel('Number of Orders',fontsize=15)\n",
    "ax.set_title('Number of orders for different Months (1st Dec 2010 - 9th Dec 2011)', fontsize = 15)\n",
    "\n",
    "t = ('Dec_10','Jan_11','Feb_11','Mar_11','Apr_11','May_11','Jun_11','July_11','Aug_11','Sep_11','Oct_11','Nov_11','Dec_11')\n",
    "\n",
    "ax.set_xticklabels(t, rotation='horizontal', fontsize=13)\n",
    "\n",
    "plt.show()"
   ]
  },
  {
   "cell_type": "code",
   "execution_count": null,
   "id": "394f04b3",
   "metadata": {},
   "outputs": [],
   "source": [
    "df_new.groupby('invoice_num')"
   ]
  },
  {
   "cell_type": "code",
   "execution_count": null,
   "id": "2c89f514",
   "metadata": {},
   "outputs": [],
   "source": [
    "<pandas.core.groupby.generic.DataFrameGroupBy object at 0x0000020AA1F28B50>"
   ]
  },
  {
   "cell_type": "code",
   "execution_count": null,
   "id": "9c1cf05f",
   "metadata": {},
   "outputs": [],
   "source": [
    "df_new.groupby('invoice_num')['day']"
   ]
  },
  {
   "cell_type": "code",
   "execution_count": null,
   "id": "da82828a",
   "metadata": {},
   "outputs": [],
   "source": [
    "<pandas.core.groupby.generic.SeriesGroupBy object at 0x0000020AA1F28C10>"
   ]
  },
  {
   "cell_type": "code",
   "execution_count": null,
   "id": "6fba9274",
   "metadata": {},
   "outputs": [],
   "source": [
    "df_new.groupby('invoice_num')['day'].unique()"
   ]
  },
  {
   "cell_type": "code",
   "execution_count": null,
   "id": "c2be270e",
   "metadata": {},
   "outputs": [],
   "source": [
    "invoice_num\n",
    "536365    [3]\n",
    "536366    [3]\n",
    "536367    [3]\n",
    "536368    [3]\n",
    "536369    [3]\n",
    "         ... \n",
    "581583    [5]\n",
    "581584    [5]\n",
    "581585    [5]\n",
    "581586    [5]\n",
    "581587    [5]\n",
    "Name: day, Length: 18536, dtype: object"
   ]
  },
  {
   "cell_type": "code",
   "execution_count": null,
   "id": "3de78beb",
   "metadata": {},
   "outputs": [],
   "source": [
    "df_new.groupby('invoice_num')['day'].unique().value_counts()"
   ]
  },
  {
   "cell_type": "code",
   "execution_count": null,
   "id": "e05f6dc8",
   "metadata": {},
   "outputs": [],
   "source": [
    "[4]    4033\n",
    "[3]    3455\n",
    "[2]    3185\n",
    "[1]    2863\n",
    "[5]    2831\n",
    "[7]    2169\n",
    "Name: day, dtype: int64"
   ]
  },
  {
   "cell_type": "code",
   "execution_count": null,
   "id": "7dcc3ab5",
   "metadata": {},
   "outputs": [],
   "source": [
    "df_new.groupby('invoice_num')['day'].unique().value_counts().sort_index()"
   ]
  },
  {
   "cell_type": "code",
   "execution_count": null,
   "id": "25235f3f",
   "metadata": {},
   "outputs": [],
   "source": [
    "[1]    2863\n",
    "[2]    3185\n",
    "[3]    3455\n",
    "[4]    4033\n",
    "[5]    2831\n",
    "[7]    2169\n",
    "Name: day, dtype: int64"
   ]
  },
  {
   "cell_type": "code",
   "execution_count": null,
   "id": "7a6b4561",
   "metadata": {},
   "outputs": [],
   "source": [
    "df_new.head()"
   ]
  },
  {
   "cell_type": "code",
   "execution_count": null,
   "id": "6401aa4d",
   "metadata": {},
   "outputs": [],
   "source": [
    "df_new.groupby('invoice_num')"
   ]
  },
  {
   "cell_type": "code",
   "execution_count": null,
   "id": "48e29dad",
   "metadata": {},
   "outputs": [],
   "source": [
    "<pandas.core.groupby.generic.DataFrameGroupBy object at 0x0000020AA2541070>"
   ]
  },
  {
   "cell_type": "code",
   "execution_count": null,
   "id": "c850111e",
   "metadata": {},
   "outputs": [],
   "source": [
    "df_new.groupby('invoice_num')['day']"
   ]
  },
  {
   "cell_type": "code",
   "execution_count": null,
   "id": "3850d3f9",
   "metadata": {},
   "outputs": [],
   "source": [
    "<pandas.core.groupby.generic.SeriesGroupBy object at 0x0000020AA1CE0850>"
   ]
  },
  {
   "cell_type": "code",
   "execution_count": null,
   "id": "93ca134f",
   "metadata": {},
   "outputs": [],
   "source": [
    "df_new.groupby('invoice_num')['day'].unique()"
   ]
  },
  {
   "cell_type": "code",
   "execution_count": null,
   "id": "51ef5510",
   "metadata": {},
   "outputs": [],
   "source": [
    "invoice_num\n",
    "536365    [3]\n",
    "536366    [3]\n",
    "536367    [3]\n",
    "536368    [3]\n",
    "536369    [3]\n",
    "         ... \n",
    "581583    [5]\n",
    "581584    [5]\n",
    "581585    [5]\n",
    "581586    [5]\n",
    "581587    [5]\n",
    "Name: day, Length: 18536, dtype: object"
   ]
  },
  {
   "cell_type": "code",
   "execution_count": null,
   "id": "1f6216c2",
   "metadata": {},
   "outputs": [],
   "source": [
    "df_new.groupby('invoice_num')['day'].unique().value_counts()"
   ]
  },
  {
   "cell_type": "code",
   "execution_count": null,
   "id": "774ce5cf",
   "metadata": {},
   "outputs": [],
   "source": [
    "[4]    4033\n",
    "[3]    3455\n",
    "[2]    3185\n",
    "[1]    2863\n",
    "[5]    2831\n",
    "[7]    2169\n",
    "Name: day, dtype: int64"
   ]
  },
  {
   "cell_type": "code",
   "execution_count": null,
   "id": "51f82e14",
   "metadata": {},
   "outputs": [],
   "source": [
    "df_new.groupby('invoice_num')['day'].unique().value_counts().sort_index()"
   ]
  },
  {
   "cell_type": "code",
   "execution_count": null,
   "id": "7fc28bb1",
   "metadata": {},
   "outputs": [],
   "source": [
    "[1]    2863\n",
    "[2]    3185\n",
    "[3]    3455\n",
    "[4]    4033\n",
    "[5]    2831\n",
    "[7]    2169\n",
    "Name: day, dtype: int64"
   ]
  },
  {
   "cell_type": "code",
   "execution_count": null,
   "id": "8662c94f",
   "metadata": {},
   "outputs": [],
   "source": [
    "ax = df_new.groupby('invoice_num')['day'].unique().value_counts().sort_index().plot(kind = 'bar',color=color[0],figsize=(15,6))\n",
    "\n",
    "ax.set_xlabel('Day',fontsize=15)\n",
    "ax.set_ylabel('Number of Orders',fontsize=15)\n",
    "ax.set_title('Number of orders for different Days',fontsize=15)\n",
    "d = ('Mon','Tue','Wed','Thur','Fri','Sun')\n",
    "ax.set_xticklabels(d, rotation='horizontal', fontsize=15)\n",
    "plt.show()"
   ]
  },
  {
   "cell_type": "code",
   "execution_count": null,
   "id": "a1395206",
   "metadata": {},
   "outputs": [],
   "source": [
    "df_new.unit_price.describe()"
   ]
  },
  {
   "cell_type": "code",
   "execution_count": null,
   "id": "c51528a4",
   "metadata": {},
   "outputs": [],
   "source": [
    "count    397924.000000\n",
    "mean          3.116174\n",
    "std          22.096788\n",
    "min           0.000000\n",
    "25%           1.250000\n",
    "50%           1.950000\n",
    "75%           3.750000\n",
    "max        8142.750000\n",
    "Name: unit_price, dtype: float64"
   ]
  },
  {
   "cell_type": "code",
   "execution_count": null,
   "id": "60c9b9f9",
   "metadata": {},
   "outputs": [],
   "source": [
    "# check the distribution of unit price\n",
    "plt.subplots(figsize = (12,6))\n",
    "\n",
    "sns.boxplot(df_new.unit_price)\n",
    "plt.show()"
   ]
  },
  {
   "cell_type": "code",
   "execution_count": null,
   "id": "7beeaa34",
   "metadata": {},
   "outputs": [],
   "source": [
    "df_free = df_new[df_new.unit_price == 0]"
   ]
  },
  {
   "cell_type": "code",
   "execution_count": null,
   "id": "8dde9f4e",
   "metadata": {},
   "outputs": [],
   "source": [
    "len(df_free)"
   ]
  },
  {
   "cell_type": "code",
   "execution_count": null,
   "id": "9b58dc8b",
   "metadata": {},
   "outputs": [],
   "source": [
    "40"
   ]
  },
  {
   "cell_type": "code",
   "execution_count": null,
   "id": "169cbee5",
   "metadata": {},
   "outputs": [],
   "source": [
    "df_free.year_month"
   ]
  },
  {
   "cell_type": "code",
   "execution_count": null,
   "id": "2bb8c06c",
   "metadata": {},
   "outputs": [],
   "source": [
    "9302      201012\n",
    "33576     201012\n",
    "40089     201012\n",
    "47068     201101\n",
    "47070     201101\n",
    "56674     201101\n",
    "86789     201102\n",
    "130188    201103\n",
    "139453    201103\n",
    "145208    201104\n",
    "157042    201104\n",
    "187613    201105\n",
    "198383    201105\n",
    "279324    201107\n",
    "282912    201107\n",
    "285657    201108\n",
    "298054    201108\n",
    "314745    201108\n",
    "314746    201108\n",
    "314747    201108\n",
    "314748    201108\n",
    "358655    201109\n",
    "361825    201109\n",
    "379913    201110\n",
    "395529    201110\n",
    "420404    201110\n",
    "436428    201111\n",
    "436597    201111\n",
    "436961    201111\n",
    "439361    201111\n",
    "446125    201111\n",
    "446793    201111\n",
    "446794    201111\n",
    "454463    201111\n",
    "454464    201111\n",
    "479079    201111\n",
    "479546    201111\n",
    "480649    201111\n",
    "485985    201111\n",
    "502122    201111\n",
    "Name: year_month, dtype: int64"
   ]
  },
  {
   "cell_type": "code",
   "execution_count": null,
   "id": "af2cf39b",
   "metadata": {},
   "outputs": [],
   "source": [
    "df_free.year_month.value_counts()"
   ]
  },
  {
   "cell_type": "code",
   "execution_count": null,
   "id": "d33fa3d1",
   "metadata": {},
   "outputs": [],
   "source": [
    "201111    14\n",
    "201108     6\n",
    "201012     3\n",
    "201101     3\n",
    "201110     3\n",
    "201103     2\n",
    "201104     2\n",
    "201105     2\n",
    "201107     2\n",
    "201109     2\n",
    "201102     1\n",
    "Name: year_month, dtype: int64"
   ]
  },
  {
   "cell_type": "code",
   "execution_count": null,
   "id": "9c186c6c",
   "metadata": {},
   "outputs": [],
   "source": [
    "df_free.year_month.value_counts().sort_index()"
   ]
  },
  {
   "cell_type": "code",
   "execution_count": null,
   "id": "9304c909",
   "metadata": {},
   "outputs": [],
   "source": [
    "201012     3\n",
    "201101     3\n",
    "201102     1\n",
    "201103     2\n",
    "201104     2\n",
    "201105     2\n",
    "201107     2\n",
    "201108     6\n",
    "201109     2\n",
    "201110     3\n",
    "201111    14\n",
    "Name: year_month, dtype: int64"
   ]
  },
  {
   "cell_type": "code",
   "execution_count": null,
   "id": "145947e9",
   "metadata": {},
   "outputs": [],
   "source": [
    "ax = df_free.year_month.value_counts().sort_index().plot(kind = 'bar',figsize=(12,6), color=color[0])\n",
    "ax.set_xlabel('Month',fontsize=15)\n",
    "ax.set_ylabel('Frequency',fontsize=15)\n",
    "ax.set_title('Frequency for different Months (Dec 2010 - Dec 2011)',fontsize=15)\n",
    "\n",
    "m = ('Dec_10','Jan_11','Feb_11','Mar_11','Apr_11','May_11','July_11','Aug_11','Sep_11','Oct_11','Nov_11')\n",
    "\n",
    "ax.set_xticklabels(m, rotation='horizontal', fontsize=13)\n",
    "plt.show()"
   ]
  },
  {
   "cell_type": "code",
   "execution_count": null,
   "id": "e59e6f74",
   "metadata": {},
   "outputs": [],
   "source": [
    "df_new"
   ]
  },
  {
   "cell_type": "code",
   "execution_count": null,
   "id": "0bc10100",
   "metadata": {},
   "outputs": [],
   "source": [
    "df_new.groupby('country')"
   ]
  },
  {
   "cell_type": "code",
   "execution_count": null,
   "id": "2951031c",
   "metadata": {},
   "outputs": [],
   "source": [
    "<pandas.core.groupby.generic.DataFrameGroupBy object at 0x0000020AA29C6760>"
   ]
  },
  {
   "cell_type": "code",
   "execution_count": null,
   "id": "df97b266",
   "metadata": {},
   "outputs": [],
   "source": [
    "df_new.groupby('country')['invoice_num']"
   ]
  },
  {
   "cell_type": "code",
   "execution_count": null,
   "id": "923e23c1",
   "metadata": {},
   "outputs": [],
   "source": [
    "<pandas.core.groupby.generic.SeriesGroupBy object at 0x0000020AA29C6100>"
   ]
  },
  {
   "cell_type": "code",
   "execution_count": null,
   "id": "022f1a49",
   "metadata": {},
   "outputs": [],
   "source": [
    "df_new.groupby('country')['invoice_num'].count()"
   ]
  },
  {
   "cell_type": "code",
   "execution_count": null,
   "id": "f8cef854",
   "metadata": {},
   "outputs": [],
   "source": [
    "country\n",
    "Australia                 1185\n",
    "Austria                    398\n",
    "Bahrain                     17\n",
    "Belgium                   2031\n",
    "Brazil                      32\n",
    "Canada                     151\n",
    "Channel Islands            748\n",
    "Cyprus                     614\n",
    "Czech Republic              25\n",
    "Denmark                    380\n",
    "EIRE                      7238\n",
    "European Community          60\n",
    "Finland                    685\n",
    "France                    8342\n",
    "Germany                   9042\n",
    "Greece                     145\n",
    "Iceland                    182\n",
    "Israel                     248\n",
    "Italy                      758\n",
    "Japan                      321\n",
    "Lebanon                     45\n",
    "Lithuania                   35\n",
    "Malta                      112\n",
    "Netherlands               2363\n",
    "Norway                    1072\n",
    "Poland                     330\n",
    "Portugal                  1462\n",
    "RSA                         58\n",
    "Saudi Arabia                 9\n",
    "Singapore                  222\n",
    "Spain                     2485\n",
    "Sweden                     451\n",
    "Switzerland               1842\n",
    "USA                        179\n",
    "United Arab Emirates        68\n",
    "United Kingdom          354345\n",
    "Unspecified                244\n",
    "Name: invoice_num, dtype: int64"
   ]
  },
  {
   "cell_type": "code",
   "execution_count": null,
   "id": "263beaa2",
   "metadata": {},
   "outputs": [],
   "source": [
    "df_new.groupby('country')['invoice_num'].count().sort_values()"
   ]
  },
  {
   "cell_type": "code",
   "execution_count": null,
   "id": "c0dbe1b2",
   "metadata": {},
   "outputs": [],
   "source": [
    "country\n",
    "Saudi Arabia                 9\n",
    "Bahrain                     17\n",
    "Czech Republic              25\n",
    "Brazil                      32\n",
    "Lithuania                   35\n",
    "Lebanon                     45\n",
    "RSA                         58\n",
    "European Community          60\n",
    "United Arab Emirates        68\n",
    "Malta                      112\n",
    "Greece                     145\n",
    "Canada                     151\n",
    "USA                        179\n",
    "Iceland                    182\n",
    "Singapore                  222\n",
    "Unspecified                244\n",
    "Israel                     248\n",
    "Japan                      321\n",
    "Poland                     330\n",
    "Denmark                    380\n",
    "Austria                    398\n",
    "Sweden                     451\n",
    "Cyprus                     614\n",
    "Finland                    685\n",
    "Channel Islands            748\n",
    "Italy                      758\n",
    "Norway                    1072\n",
    "Australia                 1185\n",
    "Portugal                  1462\n",
    "Switzerland               1842\n",
    "Belgium                   2031\n",
    "Netherlands               2363\n",
    "Spain                     2485\n",
    "EIRE                      7238\n",
    "France                    8342\n",
    "Germany                   9042\n",
    "United Kingdom          354345\n",
    "Name: invoice_num, dtype: int64"
   ]
  },
  {
   "cell_type": "code",
   "execution_count": null,
   "id": "681a2560",
   "metadata": {},
   "outputs": [],
   "source": [
    "group_country_orders = df_new.groupby('country')['invoice_num'].count().sort_values()\n",
    "# del group_country_orders['United Kingdom']\n",
    "\n",
    "# plot number of unique customers in each country (with UK)\n",
    "plt.subplots(figsize=(15,8))\n",
    "group_country_orders.plot(kind = 'barh', fontsize=12, color=color[0])\n",
    "plt.xlabel('Number of Orders', fontsize=12)\n",
    "plt.ylabel('Country', fontsize=12)\n",
    "plt.title('Number of Orders for different Countries', fontsize=12)\n",
    "plt.show()"
   ]
  },
  {
   "cell_type": "code",
   "execution_count": null,
   "id": "6a2618f6",
   "metadata": {},
   "outputs": [],
   "source": [
    "group_country_orders = df_new.groupby('country')['invoice_num'].count().sort_values()\n",
    "del group_country_orders['United Kingdom']\n",
    "\n",
    "# plot number of unique customers in each country (with UK)\n",
    "plt.subplots(figsize=(15,8))\n",
    "group_country_orders.plot(kind = 'barh', fontsize=12, color=color[0])\n",
    "plt.xlabel('Number of Orders', fontsize=12)\n",
    "plt.ylabel('Country', fontsize=12)\n",
    "plt.title('Number of Orders for different Countries', fontsize=12)\n",
    "plt.show()"
   ]
  },
  {
   "cell_type": "code",
   "execution_count": null,
   "id": "ff294370",
   "metadata": {},
   "outputs": [],
   "source": [
    "df_new"
   ]
  },
  {
   "cell_type": "code",
   "execution_count": null,
   "id": "6860986a",
   "metadata": {},
   "outputs": [],
   "source": [
    "df_new.groupby('country')"
   ]
  },
  {
   "cell_type": "code",
   "execution_count": null,
   "id": "9b718ab4",
   "metadata": {},
   "outputs": [],
   "source": [
    "<pandas.core.groupby.generic.DataFrameGroupBy object at 0x0000020AA2A497F0>"
   ]
  },
  {
   "cell_type": "code",
   "execution_count": null,
   "id": "aff21fd0",
   "metadata": {},
   "outputs": [],
   "source": [
    "df_new.groupby('country')['amount_spent']"
   ]
  },
  {
   "cell_type": "code",
   "execution_count": null,
   "id": "c20f15ed",
   "metadata": {},
   "outputs": [],
   "source": [
    "<pandas.core.groupby.generic.SeriesGroupBy object at 0x0000020AA2A2A0D0>"
   ]
  },
  {
   "cell_type": "code",
   "execution_count": null,
   "id": "c8fb89a1",
   "metadata": {},
   "outputs": [],
   "source": [
    "df_new.groupby('country')['amount_spent'].sum()"
   ]
  },
  {
   "cell_type": "code",
   "execution_count": null,
   "id": "36b6f2a6",
   "metadata": {},
   "outputs": [],
   "source": [
    "country\n",
    "Australia                138521.310\n",
    "Austria                   10198.680\n",
    "Bahrain                     548.400\n",
    "Belgium                   41196.340\n",
    "Brazil                     1143.600\n",
    "Canada                     3666.380\n",
    "Channel Islands           20450.440\n",
    "Cyprus                    13590.380\n",
    "Czech Republic              826.740\n",
    "Denmark                   18955.340\n",
    "EIRE                     265545.900\n",
    "European Community         1300.250\n",
    "Finland                   22546.080\n",
    "France                   209024.050\n",
    "Germany                  228867.140\n",
    "Greece                     4760.520\n",
    "Iceland                    4310.000\n",
    "Israel                     7221.690\n",
    "Italy                     17483.240\n",
    "Japan                     37416.370\n",
    "Lebanon                    1693.880\n",
    "Lithuania                  1661.060\n",
    "Malta                      2725.590\n",
    "Netherlands              285446.340\n",
    "Norway                    36165.440\n",
    "Poland                     7334.650\n",
    "Portugal                  33439.890\n",
    "RSA                        1002.310\n",
    "Saudi Arabia                145.920\n",
    "Singapore                 21279.290\n",
    "Spain                     61577.110\n",
    "Sweden                    38378.330\n",
    "Switzerland               56443.950\n",
    "USA                        3580.390\n",
    "United Arab Emirates       1902.280\n",
    "United Kingdom          7308391.554\n",
    "Unspecified                2667.070\n",
    "Name: amount_spent, dtype: float64"
   ]
  },
  {
   "cell_type": "code",
   "execution_count": null,
   "id": "7a7f1621",
   "metadata": {},
   "outputs": [],
   "source": [
    "df_new.groupby('country')['amount_spent'].sum().sort_values()"
   ]
  },
  {
   "cell_type": "code",
   "execution_count": null,
   "id": "8edb2243",
   "metadata": {},
   "outputs": [],
   "source": [
    "country\n",
    "Saudi Arabia                145.920\n",
    "Bahrain                     548.400\n",
    "Czech Republic              826.740\n",
    "RSA                        1002.310\n",
    "Brazil                     1143.600\n",
    "European Community         1300.250\n",
    "Lithuania                  1661.060\n",
    "Lebanon                    1693.880\n",
    "United Arab Emirates       1902.280\n",
    "Unspecified                2667.070\n",
    "Malta                      2725.590\n",
    "USA                        3580.390\n",
    "Canada                     3666.380\n",
    "Iceland                    4310.000\n",
    "Greece                     4760.520\n",
    "Israel                     7221.690\n",
    "Poland                     7334.650\n",
    "Austria                   10198.680\n",
    "Cyprus                    13590.380\n",
    "Italy                     17483.240\n",
    "Denmark                   18955.340\n",
    "Channel Islands           20450.440\n",
    "Singapore                 21279.290\n",
    "Finland                   22546.080\n",
    "Portugal                  33439.890\n",
    "Norway                    36165.440\n",
    "Japan                     37416.370\n",
    "Sweden                    38378.330\n",
    "Belgium                   41196.340\n",
    "Switzerland               56443.950\n",
    "Spain                     61577.110\n",
    "Australia                138521.310\n",
    "France                   209024.050\n",
    "Germany                  228867.140\n",
    "EIRE                     265545.900\n",
    "Netherlands              285446.340\n",
    "United Kingdom          7308391.554\n",
    "Name: amount_spent, dtype: float64"
   ]
  },
  {
   "cell_type": "code",
   "execution_count": null,
   "id": "50d59744",
   "metadata": {},
   "outputs": [],
   "source": [
    "group_country_amount_spent = df_new.groupby('country')['amount_spent'].sum().sort_values()\n",
    "# del group_country_orders['United Kingdom']\n",
    "\n",
    "# plot total money spent by each country (with UK)\n",
    "plt.subplots(figsize=(15,8))\n",
    "group_country_amount_spent.plot(kind = 'barh', fontsize=12, color=color[0])\n",
    "plt.xlabel('Money Spent (Dollar)', fontsize=12)\n",
    "plt.ylabel('Country', fontsize=12)\n",
    "plt.title('Money Spent by different Countries', fontsize=12)\n",
    "plt.show()"
   ]
  },
  {
   "cell_type": "code",
   "execution_count": null,
   "id": "63630e0f",
   "metadata": {},
   "outputs": [],
   "source": [
    "group_country_amount_spent = df_new.groupby('country')['amount_spent'].sum().sort_values()\n",
    "del group_country_amount_spent['United Kingdom']\n",
    "\n",
    "# plot total money spent by each country (without UK)\n",
    "plt.subplots(figsize=(15,8))\n",
    "group_country_amount_spent.plot(kind = 'barh', fontsize=12, color=color[0])\n",
    "plt.xlabel('Money Spent (Dollar)', fontsize=12)\n",
    "plt.ylabel('Country', fontsize=12)\n",
    "plt.title('Money Spent by different Countries', fontsize=12)\n",
    "plt.show()"
   ]
  }
 ],
 "metadata": {},
 "nbformat": 4,
 "nbformat_minor": 5
}
