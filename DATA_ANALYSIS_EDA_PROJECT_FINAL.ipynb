{
 "cells": [
  {
   "cell_type": "markdown",
   "id": "1a435b1a",
   "metadata": {},
   "source": [
    "Importing required libraries¶"
   ]
  },
  {
   "cell_type": "code",
   "execution_count": null,
   "id": "a2cf64a2",
   "metadata": {},
   "outputs": [],
   "source": [
    "import pandas as pd \n",
    "import numpy as np"
   ]
  },
  {
   "cell_type": "markdown",
   "id": "f13a7652",
   "metadata": {},
   "source": [
    "Loading the DataSet¶"
   ]
  },
  {
   "cell_type": "code",
   "execution_count": null,
   "id": "561e08e5",
   "metadata": {},
   "outputs": [],
   "source": [
    "df = pd.read_csv('data.csv', encoding = 'ISO-8859-1')"
   ]
  },
  {
   "cell_type": "code",
   "execution_count": null,
   "id": "f8734693",
   "metadata": {},
   "outputs": [],
   "source": [
    "# ecom_data = pd.read_csv('data.csv', encoding = 'ISO-8859-1')"
   ]
  },
  {
   "cell_type": "markdown",
   "id": "0136d64e",
   "metadata": {},
   "source": [
    "Number of rows and columns¶"
   ]
  },
  {
   "cell_type": "code",
   "execution_count": null,
   "id": "fae66964",
   "metadata": {},
   "outputs": [],
   "source": [
    "df.shape"
   ]
  },
  {
   "cell_type": "code",
   "execution_count": null,
   "id": "e325e9e1",
   "metadata": {},
   "outputs": [],
   "source": [
    "(541909, 8)"
   ]
  },
  {
   "cell_type": "markdown",
   "id": "db85ded5",
   "metadata": {},
   "source": [
    "Access first five rows¶"
   ]
  },
  {
   "cell_type": "code",
   "execution_count": null,
   "id": "eddc80f5",
   "metadata": {},
   "outputs": [],
   "source": [
    "df.head()"
   ]
  },
  {
   "cell_type": "markdown",
   "id": "68ff4011",
   "metadata": {},
   "source": [
    "Access last five rows¶"
   ]
  },
  {
   "cell_type": "code",
   "execution_count": null,
   "id": "384bc8c6",
   "metadata": {},
   "outputs": [],
   "source": [
    "df.tail()"
   ]
  },
  {
   "cell_type": "markdown",
   "id": "7bea7317",
   "metadata": {},
   "source": [
    "Displaying total columns from Dataset¶"
   ]
  },
  {
   "cell_type": "code",
   "execution_count": null,
   "id": "dcedf8d2",
   "metadata": {},
   "outputs": [],
   "source": [
    "df.columns"
   ]
  },
  {
   "cell_type": "code",
   "execution_count": null,
   "id": "afc93655",
   "metadata": {},
   "outputs": [],
   "source": [
    "Index(['InvoiceNo', 'StockCode', 'Description', 'Quantity', 'InvoiceDate',\n",
    "       'UnitPrice', 'CustomerID', 'Country'],\n",
    "      dtype='object')"
   ]
  },
  {
   "cell_type": "markdown",
   "id": "63c98b95",
   "metadata": {},
   "source": [
    "Getting all columns one by one¶"
   ]
  },
  {
   "cell_type": "code",
   "execution_count": null,
   "id": "64b4e193",
   "metadata": {},
   "outputs": [],
   "source": [
    "for column in df.columns:\n",
    "    print(column)"
   ]
  },
  {
   "cell_type": "code",
   "execution_count": null,
   "id": "073b4848",
   "metadata": {},
   "outputs": [],
   "source": [
    "InvoiceNo\n",
    "StockCode\n",
    "Description\n",
    "Quantity\n",
    "InvoiceDate\n",
    "UnitPrice\n",
    "CustomerID\n",
    "Country"
   ]
  },
  {
   "cell_type": "markdown",
   "id": "41a736a6",
   "metadata": {},
   "source": [
    "Renaming columns names¶"
   ]
  },
  {
   "cell_type": "code",
   "execution_count": null,
   "id": "6213d507",
   "metadata": {},
   "outputs": [],
   "source": [
    "d = {\n",
    "        'InvoiceNo': 'invoice_num',\n",
    "        'StockCode' : 'stock_code',\n",
    "        'Description' : 'description',\n",
    "        'Quantity' : 'quantity',\n",
    "        'InvoiceDate' : 'invoice_date',\n",
    "        'UnitPrice' : 'unit_price',\n",
    "        'CustomerID' : 'cust_id',\n",
    "        'Country' : 'country'\n",
    "}"
   ]
  },
  {
   "cell_type": "code",
   "execution_count": null,
   "id": "ecafb330",
   "metadata": {},
   "outputs": [],
   "source": [
    "d"
   ]
  },
  {
   "cell_type": "code",
   "execution_count": null,
   "id": "c1f69c84",
   "metadata": {},
   "outputs": [],
   "source": [
    "{'InvoiceNo': 'invoice_num',\n",
    " 'StockCode': 'stock_code',\n",
    " 'Description': 'description',\n",
    " 'Quantity': 'quantity',\n",
    " 'InvoiceDate': 'invoice_date',\n",
    " 'UnitPrice': 'unit_price',\n",
    " 'CustomerID': 'cust_id',\n",
    " 'Country': 'country'}"
   ]
  },
  {
   "cell_type": "code",
   "execution_count": null,
   "id": "01682be4",
   "metadata": {},
   "outputs": [],
   "source": [
    "df.rename(columns = d, inplace = True)"
   ]
  },
  {
   "cell_type": "markdown",
   "id": "102e5de4",
   "metadata": {},
   "source": [
    "After changing column names Checking new column names¶"
   ]
  },
  {
   "cell_type": "code",
   "execution_count": null,
   "id": "44010228",
   "metadata": {},
   "outputs": [],
   "source": [
    "df.columns"
   ]
  },
  {
   "cell_type": "code",
   "execution_count": null,
   "id": "d0f875ef",
   "metadata": {},
   "outputs": [],
   "source": [
    "Index(['invoice_num', 'stock_code', 'description', 'quantity', 'invoice_date',\n",
    "       'unit_price', 'cust_id', 'country'],\n",
    "      dtype='object')"
   ]
  },
  {
   "cell_type": "code",
   "execution_count": null,
   "id": "962f65ab",
   "metadata": {},
   "outputs": [],
   "source": [
    "for i in df.columns:\n",
    "    print(i)"
   ]
  },
  {
   "cell_type": "code",
   "execution_count": null,
   "id": "edb71861",
   "metadata": {},
   "outputs": [],
   "source": [
    "invoice_num\n",
    "stock_code\n",
    "description\n",
    "quantity\n",
    "invoice_date\n",
    "unit_price\n",
    "cust_id\n",
    "country"
   ]
  },
  {
   "cell_type": "markdown",
   "id": "ba489968",
   "metadata": {},
   "source": [
    "Lets check initial data¶"
   ]
  },
  {
   "cell_type": "code",
   "execution_count": null,
   "id": "56a8a482",
   "metadata": {},
   "outputs": [],
   "source": [
    "df.head()"
   ]
  },
  {
   "cell_type": "markdown",
   "id": "3ef0a1ea",
   "metadata": {},
   "source": [
    "Checking first five rows¶"
   ]
  },
  {
   "cell_type": "code",
   "execution_count": null,
   "id": "0503fde8",
   "metadata": {},
   "outputs": [],
   "source": [
    "df.head()"
   ]
  },
  {
   "cell_type": "markdown",
   "id": "7a8f808e",
   "metadata": {},
   "source": [
    "Data Cleaning¶"
   ]
  },
  {
   "cell_type": "markdown",
   "id": "9b0b5aa7",
   "metadata": {},
   "source": [
    "Checking column types¶"
   ]
  },
  {
   "cell_type": "code",
   "execution_count": null,
   "id": "31aa02b6",
   "metadata": {},
   "outputs": [],
   "source": [
    "df.dtypes"
   ]
  },
  {
   "cell_type": "code",
   "execution_count": null,
   "id": "160f8bb3",
   "metadata": {},
   "outputs": [],
   "source": [
    "invoice_num      object\n",
    "stock_code       object\n",
    "description      object\n",
    "quantity          int64\n",
    "invoice_date     object\n",
    "unit_price      float64\n",
    "cust_id         float64\n",
    "country          object\n",
    "dtype: object"
   ]
  },
  {
   "cell_type": "markdown",
   "id": "3331833a",
   "metadata": {},
   "source": [
    "DataFrame information¶"
   ]
  },
  {
   "cell_type": "code",
   "execution_count": null,
   "id": "52758f2a",
   "metadata": {},
   "outputs": [],
   "source": [
    "df.info()"
   ]
  },
  {
   "cell_type": "code",
   "execution_count": null,
   "id": "ad4e9750",
   "metadata": {},
   "outputs": [],
   "source": [
    "<class 'pandas.core.frame.DataFrame'>\n",
    "RangeIndex: 541909 entries, 0 to 541908\n",
    "Data columns (total 8 columns):\n",
    " #   Column        Non-Null Count   Dtype  \n",
    "---  ------        --------------   -----  \n",
    " 0   invoice_num   541909 non-null  object \n",
    " 1   stock_code    541909 non-null  object \n",
    " 2   description   540455 non-null  object \n",
    " 3   quantity      541909 non-null  int64  \n",
    " 4   invoice_date  541909 non-null  object \n",
    " 5   unit_price    541909 non-null  float64\n",
    " 6   cust_id       406829 non-null  float64\n",
    " 7   country       541909 non-null  object \n",
    "dtypes: float64(2), int64(1), object(5)\n",
    "memory usage: 33.1+ MB"
   ]
  },
  {
   "cell_type": "markdown",
   "id": "3e220a35",
   "metadata": {},
   "source": [
    "Checking missing values for each column¶"
   ]
  },
  {
   "cell_type": "code",
   "execution_count": null,
   "id": "95d3dbd0",
   "metadata": {},
   "outputs": [],
   "source": [
    "df.isnull()"
   ]
  },
  {
   "cell_type": "markdown",
   "id": "3e2ce45f",
   "metadata": {},
   "source": [
    "541909 rows × 8 columns"
   ]
  },
  {
   "cell_type": "markdown",
   "id": "908e1e72",
   "metadata": {},
   "source": [
    "Checkcing number of columns¶"
   ]
  },
  {
   "cell_type": "code",
   "execution_count": null,
   "id": "6e7284ef",
   "metadata": {},
   "outputs": [],
   "source": [
    "len(df.columns)"
   ]
  },
  {
   "cell_type": "code",
   "execution_count": null,
   "id": "4d6c2049",
   "metadata": {},
   "outputs": [],
   "source": [
    "8"
   ]
  },
  {
   "cell_type": "code",
   "execution_count": null,
   "id": "7e1488fb",
   "metadata": {},
   "outputs": [],
   "source": [
    "df.shape"
   ]
  },
  {
   "cell_type": "code",
   "execution_count": null,
   "id": "bd5d490c",
   "metadata": {},
   "outputs": [],
   "source": [
    "(541909, 8)"
   ]
  },
  {
   "cell_type": "markdown",
   "id": "c0aea0ab",
   "metadata": {},
   "source": [
    "Checking missing values count on each column¶"
   ]
  },
  {
   "cell_type": "code",
   "execution_count": null,
   "id": "3608fa84",
   "metadata": {},
   "outputs": [],
   "source": [
    "df.isnull().sum()"
   ]
  },
  {
   "cell_type": "code",
   "execution_count": null,
   "id": "4f81340d",
   "metadata": {},
   "outputs": [],
   "source": [
    "invoice_num          0\n",
    "stock_code           0\n",
    "description       1454\n",
    "quantity             0\n",
    "invoice_date         0\n",
    "unit_price           0\n",
    "cust_id         135080\n",
    "country              0\n",
    "dtype: int64"
   ]
  },
  {
   "cell_type": "markdown",
   "id": "bc006eba",
   "metadata": {},
   "source": [
    "Checking missing values count on each column, applying sorting¶"
   ]
  },
  {
   "cell_type": "code",
   "execution_count": null,
   "id": "c2fdd3cf",
   "metadata": {},
   "outputs": [],
   "source": [
    "df.isnull().sum().sort_values()"
   ]
  },
  {
   "cell_type": "code",
   "execution_count": null,
   "id": "108127a8",
   "metadata": {},
   "outputs": [],
   "source": [
    "invoice_num          0\n",
    "stock_code           0\n",
    "quantity             0\n",
    "invoice_date         0\n",
    "unit_price           0\n",
    "country              0\n",
    "description       1454\n",
    "cust_id         135080\n",
    "dtype: int64"
   ]
  },
  {
   "cell_type": "code",
   "execution_count": null,
   "id": "451e4d58",
   "metadata": {},
   "outputs": [],
   "source": [
    "df.isnull().sum().sort_values(ascending = False)"
   ]
  },
  {
   "cell_type": "code",
   "execution_count": null,
   "id": "42357dc1",
   "metadata": {},
   "outputs": [],
   "source": [
    "cust_id         135080\n",
    "description       1454\n",
    "invoice_num          0\n",
    "stock_code           0\n",
    "quantity             0\n",
    "invoice_date         0\n",
    "unit_price           0\n",
    "country              0\n",
    "dtype: int64"
   ]
  },
  {
   "cell_type": "markdown",
   "id": "c0013e48",
   "metadata": {},
   "source": [
    "Checking type of invoice_date column¶"
   ]
  },
  {
   "cell_type": "code",
   "execution_count": null,
   "id": "7e879f96",
   "metadata": {},
   "outputs": [],
   "source": [
    "df.dtypes"
   ]
  },
  {
   "cell_type": "code",
   "execution_count": null,
   "id": "85b646fc",
   "metadata": {},
   "outputs": [],
   "source": [
    "invoice_num      object\n",
    "stock_code       object\n",
    "description      object\n",
    "quantity          int64\n",
    "invoice_date     object\n",
    "unit_price      float64\n",
    "cust_id         float64\n",
    "country          object\n",
    "dtype: object"
   ]
  },
  {
   "cell_type": "markdown",
   "id": "84ac57d5",
   "metadata": {},
   "source": [
    "Access intial data¶"
   ]
  },
  {
   "cell_type": "code",
   "execution_count": null,
   "id": "5abd7eaf",
   "metadata": {},
   "outputs": [],
   "source": [
    "df.head(2)"
   ]
  },
  {
   "cell_type": "markdown",
   "id": "76c45bfb",
   "metadata": {},
   "source": [
    "Converting invoice_date data type into datatime data type¶"
   ]
  },
  {
   "cell_type": "code",
   "execution_count": null,
   "id": "69b67441",
   "metadata": {},
   "outputs": [],
   "source": [
    "df['invoice_date'] = pd.to_datetime(df.invoice_date, format='%m/%d/%Y %H:%M')"
   ]
  },
  {
   "cell_type": "markdown",
   "id": "3e2102f4",
   "metadata": {},
   "source": [
    "Checking type of invoice_date¶"
   ]
  },
  {
   "cell_type": "code",
   "execution_count": null,
   "id": "b3f1a9b8",
   "metadata": {},
   "outputs": [],
   "source": [
    "df.dtypes"
   ]
  },
  {
   "cell_type": "code",
   "execution_count": null,
   "id": "53a98a00",
   "metadata": {},
   "outputs": [],
   "source": [
    "invoice_num             object\n",
    "stock_code              object\n",
    "description             object\n",
    "quantity                 int64\n",
    "invoice_date    datetime64[ns]\n",
    "unit_price             float64\n",
    "cust_id                float64\n",
    "country                 object\n",
    "dtype: object"
   ]
  },
  {
   "cell_type": "code",
   "execution_count": null,
   "id": "6eaf3d78",
   "metadata": {},
   "outputs": [],
   "source": [
    "df.head()"
   ]
  },
  {
   "cell_type": "markdown",
   "id": "b1b59575",
   "metadata": {},
   "source": [
    "Let us check description column¶"
   ]
  },
  {
   "cell_type": "code",
   "execution_count": null,
   "id": "0618f316",
   "metadata": {},
   "outputs": [],
   "source": [
    "df.description"
   ]
  },
  {
   "cell_type": "code",
   "execution_count": null,
   "id": "87971884",
   "metadata": {},
   "outputs": [],
   "source": [
    "0          WHITE HANGING HEART T-LIGHT HOLDER\n",
    "1                         WHITE METAL LANTERN\n",
    "2              CREAM CUPID HEARTS COAT HANGER\n",
    "3         KNITTED UNION FLAG HOT WATER BOTTLE\n",
    "4              RED WOOLLY HOTTIE WHITE HEART.\n",
    "                         ...                 \n",
    "541904            PACK OF 20 SPACEBOY NAPKINS\n",
    "541905           CHILDREN'S APRON DOLLY GIRL \n",
    "541906          CHILDRENS CUTLERY DOLLY GIRL \n",
    "541907        CHILDRENS CUTLERY CIRCUS PARADE\n",
    "541908          BAKING SET 9 PIECE RETROSPOT \n",
    "Name: description, Length: 541909, dtype: object"
   ]
  },
  {
   "cell_type": "markdown",
   "id": "64c869be",
   "metadata": {},
   "source": [
    "We need to call lower() method¶"
   ]
  },
  {
   "cell_type": "code",
   "execution_count": null,
   "id": "7bbcdd85",
   "metadata": {},
   "outputs": [],
   "source": [
    "df.description.str.lower()"
   ]
  },
  {
   "cell_type": "code",
   "execution_count": null,
   "id": "55744dac",
   "metadata": {},
   "outputs": [],
   "source": [
    "0          white hanging heart t-light holder\n",
    "1                         white metal lantern\n",
    "2              cream cupid hearts coat hanger\n",
    "3         knitted union flag hot water bottle\n",
    "4              red woolly hottie white heart.\n",
    "                         ...                 \n",
    "541904            pack of 20 spaceboy napkins\n",
    "541905           children's apron dolly girl \n",
    "541906          childrens cutlery dolly girl \n",
    "541907        childrens cutlery circus parade\n",
    "541908          baking set 9 piece retrospot \n",
    "Name: description, Length: 541909, dtype: object"
   ]
  },
  {
   "cell_type": "code",
   "execution_count": null,
   "id": "abac7f71",
   "metadata": {},
   "outputs": [],
   "source": [
    "df.head(3)"
   ]
  },
  {
   "cell_type": "code",
   "execution_count": null,
   "id": "570dd888",
   "metadata": {},
   "outputs": [],
   "source": [
    "df['description'] = df.description.str.lower()"
   ]
  },
  {
   "cell_type": "code",
   "execution_count": null,
   "id": "b109267b",
   "metadata": {},
   "outputs": [],
   "source": [
    "df.head()"
   ]
  },
  {
   "cell_type": "markdown",
   "id": "2bc12c66",
   "metadata": {},
   "source": [
    "Missing values¶"
   ]
  },
  {
   "cell_type": "markdown",
   "id": "515f065d",
   "metadata": {},
   "source": [
    "Based on team meeting/client discussion we will need to perform accordingly¶"
   ]
  },
  {
   "cell_type": "code",
   "execution_count": null,
   "id": "1e94447a",
   "metadata": {},
   "outputs": [],
   "source": [
    "df.isnull().sum().sort_values(ascending = False)"
   ]
  },
  {
   "cell_type": "code",
   "execution_count": null,
   "id": "68114f74",
   "metadata": {},
   "outputs": [],
   "source": [
    "cust_id         135080\n",
    "description       1454\n",
    "invoice_num          0\n",
    "stock_code           0\n",
    "quantity             0\n",
    "invoice_date         0\n",
    "unit_price           0\n",
    "country              0\n",
    "dtype: int64"
   ]
  },
  {
   "cell_type": "markdown",
   "id": "643b72d2",
   "metadata": {},
   "source": [
    "Dropping missing values¶"
   ]
  },
  {
   "cell_type": "code",
   "execution_count": null,
   "id": "e913df0a",
   "metadata": {},
   "outputs": [],
   "source": [
    "df_new = df.dropna()"
   ]
  },
  {
   "cell_type": "markdown",
   "id": "baf29589",
   "metadata": {},
   "source": [
    "After dropping missing values then again Checking missing values for each columns¶"
   ]
  },
  {
   "cell_type": "code",
   "execution_count": null,
   "id": "26f52023",
   "metadata": {},
   "outputs": [],
   "source": [
    "df_new.isnull().sum()"
   ]
  },
  {
   "cell_type": "code",
   "execution_count": null,
   "id": "c19aa997",
   "metadata": {},
   "outputs": [],
   "source": [
    "invoice_num     0\n",
    "stock_code      0\n",
    "description     0\n",
    "quantity        0\n",
    "invoice_date    0\n",
    "unit_price      0\n",
    "cust_id         0\n",
    "country         0\n",
    "dtype: int64"
   ]
  },
  {
   "cell_type": "markdown",
   "id": "d0b08a12",
   "metadata": {},
   "source": [
    "DataFrame information¶"
   ]
  },
  {
   "cell_type": "code",
   "execution_count": null,
   "id": "39e21e29",
   "metadata": {},
   "outputs": [],
   "source": [
    "df_new.info()"
   ]
  },
  {
   "cell_type": "code",
   "execution_count": null,
   "id": "cb0ad752",
   "metadata": {},
   "outputs": [],
   "source": [
    "<class 'pandas.core.frame.DataFrame'>\n",
    "Int64Index: 406829 entries, 0 to 541908\n",
    "Data columns (total 8 columns):\n",
    " #   Column        Non-Null Count   Dtype         \n",
    "---  ------        --------------   -----         \n",
    " 0   invoice_num   406829 non-null  object        \n",
    " 1   stock_code    406829 non-null  object        \n",
    " 2   description   406829 non-null  object        \n",
    " 3   quantity      406829 non-null  int64         \n",
    " 4   invoice_date  406829 non-null  datetime64[ns]\n",
    " 5   unit_price    406829 non-null  float64       \n",
    " 6   cust_id       406829 non-null  float64       \n",
    " 7   country       406829 non-null  object        \n",
    "dtypes: datetime64[ns](1), float64(2), int64(1), object(4)\n",
    "memory usage: 27.9+ MB"
   ]
  },
  {
   "cell_type": "code",
   "execution_count": null,
   "id": "d0a6baa3",
   "metadata": {},
   "outputs": [],
   "source": [
    "df_new.head()"
   ]
  },
  {
   "cell_type": "markdown",
   "id": "53e7f980",
   "metadata": {},
   "source": [
    "Check type of cust_id data type¶"
   ]
  },
  {
   "cell_type": "code",
   "execution_count": null,
   "id": "d26ff7ae",
   "metadata": {},
   "outputs": [],
   "source": [
    "df_new.dtypes"
   ]
  },
  {
   "cell_type": "code",
   "execution_count": null,
   "id": "09cb9a2e",
   "metadata": {},
   "outputs": [],
   "source": [
    "invoice_num             object\n",
    "stock_code              object\n",
    "description             object\n",
    "quantity                 int64\n",
    "invoice_date    datetime64[ns]\n",
    "unit_price             float64\n",
    "cust_id                float64\n",
    "country                 object\n",
    "dtype: object"
   ]
  },
  {
   "cell_type": "markdown",
   "id": "61f3d53e",
   "metadata": {},
   "source": [
    "Converting cust_id float type into integer type¶"
   ]
  },
  {
   "cell_type": "code",
   "execution_count": null,
   "id": "d0fde4e5",
   "metadata": {},
   "outputs": [],
   "source": [
    "df_new['cust_id']"
   ]
  },
  {
   "cell_type": "code",
   "execution_count": null,
   "id": "65416aed",
   "metadata": {},
   "outputs": [],
   "source": [
    "0         17850.0\n",
    "1         17850.0\n",
    "2         17850.0\n",
    "3         17850.0\n",
    "4         17850.0\n",
    "           ...   \n",
    "541904    12680.0\n",
    "541905    12680.0\n",
    "541906    12680.0\n",
    "541907    12680.0\n",
    "541908    12680.0\n",
    "Name: cust_id, Length: 406829, dtype: float64"
   ]
  },
  {
   "cell_type": "markdown",
   "id": "b561e8de",
   "metadata": {},
   "source": [
    "Ignoring warnings in jupyter¶"
   ]
  },
  {
   "cell_type": "code",
   "execution_count": null,
   "id": "8dd9ed26",
   "metadata": {},
   "outputs": [],
   "source": [
    "import warnings\n",
    "warnings.filterwarnings('ignore')"
   ]
  },
  {
   "cell_type": "code",
   "execution_count": null,
   "id": "13942eea",
   "metadata": {},
   "outputs": [],
   "source": [
    "df_new['cust_id'] = df_new['cust_id'].astype('int64')"
   ]
  },
  {
   "cell_type": "markdown",
   "id": "598cf320",
   "metadata": {},
   "source": [
    "Accessing first five rows¶"
   ]
  },
  {
   "cell_type": "code",
   "execution_count": null,
   "id": "a1139905",
   "metadata": {},
   "outputs": [],
   "source": [
    "df_new.head()"
   ]
  },
  {
   "cell_type": "markdown",
   "id": "3e4a68fd",
   "metadata": {},
   "source": [
    "New DataFrame information¶"
   ]
  },
  {
   "cell_type": "code",
   "execution_count": null,
   "id": "c7871ac0",
   "metadata": {},
   "outputs": [],
   "source": [
    "df_new.info()"
   ]
  },
  {
   "cell_type": "code",
   "execution_count": null,
   "id": "b666b3c3",
   "metadata": {},
   "outputs": [],
   "source": [
    "<class 'pandas.core.frame.DataFrame'>\n",
    "Int64Index: 406829 entries, 0 to 541908\n",
    "Data columns (total 8 columns):\n",
    " #   Column        Non-Null Count   Dtype         \n",
    "---  ------        --------------   -----         \n",
    " 0   invoice_num   406829 non-null  object        \n",
    " 1   stock_code    406829 non-null  object        \n",
    " 2   description   406829 non-null  object        \n",
    " 3   quantity      406829 non-null  int64         \n",
    " 4   invoice_date  406829 non-null  datetime64[ns]\n",
    " 5   unit_price    406829 non-null  float64       \n",
    " 6   cust_id       406829 non-null  int64         \n",
    " 7   country       406829 non-null  object        \n",
    "dtypes: datetime64[ns](1), float64(1), int64(2), object(4)\n",
    "memory usage: 27.9+ MB"
   ]
  },
  {
   "cell_type": "markdown",
   "id": "5f93bab8",
   "metadata": {},
   "source": [
    "DataFrame description¶"
   ]
  },
  {
   "cell_type": "code",
   "execution_count": null,
   "id": "07e97897",
   "metadata": {},
   "outputs": [],
   "source": [
    "df_new.describe()"
   ]
  },
  {
   "cell_type": "markdown",
   "id": "1098def6",
   "metadata": {},
   "source": [
    "Rounding the values in DataFrame¶"
   ]
  },
  {
   "cell_type": "code",
   "execution_count": null,
   "id": "d9964ae2",
   "metadata": {},
   "outputs": [],
   "source": [
    "df_new.describe().round(2)"
   ]
  },
  {
   "cell_type": "markdown",
   "id": "39610319",
   "metadata": {},
   "source": [
    "Let us do some analysis¶"
   ]
  },
  {
   "cell_type": "markdown",
   "id": "65569651",
   "metadata": {},
   "source": [
    "Conclusion is: quantity column having negative values¶"
   ]
  },
  {
   "cell_type": "markdown",
   "id": "68bd7387",
   "metadata": {},
   "source": [
    "So, we need to remove/delete negative values¶"
   ]
  },
  {
   "cell_type": "markdown",
   "id": "305564e9",
   "metadata": {},
   "source": [
    "Example to delete negative values from list object¶"
   ]
  },
  {
   "cell_type": "code",
   "execution_count": null,
   "id": "3639be0d",
   "metadata": {},
   "outputs": [],
   "source": [
    "values = [1, 2, 3, -4, -5, 6, 7]"
   ]
  },
  {
   "cell_type": "code",
   "execution_count": null,
   "id": "2813dad2",
   "metadata": {},
   "outputs": [],
   "source": [
    "for value in values:\n",
    "    print(value)"
   ]
  },
  {
   "cell_type": "code",
   "execution_count": null,
   "id": "e09c2a15",
   "metadata": {},
   "outputs": [],
   "source": [
    "1\n",
    "2\n",
    "3\n",
    "-4\n",
    "-5\n",
    "6\n",
    "7"
   ]
  },
  {
   "cell_type": "code",
   "execution_count": null,
   "id": "8e6a0f6e",
   "metadata": {},
   "outputs": [],
   "source": [
    "for value in values:\n",
    "    if value >= 0:\n",
    "        print(value)"
   ]
  },
  {
   "cell_type": "code",
   "execution_count": null,
   "id": "848df1c7",
   "metadata": {},
   "outputs": [],
   "source": [
    "1\n",
    "2\n",
    "3\n",
    "6\n",
    "7"
   ]
  },
  {
   "cell_type": "markdown",
   "id": "a5f9e9ad",
   "metadata": {},
   "source": [
    "Remove negative values from quantity column¶"
   ]
  },
  {
   "cell_type": "code",
   "execution_count": null,
   "id": "94d1059b",
   "metadata": {},
   "outputs": [],
   "source": [
    "df_new.quantity > 0"
   ]
  },
  {
   "cell_type": "code",
   "execution_count": null,
   "id": "5ebbbbab",
   "metadata": {},
   "outputs": [],
   "source": [
    "0         True\n",
    "1         True\n",
    "2         True\n",
    "3         True\n",
    "4         True\n",
    "          ... \n",
    "541904    True\n",
    "541905    True\n",
    "541906    True\n",
    "541907    True\n",
    "541908    True\n",
    "Name: quantity, Length: 406829, dtype: bool"
   ]
  },
  {
   "cell_type": "code",
   "execution_count": null,
   "id": "e6c46239",
   "metadata": {},
   "outputs": [],
   "source": [
    "con = df_new.quantity > 0"
   ]
  },
  {
   "cell_type": "code",
   "execution_count": null,
   "id": "78748029",
   "metadata": {},
   "outputs": [],
   "source": [
    "df_new = df_new[con]"
   ]
  },
  {
   "cell_type": "code",
   "execution_count": null,
   "id": "5358cc23",
   "metadata": {},
   "outputs": [],
   "source": [
    "df_new.describe().round(2)"
   ]
  },
  {
   "cell_type": "markdown",
   "id": "1a416286",
   "metadata": {},
   "source": [
    "Access initial Data¶"
   ]
  },
  {
   "cell_type": "code",
   "execution_count": null,
   "id": "81561236",
   "metadata": {},
   "outputs": [],
   "source": [
    "df_new.head()"
   ]
  },
  {
   "cell_type": "markdown",
   "id": "0ba83a00",
   "metadata": {},
   "source": [
    "Checking total number of rows and columns¶"
   ]
  },
  {
   "cell_type": "code",
   "execution_count": null,
   "id": "c66adca4",
   "metadata": {},
   "outputs": [],
   "source": [
    "df_new.shape"
   ]
  },
  {
   "cell_type": "code",
   "execution_count": null,
   "id": "7148e5a2",
   "metadata": {},
   "outputs": [],
   "source": [
    "(397924, 8)"
   ]
  },
  {
   "cell_type": "markdown",
   "id": "db6e3727",
   "metadata": {},
   "source": [
    "Adding the column  - amount_spent¶"
   ]
  },
  {
   "cell_type": "code",
   "execution_count": null,
   "id": "0a15cf79",
   "metadata": {},
   "outputs": [],
   "source": [
    "df_new['amount_spent'] = df_new['quantity'] * df_new['unit_price']"
   ]
  },
  {
   "cell_type": "code",
   "execution_count": null,
   "id": "0ce59fa8",
   "metadata": {},
   "outputs": [],
   "source": [
    "df_new.head()"
   ]
  },
  {
   "cell_type": "markdown",
   "id": "df521926",
   "metadata": {},
   "source": [
    "Lets read the column names from DataFrame¶"
   ]
  },
  {
   "cell_type": "code",
   "execution_count": null,
   "id": "d7b3fdaf",
   "metadata": {},
   "outputs": [],
   "source": [
    "for col in df_new.columns:\n",
    "    print(col)"
   ]
  },
  {
   "cell_type": "code",
   "execution_count": null,
   "id": "b7938d0a",
   "metadata": {},
   "outputs": [],
   "source": [
    "invoice_num\n",
    "stock_code\n",
    "description\n",
    "quantity\n",
    "invoice_date\n",
    "unit_price\n",
    "cust_id\n",
    "country\n",
    "amount_spent"
   ]
  },
  {
   "cell_type": "markdown",
   "id": "0d7a98b5",
   "metadata": {},
   "source": [
    "Rearranging columns for more readability¶"
   ]
  },
  {
   "cell_type": "code",
   "execution_count": null,
   "id": "b16c7e3e",
   "metadata": {},
   "outputs": [],
   "source": [
    "col_order = ['invoice_num','invoice_date','stock_code','description','quantity','unit_price','amount_spent','cust_id','country']"
   ]
  },
  {
   "cell_type": "code",
   "execution_count": null,
   "id": "4cf23a85",
   "metadata": {},
   "outputs": [],
   "source": [
    "df_new = df_new[col_order]"
   ]
  },
  {
   "cell_type": "markdown",
   "id": "c73c4253",
   "metadata": {},
   "source": [
    "Access initial data¶"
   ]
  },
  {
   "cell_type": "code",
   "execution_count": null,
   "id": "13dfaf2a",
   "metadata": {},
   "outputs": [],
   "source": [
    "df_new.head()"
   ]
  },
  {
   "cell_type": "markdown",
   "id": "8a0d60dd",
   "metadata": {},
   "source": [
    "Number of rows and columns¶"
   ]
  },
  {
   "cell_type": "code",
   "execution_count": null,
   "id": "74d0bcf1",
   "metadata": {},
   "outputs": [],
   "source": [
    "df_new.shape"
   ]
  },
  {
   "cell_type": "code",
   "execution_count": null,
   "id": "efe7ee0b",
   "metadata": {},
   "outputs": [],
   "source": [
    "(397924, 9)"
   ]
  },
  {
   "cell_type": "markdown",
   "id": "953f7fc8",
   "metadata": {},
   "source": [
    "Let us do analysis on invoice_date column¶"
   ]
  },
  {
   "cell_type": "markdown",
   "id": "56c0a1ab",
   "metadata": {},
   "source": [
    "number of columns in the dataset¶"
   ]
  },
  {
   "cell_type": "code",
   "execution_count": null,
   "id": "b484678d",
   "metadata": {},
   "outputs": [],
   "source": [
    "len(df_new.columns)"
   ]
  },
  {
   "cell_type": "code",
   "execution_count": null,
   "id": "3d9f25df",
   "metadata": {},
   "outputs": [],
   "source": [
    "9"
   ]
  },
  {
   "cell_type": "markdown",
   "id": "81220598",
   "metadata": {},
   "source": [
    "Accessing invoice_date column¶"
   ]
  },
  {
   "cell_type": "markdown",
   "id": "8bbb8d8a",
   "metadata": {},
   "source": [
    "Method - 1 to access column¶"
   ]
  },
  {
   "cell_type": "code",
   "execution_count": null,
   "id": "5f657df1",
   "metadata": {},
   "outputs": [],
   "source": [
    "df_new['invoice_date']"
   ]
  },
  {
   "cell_type": "code",
   "execution_count": null,
   "id": "c4255d3a",
   "metadata": {},
   "outputs": [],
   "source": [
    "0        2010-12-01 08:26:00\n",
    "1        2010-12-01 08:26:00\n",
    "2        2010-12-01 08:26:00\n",
    "3        2010-12-01 08:26:00\n",
    "4        2010-12-01 08:26:00\n",
    "                 ...        \n",
    "541904   2011-12-09 12:50:00\n",
    "541905   2011-12-09 12:50:00\n",
    "541906   2011-12-09 12:50:00\n",
    "541907   2011-12-09 12:50:00\n",
    "541908   2011-12-09 12:50:00\n",
    "Name: invoice_date, Length: 397924, dtype: datetime64[ns]"
   ]
  },
  {
   "cell_type": "markdown",
   "id": "2eb46cab",
   "metadata": {},
   "source": [
    "Method - 2 to access column¶"
   ]
  },
  {
   "cell_type": "code",
   "execution_count": null,
   "id": "ac0bd1ca",
   "metadata": {},
   "outputs": [],
   "source": [
    "df_new.invoice_date"
   ]
  },
  {
   "cell_type": "code",
   "execution_count": null,
   "id": "fd116200",
   "metadata": {},
   "outputs": [],
   "source": [
    "0        2010-12-01 08:26:00\n",
    "1        2010-12-01 08:26:00\n",
    "2        2010-12-01 08:26:00\n",
    "3        2010-12-01 08:26:00\n",
    "4        2010-12-01 08:26:00\n",
    "                 ...        \n",
    "541904   2011-12-09 12:50:00\n",
    "541905   2011-12-09 12:50:00\n",
    "541906   2011-12-09 12:50:00\n",
    "541907   2011-12-09 12:50:00\n",
    "541908   2011-12-09 12:50:00\n",
    "Name: invoice_date, Length: 397924, dtype: datetime64[ns]"
   ]
  },
  {
   "cell_type": "markdown",
   "id": "91644bd8",
   "metadata": {},
   "source": [
    "Accessing year value from invoice_date¶"
   ]
  },
  {
   "cell_type": "code",
   "execution_count": null,
   "id": "3fb1f0ee",
   "metadata": {},
   "outputs": [],
   "source": [
    "df_new['invoice_date'].dt.year"
   ]
  },
  {
   "cell_type": "code",
   "execution_count": null,
   "id": "9de707b5",
   "metadata": {},
   "outputs": [],
   "source": [
    "0         2010\n",
    "1         2010\n",
    "2         2010\n",
    "3         2010\n",
    "4         2010\n",
    "          ... \n",
    "541904    2011\n",
    "541905    2011\n",
    "541906    2011\n",
    "541907    2011\n",
    "541908    2011\n",
    "Name: invoice_date, Length: 397924, dtype: int64"
   ]
  },
  {
   "cell_type": "markdown",
   "id": "b9bdc07b",
   "metadata": {},
   "source": [
    "Accessing month value from invoice_date¶"
   ]
  },
  {
   "cell_type": "code",
   "execution_count": null,
   "id": "ac92d198",
   "metadata": {},
   "outputs": [],
   "source": [
    "df_new['invoice_date'].dt.month"
   ]
  },
  {
   "cell_type": "code",
   "execution_count": null,
   "id": "e270fe46",
   "metadata": {},
   "outputs": [],
   "source": [
    "0         12\n",
    "1         12\n",
    "2         12\n",
    "3         12\n",
    "4         12\n",
    "          ..\n",
    "541904    12\n",
    "541905    12\n",
    "541906    12\n",
    "541907    12\n",
    "541908    12\n",
    "Name: invoice_date, Length: 397924, dtype: int64"
   ]
  },
  {
   "cell_type": "markdown",
   "id": "1f8174da",
   "metadata": {},
   "source": [
    "Access initial Data¶"
   ]
  },
  {
   "cell_type": "code",
   "execution_count": null,
   "id": "78cc8af9",
   "metadata": {},
   "outputs": [],
   "source": [
    "df_new.head(2)"
   ]
  },
  {
   "cell_type": "markdown",
   "id": "f254622f",
   "metadata": {},
   "source": [
    "Lets insert year_month colum in 2nd position¶"
   ]
  },
  {
   "cell_type": "markdown",
   "id": "2b805908",
   "metadata": {},
   "source": [
    "Need to restart from here¶"
   ]
  },
  {
   "cell_type": "markdown",
   "id": "b5b6841c",
   "metadata": {},
   "source": [
    "small calculation¶"
   ]
  },
  {
   "cell_type": "code",
   "execution_count": null,
   "id": "4440745b",
   "metadata": {},
   "outputs": [],
   "source": [
    "y = 2010\n",
    "m = 12"
   ]
  },
  {
   "cell_type": "code",
   "execution_count": null,
   "id": "a342d1e5",
   "metadata": {},
   "outputs": [],
   "source": [
    "y_m = 100*2010 + 12"
   ]
  },
  {
   "cell_type": "code",
   "execution_count": null,
   "id": "f88516b0",
   "metadata": {},
   "outputs": [],
   "source": [
    "y_m"
   ]
  },
  {
   "cell_type": "code",
   "execution_count": null,
   "id": "9cbb32c4",
   "metadata": {},
   "outputs": [],
   "source": [
    "201012"
   ]
  },
  {
   "cell_type": "code",
   "execution_count": null,
   "id": "6e38d267",
   "metadata": {},
   "outputs": [],
   "source": [
    "c1 = 'year_month'"
   ]
  },
  {
   "cell_type": "code",
   "execution_count": null,
   "id": "a8544afe",
   "metadata": {},
   "outputs": [],
   "source": [
    "v1 = df_new['invoice_date'].map(lambda col: 100*(col.year) + col.month)"
   ]
  },
  {
   "cell_type": "code",
   "execution_count": null,
   "id": "9756d383",
   "metadata": {},
   "outputs": [],
   "source": [
    "df_new.insert(loc = 2, column = c1, value = v1)"
   ]
  },
  {
   "cell_type": "code",
   "execution_count": null,
   "id": "8c068a12",
   "metadata": {},
   "outputs": [],
   "source": [
    "df_new"
   ]
  },
  {
   "cell_type": "markdown",
   "id": "c2b7b94e",
   "metadata": {},
   "source": [
    "397924 rows × 10 columns"
   ]
  },
  {
   "cell_type": "markdown",
   "id": "9f18124f",
   "metadata": {},
   "source": [
    "Access initial data¶"
   ]
  },
  {
   "cell_type": "code",
   "execution_count": null,
   "id": "70692e39",
   "metadata": {},
   "outputs": [],
   "source": [
    "df_new.head()"
   ]
  },
  {
   "cell_type": "markdown",
   "id": "45482d19",
   "metadata": {},
   "source": [
    "Adding month column to the exisint DataFrame¶"
   ]
  },
  {
   "cell_type": "code",
   "execution_count": null,
   "id": "f641f354",
   "metadata": {},
   "outputs": [],
   "source": [
    "c2 = 'month'"
   ]
  },
  {
   "cell_type": "code",
   "execution_count": null,
   "id": "35f4214e",
   "metadata": {},
   "outputs": [],
   "source": [
    "v2 = df_new.invoice_date.dt.month"
   ]
  },
  {
   "cell_type": "code",
   "execution_count": null,
   "id": "25d53f78",
   "metadata": {},
   "outputs": [],
   "source": [
    "df_new.insert(loc = 3, column = c2, value = v2)"
   ]
  },
  {
   "cell_type": "code",
   "execution_count": null,
   "id": "905a1c2f",
   "metadata": {},
   "outputs": [],
   "source": [
    "df_new.head()"
   ]
  },
  {
   "cell_type": "markdown",
   "id": "83080e89",
   "metadata": {},
   "source": [
    "Lets access invoice_date column¶"
   ]
  },
  {
   "cell_type": "code",
   "execution_count": null,
   "id": "6fb2c3ee",
   "metadata": {},
   "outputs": [],
   "source": [
    "df_new.invoice_date"
   ]
  },
  {
   "cell_type": "code",
   "execution_count": null,
   "id": "273b8bab",
   "metadata": {},
   "outputs": [],
   "source": [
    "0        2010-12-01 08:26:00\n",
    "1        2010-12-01 08:26:00\n",
    "2        2010-12-01 08:26:00\n",
    "3        2010-12-01 08:26:00\n",
    "4        2010-12-01 08:26:00\n",
    "                 ...        \n",
    "541904   2011-12-09 12:50:00\n",
    "541905   2011-12-09 12:50:00\n",
    "541906   2011-12-09 12:50:00\n",
    "541907   2011-12-09 12:50:00\n",
    "541908   2011-12-09 12:50:00\n",
    "Name: invoice_date, Length: 397924, dtype: datetime64[ns]"
   ]
  },
  {
   "cell_type": "markdown",
   "id": "5ad5843a",
   "metadata": {},
   "source": [
    "We can get day of the week¶"
   ]
  },
  {
   "cell_type": "code",
   "execution_count": null,
   "id": "5ac6f2ee",
   "metadata": {},
   "outputs": [],
   "source": [
    "df_new.invoice_date.dt.dayofweek"
   ]
  },
  {
   "cell_type": "code",
   "execution_count": null,
   "id": "ff8bd3ef",
   "metadata": {},
   "outputs": [],
   "source": [
    "0         2\n",
    "1         2\n",
    "2         2\n",
    "3         2\n",
    "4         2\n",
    "         ..\n",
    "541904    4\n",
    "541905    4\n",
    "541906    4\n",
    "541907    4\n",
    "541908    4\n",
    "Name: invoice_date, Length: 397924, dtype: int64"
   ]
  },
  {
   "cell_type": "markdown",
   "id": "cc83b578",
   "metadata": {},
   "source": [
    "In pandas, the day formate starts from 0 to 6¶"
   ]
  },
  {
   "cell_type": "markdown",
   "id": "fcc95e2d",
   "metadata": {},
   "source": [
    "Monday = 0\n",
    "Tuesday = 1\n",
    "....\n",
    "Sunday = 6"
   ]
  },
  {
   "cell_type": "markdown",
   "id": "a4094ceb",
   "metadata": {},
   "source": [
    "Apply +1 to make Monday = 1.....until Sunday = 7¶"
   ]
  },
  {
   "cell_type": "code",
   "execution_count": null,
   "id": "56d750a5",
   "metadata": {},
   "outputs": [],
   "source": [
    "c3 = 'day'"
   ]
  },
  {
   "cell_type": "code",
   "execution_count": null,
   "id": "883c8c39",
   "metadata": {},
   "outputs": [],
   "source": [
    "v3 = (df_new.invoice_date.dt.dayofweek)+1"
   ]
  },
  {
   "cell_type": "code",
   "execution_count": null,
   "id": "57a50e8c",
   "metadata": {},
   "outputs": [],
   "source": [
    "df_new.insert(loc = 4, column = c3, value = v3)"
   ]
  },
  {
   "cell_type": "code",
   "execution_count": null,
   "id": "6a6aacb9",
   "metadata": {},
   "outputs": [],
   "source": [
    "df_new.head()"
   ]
  },
  {
   "cell_type": "markdown",
   "id": "57e1e528",
   "metadata": {},
   "source": [
    "Adding hour column to existing DataFrame¶"
   ]
  },
  {
   "cell_type": "code",
   "execution_count": null,
   "id": "01487a23",
   "metadata": {},
   "outputs": [],
   "source": [
    "df_new.invoice_date"
   ]
  },
  {
   "cell_type": "code",
   "execution_count": null,
   "id": "58a20b7c",
   "metadata": {},
   "outputs": [],
   "source": [
    "0        2010-12-01 08:26:00\n",
    "1        2010-12-01 08:26:00\n",
    "2        2010-12-01 08:26:00\n",
    "3        2010-12-01 08:26:00\n",
    "4        2010-12-01 08:26:00\n",
    "                 ...        \n",
    "541904   2011-12-09 12:50:00\n",
    "541905   2011-12-09 12:50:00\n",
    "541906   2011-12-09 12:50:00\n",
    "541907   2011-12-09 12:50:00\n",
    "541908   2011-12-09 12:50:00\n",
    "Name: invoice_date, Length: 397924, dtype: datetime64[ns]"
   ]
  },
  {
   "cell_type": "code",
   "execution_count": null,
   "id": "087753de",
   "metadata": {},
   "outputs": [],
   "source": [
    "# dir(df_new.invoice_date)"
   ]
  },
  {
   "cell_type": "code",
   "execution_count": null,
   "id": "26525995",
   "metadata": {},
   "outputs": [],
   "source": [
    "# dir(df_new.invoice_date.dt)"
   ]
  },
  {
   "cell_type": "code",
   "execution_count": null,
   "id": "7115f6fc",
   "metadata": {},
   "outputs": [],
   "source": [
    "# df_new.invoice_date.dt.hour"
   ]
  },
  {
   "cell_type": "code",
   "execution_count": null,
   "id": "5a04a8da",
   "metadata": {},
   "outputs": [],
   "source": [
    "c4 = \"hour\""
   ]
  },
  {
   "cell_type": "code",
   "execution_count": null,
   "id": "df6b4075",
   "metadata": {},
   "outputs": [],
   "source": [
    "v4 = df_new.invoice_date.dt.hour"
   ]
  },
  {
   "cell_type": "code",
   "execution_count": null,
   "id": "5a7eb78a",
   "metadata": {},
   "outputs": [],
   "source": [
    "df_new.insert(loc = 5, column = c4, value = v4)"
   ]
  },
  {
   "cell_type": "code",
   "execution_count": null,
   "id": "415b76b9",
   "metadata": {},
   "outputs": [],
   "source": [
    "df_new.head()"
   ]
  },
  {
   "cell_type": "markdown",
   "id": "1c6c11d8",
   "metadata": {},
   "source": [
    "Lets display all columns once¶"
   ]
  },
  {
   "cell_type": "code",
   "execution_count": null,
   "id": "868f5259",
   "metadata": {},
   "outputs": [],
   "source": [
    "df_new.columns"
   ]
  },
  {
   "cell_type": "code",
   "execution_count": null,
   "id": "1a99b4d1",
   "metadata": {},
   "outputs": [],
   "source": [
    "Index(['invoice_num', 'invoice_date', 'year_month', 'month', 'day', 'hour',\n",
    "       'stock_code', 'description', 'quantity', 'unit_price', 'amount_spent',\n",
    "       'cust_id', 'country'],\n",
    "      dtype='object')"
   ]
  },
  {
   "cell_type": "code",
   "execution_count": null,
   "id": "bd6cc332",
   "metadata": {},
   "outputs": [],
   "source": [
    "for col in df_new.columns:\n",
    "    print(col)"
   ]
  },
  {
   "cell_type": "code",
   "execution_count": null,
   "id": "6371c087",
   "metadata": {},
   "outputs": [],
   "source": [
    "invoice_num\n",
    "invoice_date\n",
    "year_month\n",
    "month\n",
    "day\n",
    "hour\n",
    "stock_code\n",
    "description\n",
    "quantity\n",
    "unit_price\n",
    "amount_spent\n",
    "cust_id\n",
    "country"
   ]
  },
  {
   "cell_type": "markdown",
   "id": "6d635d26",
   "metadata": {},
   "source": [
    "Exploratory Data Analysis (EDA)¶"
   ]
  },
  {
   "cell_type": "code",
   "execution_count": null,
   "id": "2b9a5e7f",
   "metadata": {},
   "outputs": [],
   "source": [
    "df_new.groupby(by = ['cust_id']).count()"
   ]
  },
  {
   "cell_type": "markdown",
   "id": "9f5fbebc",
   "metadata": {},
   "source": [
    "4339 rows × 12 columns"
   ]
  },
  {
   "cell_type": "code",
   "execution_count": null,
   "id": "c658da2e",
   "metadata": {},
   "outputs": [],
   "source": [
    "df_new.groupby(by = ['cust_id','country']).count()"
   ]
  },
  {
   "cell_type": "markdown",
   "id": "321b7156",
   "metadata": {},
   "source": [
    "4347 rows × 11 columns"
   ]
  },
  {
   "cell_type": "code",
   "execution_count": null,
   "id": "f6b6901c",
   "metadata": {},
   "outputs": [],
   "source": [
    "df_new.groupby(by = ['cust_id','country'])['invoice_num'].count()"
   ]
  },
  {
   "cell_type": "code",
   "execution_count": null,
   "id": "8c79091c",
   "metadata": {},
   "outputs": [],
   "source": [
    "cust_id  country       \n",
    "12346    United Kingdom      1\n",
    "12347    Iceland           182\n",
    "12348    Finland            31\n",
    "12349    Italy              73\n",
    "12350    Norway             17\n",
    "                          ... \n",
    "18280    United Kingdom     10\n",
    "18281    United Kingdom      7\n",
    "18282    United Kingdom     12\n",
    "18283    United Kingdom    756\n",
    "18287    United Kingdom     70\n",
    "Name: invoice_num, Length: 4347, dtype: int64"
   ]
  },
  {
   "cell_type": "code",
   "execution_count": null,
   "id": "08f9cc99",
   "metadata": {},
   "outputs": [],
   "source": [
    "df_new.groupby(by = ['cust_id','country'], as_index = False)['invoice_num'].count()"
   ]
  },
  {
   "cell_type": "markdown",
   "id": "06a46413",
   "metadata": {},
   "source": [
    "4347 rows × 3 columns"
   ]
  },
  {
   "cell_type": "code",
   "execution_count": null,
   "id": "8462a012",
   "metadata": {},
   "outputs": [],
   "source": [
    "df_new.groupby(by=['cust_id','country'], as_index=False)['invoice_num'].count().head()"
   ]
  },
  {
   "cell_type": "markdown",
   "id": "8bae9b9d",
   "metadata": {},
   "source": [
    "Data Visaulization libraries¶"
   ]
  },
  {
   "cell_type": "code",
   "execution_count": null,
   "id": "b39035c5",
   "metadata": {},
   "outputs": [],
   "source": [
    "import matplotlib.pyplot as plt\n",
    "import seaborn as sns"
   ]
  },
  {
   "cell_type": "code",
   "execution_count": null,
   "id": "94112da8",
   "metadata": {},
   "outputs": [],
   "source": [
    "df_new.groupby(by=['cust_id','country'], as_index=False)['invoice_num'].count()"
   ]
  },
  {
   "cell_type": "markdown",
   "id": "5cb7ab00",
   "metadata": {},
   "source": [
    "4347 rows × 3 columns"
   ]
  },
  {
   "cell_type": "code",
   "execution_count": null,
   "id": "5e0d1566",
   "metadata": {},
   "outputs": [],
   "source": [
    "orders = df_new.groupby(by=['cust_id','country'], as_index=False)['invoice_num'].count()"
   ]
  },
  {
   "cell_type": "code",
   "execution_count": null,
   "id": "f28c6b99",
   "metadata": {},
   "outputs": [],
   "source": [
    "orders"
   ]
  },
  {
   "cell_type": "markdown",
   "id": "42861b1d",
   "metadata": {},
   "source": [
    "4347 rows × 3 columns"
   ]
  },
  {
   "cell_type": "markdown",
   "id": "2398d8cc",
   "metadata": {},
   "source": [
    "Check TOP 5 most number of orders¶"
   ]
  },
  {
   "cell_type": "code",
   "execution_count": null,
   "id": "69ef8c3a",
   "metadata": {},
   "outputs": [],
   "source": [
    "orders.sort_values(by = 'invoice_num', ascending = False).head()"
   ]
  },
  {
   "cell_type": "markdown",
   "id": "786175b9",
   "metadata": {},
   "source": [
    "Visualizing - Number of Orders for different Customers¶"
   ]
  },
  {
   "cell_type": "code",
   "execution_count": null,
   "id": "f0a39372",
   "metadata": {},
   "outputs": [],
   "source": [
    "orders = df_new.groupby(by=['cust_id','country'], as_index=False)['invoice_num'].count()\n",
    "\n",
    "plt.subplots(figsize=(15,6))\n",
    "\n",
    "plt.plot(orders.cust_id, orders.invoice_num)\n",
    "\n",
    "plt.xlabel('Customers ID')\n",
    "plt.ylabel('Number of Orders')\n",
    "plt.title('Number of Orders for different Customers')\n",
    "\n",
    "plt.show()"
   ]
  },
  {
   "cell_type": "markdown",
   "id": "73afc9cb",
   "metadata": {},
   "source": [
    "How much money spent by each customers?¶"
   ]
  },
  {
   "cell_type": "code",
   "execution_count": null,
   "id": "86ba48d1",
   "metadata": {},
   "outputs": [],
   "source": [
    "df_new.groupby(by = ['cust_id', 'country']).sum()"
   ]
  },
  {
   "cell_type": "markdown",
   "id": "3df25353",
   "metadata": {},
   "source": [
    "4347 rows × 7 columns"
   ]
  },
  {
   "cell_type": "code",
   "execution_count": null,
   "id": "13f875d0",
   "metadata": {},
   "outputs": [],
   "source": [
    "df_new.groupby(by = ['cust_id', 'country'])['amount_spent'].sum()"
   ]
  },
  {
   "cell_type": "code",
   "execution_count": null,
   "id": "20ae98f0",
   "metadata": {},
   "outputs": [],
   "source": [
    "cust_id  country       \n",
    "12346    United Kingdom    77183.60\n",
    "12347    Iceland            4310.00\n",
    "12348    Finland            1797.24\n",
    "12349    Italy              1757.55\n",
    "12350    Norway              334.40\n",
    "                             ...   \n",
    "18280    United Kingdom      180.60\n",
    "18281    United Kingdom       80.82\n",
    "18282    United Kingdom      178.05\n",
    "18283    United Kingdom     2094.88\n",
    "18287    United Kingdom     1837.28\n",
    "Name: amount_spent, Length: 4347, dtype: float64"
   ]
  },
  {
   "cell_type": "code",
   "execution_count": null,
   "id": "759b6f0e",
   "metadata": {},
   "outputs": [],
   "source": [
    "df_new.groupby(by = ['cust_id', 'country'], as_index = False)['amount_spent'].sum()"
   ]
  },
  {
   "cell_type": "markdown",
   "id": "f2676a57",
   "metadata": {},
   "source": [
    "4347 rows × 3 columns"
   ]
  },
  {
   "cell_type": "code",
   "execution_count": null,
   "id": "6402be57",
   "metadata": {},
   "outputs": [],
   "source": [
    "money_spent = df_new.groupby(by = ['cust_id', 'country'], as_index = False)['amount_spent'].sum()"
   ]
  },
  {
   "cell_type": "code",
   "execution_count": null,
   "id": "905b4dfd",
   "metadata": {},
   "outputs": [],
   "source": [
    "money_spent"
   ]
  },
  {
   "cell_type": "markdown",
   "id": "d02d6b78",
   "metadata": {},
   "source": [
    "4347 rows × 3 columns"
   ]
  },
  {
   "cell_type": "markdown",
   "id": "fd0e016d",
   "metadata": {},
   "source": [
    "Top FIVE customers who spend highest money¶"
   ]
  },
  {
   "cell_type": "code",
   "execution_count": null,
   "id": "0ca15bba",
   "metadata": {},
   "outputs": [],
   "source": [
    "money_spent.sort_values(by='amount_spent', ascending = False).head()"
   ]
  },
  {
   "cell_type": "markdown",
   "id": "03c49471",
   "metadata": {},
   "source": [
    "Top TEN customers who spend highest money¶"
   ]
  },
  {
   "cell_type": "code",
   "execution_count": null,
   "id": "7cf488d4",
   "metadata": {},
   "outputs": [],
   "source": [
    "money_spent.sort_values(by='amount_spent', ascending = False).head(10)"
   ]
  },
  {
   "cell_type": "markdown",
   "id": "50c310fd",
   "metadata": {},
   "source": [
    "Visualizing - Money spent for different customers¶"
   ]
  },
  {
   "cell_type": "code",
   "execution_count": null,
   "id": "95541a1f",
   "metadata": {},
   "outputs": [],
   "source": [
    "money_spent = df_new.groupby(by=['cust_id','country'], as_index=False)['amount_spent'].sum()\n",
    "\n",
    "plt.subplots(figsize=(15,6))\n",
    "\n",
    "plt.plot(money_spent.cust_id, money_spent.amount_spent)\n",
    "\n",
    "plt.xlabel('Customers ID')\n",
    "plt.ylabel('Money spent (Dollar)')\n",
    "plt.title('Money Spent for different Customers')\n",
    "\n",
    "plt.show()"
   ]
  },
  {
   "cell_type": "code",
   "execution_count": null,
   "id": "7e8071bd",
   "metadata": {},
   "outputs": [],
   "source": [
    "df_new.head()"
   ]
  },
  {
   "cell_type": "markdown",
   "id": "e4a1cb77",
   "metadata": {},
   "source": [
    "Number of order for different months¶"
   ]
  },
  {
   "cell_type": "code",
   "execution_count": null,
   "id": "d70b749a",
   "metadata": {},
   "outputs": [],
   "source": [
    "color = sns.color_palette()"
   ]
  },
  {
   "cell_type": "markdown",
   "id": "acf7815e",
   "metadata": {},
   "source": [
    "Initial Data¶"
   ]
  },
  {
   "cell_type": "code",
   "execution_count": null,
   "id": "6e3d6624",
   "metadata": {},
   "outputs": [],
   "source": [
    "df_new.head()"
   ]
  },
  {
   "cell_type": "code",
   "execution_count": null,
   "id": "9d11a1a1",
   "metadata": {},
   "outputs": [],
   "source": [
    "df_new.groupby('invoice_num')"
   ]
  },
  {
   "cell_type": "code",
   "execution_count": null,
   "id": "e381f9dd",
   "metadata": {},
   "outputs": [],
   "source": [
    "<pandas.core.groupby.generic.DataFrameGroupBy object at 0x0000020AA1C60F70>"
   ]
  },
  {
   "cell_type": "code",
   "execution_count": null,
   "id": "982cddeb",
   "metadata": {},
   "outputs": [],
   "source": [
    "df_new.groupby('invoice_num')['year_month']"
   ]
  },
  {
   "cell_type": "code",
   "execution_count": null,
   "id": "556ef9e5",
   "metadata": {},
   "outputs": [],
   "source": [
    "<pandas.core.groupby.generic.SeriesGroupBy object at 0x0000020AA1CB7DC0>"
   ]
  },
  {
   "cell_type": "code",
   "execution_count": null,
   "id": "39aa154a",
   "metadata": {},
   "outputs": [],
   "source": [
    "df_new.groupby('invoice_num')['year_month'].unique()"
   ]
  },
  {
   "cell_type": "code",
   "execution_count": null,
   "id": "9d2c828f",
   "metadata": {},
   "outputs": [],
   "source": [
    "invoice_num\n",
    "536365    [201012]\n",
    "536366    [201012]\n",
    "536367    [201012]\n",
    "536368    [201012]\n",
    "536369    [201012]\n",
    "            ...   \n",
    "581583    [201112]\n",
    "581584    [201112]\n",
    "581585    [201112]\n",
    "581586    [201112]\n",
    "581587    [201112]\n",
    "Name: year_month, Length: 18536, dtype: object"
   ]
  },
  {
   "cell_type": "code",
   "execution_count": null,
   "id": "dba9c709",
   "metadata": {},
   "outputs": [],
   "source": [
    "df_new.groupby('invoice_num')['year_month'].unique().value_counts()"
   ]
  },
  {
   "cell_type": "code",
   "execution_count": null,
   "id": "ba8d9acf",
   "metadata": {},
   "outputs": [],
   "source": [
    "[201111]    2658\n",
    "[201110]    1929\n",
    "[201109]    1756\n",
    "[201105]    1555\n",
    "[201012]    1400\n",
    "[201106]    1393\n",
    "[201107]    1331\n",
    "[201103]    1321\n",
    "[201108]    1281\n",
    "[201104]    1149\n",
    "[201102]     998\n",
    "[201101]     987\n",
    "[201112]     778\n",
    "Name: year_month, dtype: int64"
   ]
  },
  {
   "cell_type": "code",
   "execution_count": null,
   "id": "ef671097",
   "metadata": {},
   "outputs": [],
   "source": [
    "df_new.groupby('invoice_num')['year_month'].unique().value_counts().sort_index()"
   ]
  },
  {
   "cell_type": "code",
   "execution_count": null,
   "id": "ce20bb74",
   "metadata": {},
   "outputs": [],
   "source": [
    "[201012]    1400\n",
    "[201101]     987\n",
    "[201102]     998\n",
    "[201103]    1321\n",
    "[201104]    1149\n",
    "[201105]    1555\n",
    "[201106]    1393\n",
    "[201107]    1331\n",
    "[201108]    1281\n",
    "[201109]    1756\n",
    "[201110]    1929\n",
    "[201111]    2658\n",
    "[201112]     778\n",
    "Name: year_month, dtype: int64"
   ]
  },
  {
   "cell_type": "code",
   "execution_count": null,
   "id": "8b2e9583",
   "metadata": {},
   "outputs": [],
   "source": [
    "ax = df_new.groupby('invoice_num')['year_month'].unique().value_counts().sort_index().plot(kind = 'bar',color = color[0],figsize = (15,6))\n",
    "\n",
    "ax.set_xlabel('Month and Year',fontsize=15)\n",
    "ax.set_ylabel('Number of Orders',fontsize=15)\n",
    "ax.set_title('Number of orders for different Months (1st Dec 2010 - 9th Dec 2011)', fontsize = 15)\n",
    "\n",
    "t = ('Dec_10','Jan_11','Feb_11','Mar_11','Apr_11','May_11','Jun_11','July_11','Aug_11','Sep_11','Oct_11','Nov_11','Dec_11')\n",
    "\n",
    "ax.set_xticklabels(t, rotation='horizontal', fontsize=13)\n",
    "\n",
    "plt.show()"
   ]
  },
  {
   "cell_type": "markdown",
   "id": "1a0ba151",
   "metadata": {},
   "source": [
    "How many orders (per day)?¶"
   ]
  },
  {
   "cell_type": "code",
   "execution_count": null,
   "id": "5b18d502",
   "metadata": {},
   "outputs": [],
   "source": [
    "df_new.groupby('invoice_num')"
   ]
  },
  {
   "cell_type": "code",
   "execution_count": null,
   "id": "03902d2d",
   "metadata": {},
   "outputs": [],
   "source": [
    "<pandas.core.groupby.generic.DataFrameGroupBy object at 0x0000020AA1F28B50>"
   ]
  },
  {
   "cell_type": "code",
   "execution_count": null,
   "id": "f73521c2",
   "metadata": {},
   "outputs": [],
   "source": [
    "df_new.groupby('invoice_num')['day']"
   ]
  },
  {
   "cell_type": "code",
   "execution_count": null,
   "id": "253bf028",
   "metadata": {},
   "outputs": [],
   "source": [
    "<pandas.core.groupby.generic.SeriesGroupBy object at 0x0000020AA1F28C10>"
   ]
  },
  {
   "cell_type": "code",
   "execution_count": null,
   "id": "1ef2a29b",
   "metadata": {},
   "outputs": [],
   "source": [
    "df_new.groupby('invoice_num')['day'].unique()"
   ]
  },
  {
   "cell_type": "code",
   "execution_count": null,
   "id": "19a72a65",
   "metadata": {},
   "outputs": [],
   "source": [
    "invoice_num\n",
    "536365    [3]\n",
    "536366    [3]\n",
    "536367    [3]\n",
    "536368    [3]\n",
    "536369    [3]\n",
    "         ... \n",
    "581583    [5]\n",
    "581584    [5]\n",
    "581585    [5]\n",
    "581586    [5]\n",
    "581587    [5]\n",
    "Name: day, Length: 18536, dtype: object"
   ]
  },
  {
   "cell_type": "code",
   "execution_count": null,
   "id": "23db32fe",
   "metadata": {},
   "outputs": [],
   "source": [
    "df_new.groupby('invoice_num')['day'].unique().value_counts()"
   ]
  },
  {
   "cell_type": "code",
   "execution_count": null,
   "id": "41e1225d",
   "metadata": {},
   "outputs": [],
   "source": [
    "[4]    4033\n",
    "[3]    3455\n",
    "[2]    3185\n",
    "[1]    2863\n",
    "[5]    2831\n",
    "[7]    2169\n",
    "Name: day, dtype: int64"
   ]
  },
  {
   "cell_type": "code",
   "execution_count": null,
   "id": "bb77065d",
   "metadata": {},
   "outputs": [],
   "source": [
    "df_new.groupby('invoice_num')['day'].unique().value_counts().sort_index()"
   ]
  },
  {
   "cell_type": "code",
   "execution_count": null,
   "id": "c4b66047",
   "metadata": {},
   "outputs": [],
   "source": [
    "[1]    2863\n",
    "[2]    3185\n",
    "[3]    3455\n",
    "[4]    4033\n",
    "[5]    2831\n",
    "[7]    2169\n",
    "Name: day, dtype: int64"
   ]
  },
  {
   "cell_type": "markdown",
   "id": "807f7f79",
   "metadata": {},
   "source": [
    "Day wise sales count/business¶"
   ]
  },
  {
   "cell_type": "code",
   "execution_count": null,
   "id": "70b89760",
   "metadata": {},
   "outputs": [],
   "source": [
    "df_new.head()"
   ]
  },
  {
   "cell_type": "code",
   "execution_count": null,
   "id": "9fb598da",
   "metadata": {},
   "outputs": [],
   "source": [
    "df_new.groupby('invoice_num')"
   ]
  },
  {
   "cell_type": "code",
   "execution_count": null,
   "id": "7cd0407f",
   "metadata": {},
   "outputs": [],
   "source": [
    "<pandas.core.groupby.generic.DataFrameGroupBy object at 0x0000020AA2541070>"
   ]
  },
  {
   "cell_type": "code",
   "execution_count": null,
   "id": "71c0e9ee",
   "metadata": {},
   "outputs": [],
   "source": [
    "df_new.groupby('invoice_num')['day']"
   ]
  },
  {
   "cell_type": "code",
   "execution_count": null,
   "id": "62b7a3f0",
   "metadata": {},
   "outputs": [],
   "source": [
    "<pandas.core.groupby.generic.SeriesGroupBy object at 0x0000020AA1CE0850>"
   ]
  },
  {
   "cell_type": "code",
   "execution_count": null,
   "id": "61049fa3",
   "metadata": {},
   "outputs": [],
   "source": [
    "df_new.groupby('invoice_num')['day'].unique()"
   ]
  },
  {
   "cell_type": "code",
   "execution_count": null,
   "id": "4b137052",
   "metadata": {},
   "outputs": [],
   "source": [
    "invoice_num\n",
    "536365    [3]\n",
    "536366    [3]\n",
    "536367    [3]\n",
    "536368    [3]\n",
    "536369    [3]\n",
    "         ... \n",
    "581583    [5]\n",
    "581584    [5]\n",
    "581585    [5]\n",
    "581586    [5]\n",
    "581587    [5]\n",
    "Name: day, Length: 18536, dtype: object"
   ]
  },
  {
   "cell_type": "code",
   "execution_count": null,
   "id": "b29199ee",
   "metadata": {},
   "outputs": [],
   "source": [
    "df_new.groupby('invoice_num')['day'].unique().value_counts()"
   ]
  },
  {
   "cell_type": "code",
   "execution_count": null,
   "id": "d83c18a2",
   "metadata": {},
   "outputs": [],
   "source": [
    "[4]    4033\n",
    "[3]    3455\n",
    "[2]    3185\n",
    "[1]    2863\n",
    "[5]    2831\n",
    "[7]    2169\n",
    "Name: day, dtype: int64"
   ]
  },
  {
   "cell_type": "code",
   "execution_count": null,
   "id": "f8ede9f7",
   "metadata": {},
   "outputs": [],
   "source": [
    "df_new.groupby('invoice_num')['day'].unique().value_counts().sort_index()"
   ]
  },
  {
   "cell_type": "code",
   "execution_count": null,
   "id": "3d1c74cf",
   "metadata": {},
   "outputs": [],
   "source": [
    "[1]    2863\n",
    "[2]    3185\n",
    "[3]    3455\n",
    "[4]    4033\n",
    "[5]    2831\n",
    "[7]    2169\n",
    "Name: day, dtype: int64"
   ]
  },
  {
   "cell_type": "markdown",
   "id": "1d5de66b",
   "metadata": {},
   "source": [
    "Lets visualizat Day wise sales count/business¶"
   ]
  },
  {
   "cell_type": "code",
   "execution_count": null,
   "id": "c3007942",
   "metadata": {},
   "outputs": [],
   "source": [
    "ax = df_new.groupby('invoice_num')['day'].unique().value_counts().sort_index().plot(kind = 'bar',color=color[0],figsize=(15,6))\n",
    "\n",
    "ax.set_xlabel('Day',fontsize=15)\n",
    "ax.set_ylabel('Number of Orders',fontsize=15)\n",
    "ax.set_title('Number of orders for different Days',fontsize=15)\n",
    "d = ('Mon','Tue','Wed','Thur','Fri','Sun')\n",
    "ax.set_xticklabels(d, rotation='horizontal', fontsize=15)\n",
    "plt.show()"
   ]
  },
  {
   "cell_type": "markdown",
   "id": "29353fb1",
   "metadata": {},
   "source": [
    "Discover patterns for Unit Price¶"
   ]
  },
  {
   "cell_type": "code",
   "execution_count": null,
   "id": "6bfcaf53",
   "metadata": {},
   "outputs": [],
   "source": [
    "df_new.unit_price.describe()"
   ]
  },
  {
   "cell_type": "code",
   "execution_count": null,
   "id": "828f2ce8",
   "metadata": {},
   "outputs": [],
   "source": [
    "count    397924.000000\n",
    "mean          3.116174\n",
    "std          22.096788\n",
    "min           0.000000\n",
    "25%           1.250000\n",
    "50%           1.950000\n",
    "75%           3.750000\n",
    "max        8142.750000\n",
    "Name: unit_price, dtype: float64"
   ]
  },
  {
   "cell_type": "markdown",
   "id": "4a307330",
   "metadata": {},
   "source": [
    "Min value for product is zero, so there are some free products¶"
   ]
  },
  {
   "cell_type": "code",
   "execution_count": null,
   "id": "ab71f681",
   "metadata": {},
   "outputs": [],
   "source": [
    "# check the distribution of unit price\n",
    "plt.subplots(figsize = (12,6))\n",
    "\n",
    "sns.boxplot(df_new.unit_price)\n",
    "plt.show()"
   ]
  },
  {
   "cell_type": "markdown",
   "id": "cc659f97",
   "metadata": {},
   "source": [
    "Filter only free products(cost = 0)¶"
   ]
  },
  {
   "cell_type": "code",
   "execution_count": null,
   "id": "f6fc6756",
   "metadata": {},
   "outputs": [],
   "source": [
    "df_free = df_new[df_new.unit_price == 0]"
   ]
  },
  {
   "cell_type": "code",
   "execution_count": null,
   "id": "ab26ebdf",
   "metadata": {},
   "outputs": [],
   "source": [
    "len(df_free)"
   ]
  },
  {
   "cell_type": "code",
   "execution_count": null,
   "id": "128545bb",
   "metadata": {},
   "outputs": [],
   "source": [
    "40"
   ]
  },
  {
   "cell_type": "code",
   "execution_count": null,
   "id": "aa8012f9",
   "metadata": {},
   "outputs": [],
   "source": [
    "df_free.year_month"
   ]
  },
  {
   "cell_type": "code",
   "execution_count": null,
   "id": "1925aab3",
   "metadata": {},
   "outputs": [],
   "source": [
    "9302      201012\n",
    "33576     201012\n",
    "40089     201012\n",
    "47068     201101\n",
    "47070     201101\n",
    "56674     201101\n",
    "86789     201102\n",
    "130188    201103\n",
    "139453    201103\n",
    "145208    201104\n",
    "157042    201104\n",
    "187613    201105\n",
    "198383    201105\n",
    "279324    201107\n",
    "282912    201107\n",
    "285657    201108\n",
    "298054    201108\n",
    "314745    201108\n",
    "314746    201108\n",
    "314747    201108\n",
    "314748    201108\n",
    "358655    201109\n",
    "361825    201109\n",
    "379913    201110\n",
    "395529    201110\n",
    "420404    201110\n",
    "436428    201111\n",
    "436597    201111\n",
    "436961    201111\n",
    "439361    201111\n",
    "446125    201111\n",
    "446793    201111\n",
    "446794    201111\n",
    "454463    201111\n",
    "454464    201111\n",
    "479079    201111\n",
    "479546    201111\n",
    "480649    201111\n",
    "485985    201111\n",
    "502122    201111\n",
    "Name: year_month, dtype: int64"
   ]
  },
  {
   "cell_type": "code",
   "execution_count": null,
   "id": "c1b081a9",
   "metadata": {},
   "outputs": [],
   "source": [
    "df_free.year_month.value_counts()"
   ]
  },
  {
   "cell_type": "code",
   "execution_count": null,
   "id": "ee084f52",
   "metadata": {},
   "outputs": [],
   "source": [
    "201111    14\n",
    "201108     6\n",
    "201012     3\n",
    "201101     3\n",
    "201110     3\n",
    "201103     2\n",
    "201104     2\n",
    "201105     2\n",
    "201107     2\n",
    "201109     2\n",
    "201102     1\n",
    "Name: year_month, dtype: int64"
   ]
  },
  {
   "cell_type": "code",
   "execution_count": null,
   "id": "d44f9f91",
   "metadata": {},
   "outputs": [],
   "source": [
    "df_free.year_month.value_counts().sort_index()"
   ]
  },
  {
   "cell_type": "code",
   "execution_count": null,
   "id": "47806adf",
   "metadata": {},
   "outputs": [],
   "source": [
    "201012     3\n",
    "201101     3\n",
    "201102     1\n",
    "201103     2\n",
    "201104     2\n",
    "201105     2\n",
    "201107     2\n",
    "201108     6\n",
    "201109     2\n",
    "201110     3\n",
    "201111    14\n",
    "Name: year_month, dtype: int64"
   ]
  },
  {
   "cell_type": "code",
   "execution_count": null,
   "id": "1de3c961",
   "metadata": {},
   "outputs": [],
   "source": [
    "ax = df_free.year_month.value_counts().sort_index().plot(kind = 'bar',figsize=(12,6), color=color[0])\n",
    "ax.set_xlabel('Month',fontsize=15)\n",
    "ax.set_ylabel('Frequency',fontsize=15)\n",
    "ax.set_title('Frequency for different Months (Dec 2010 - Dec 2011)',fontsize=15)\n",
    "\n",
    "m = ('Dec_10','Jan_11','Feb_11','Mar_11','Apr_11','May_11','July_11','Aug_11','Sep_11','Oct_11','Nov_11')\n",
    "\n",
    "ax.set_xticklabels(m, rotation='horizontal', fontsize=13)\n",
    "plt.show()"
   ]
  },
  {
   "cell_type": "markdown",
   "id": "346967e5",
   "metadata": {},
   "source": [
    "How many orders for each country?¶"
   ]
  },
  {
   "cell_type": "code",
   "execution_count": null,
   "id": "e3eaea1a",
   "metadata": {},
   "outputs": [],
   "source": [
    "df_new"
   ]
  },
  {
   "cell_type": "markdown",
   "id": "cf214341",
   "metadata": {},
   "source": [
    "397924 rows × 13 columns"
   ]
  },
  {
   "cell_type": "code",
   "execution_count": null,
   "id": "a44f56e8",
   "metadata": {},
   "outputs": [],
   "source": [
    "df_new.groupby('country')"
   ]
  },
  {
   "cell_type": "code",
   "execution_count": null,
   "id": "7f7e8aa9",
   "metadata": {},
   "outputs": [],
   "source": [
    "<pandas.core.groupby.generic.DataFrameGroupBy object at 0x0000020AA29C6760>"
   ]
  },
  {
   "cell_type": "code",
   "execution_count": null,
   "id": "8fe33911",
   "metadata": {},
   "outputs": [],
   "source": [
    "df_new.groupby('country')['invoice_num']"
   ]
  },
  {
   "cell_type": "code",
   "execution_count": null,
   "id": "adb9f26d",
   "metadata": {},
   "outputs": [],
   "source": [
    "<pandas.core.groupby.generic.SeriesGroupBy object at 0x0000020AA29C6100>"
   ]
  },
  {
   "cell_type": "code",
   "execution_count": null,
   "id": "7057048a",
   "metadata": {},
   "outputs": [],
   "source": [
    "df_new.groupby('country')['invoice_num'].count()"
   ]
  },
  {
   "cell_type": "code",
   "execution_count": null,
   "id": "39684e01",
   "metadata": {},
   "outputs": [],
   "source": [
    "country\n",
    "Australia                 1185\n",
    "Austria                    398\n",
    "Bahrain                     17\n",
    "Belgium                   2031\n",
    "Brazil                      32\n",
    "Canada                     151\n",
    "Channel Islands            748\n",
    "Cyprus                     614\n",
    "Czech Republic              25\n",
    "Denmark                    380\n",
    "EIRE                      7238\n",
    "European Community          60\n",
    "Finland                    685\n",
    "France                    8342\n",
    "Germany                   9042\n",
    "Greece                     145\n",
    "Iceland                    182\n",
    "Israel                     248\n",
    "Italy                      758\n",
    "Japan                      321\n",
    "Lebanon                     45\n",
    "Lithuania                   35\n",
    "Malta                      112\n",
    "Netherlands               2363\n",
    "Norway                    1072\n",
    "Poland                     330\n",
    "Portugal                  1462\n",
    "RSA                         58\n",
    "Saudi Arabia                 9\n",
    "Singapore                  222\n",
    "Spain                     2485\n",
    "Sweden                     451\n",
    "Switzerland               1842\n",
    "USA                        179\n",
    "United Arab Emirates        68\n",
    "United Kingdom          354345\n",
    "Unspecified                244\n",
    "Name: invoice_num, dtype: int64"
   ]
  },
  {
   "cell_type": "code",
   "execution_count": null,
   "id": "0d779902",
   "metadata": {},
   "outputs": [],
   "source": [
    "df_new.groupby('country')['invoice_num'].count().sort_values()"
   ]
  },
  {
   "cell_type": "code",
   "execution_count": null,
   "id": "629dc6d2",
   "metadata": {},
   "outputs": [],
   "source": [
    "country\n",
    "Saudi Arabia                 9\n",
    "Bahrain                     17\n",
    "Czech Republic              25\n",
    "Brazil                      32\n",
    "Lithuania                   35\n",
    "Lebanon                     45\n",
    "RSA                         58\n",
    "European Community          60\n",
    "United Arab Emirates        68\n",
    "Malta                      112\n",
    "Greece                     145\n",
    "Canada                     151\n",
    "USA                        179\n",
    "Iceland                    182\n",
    "Singapore                  222\n",
    "Unspecified                244\n",
    "Israel                     248\n",
    "Japan                      321\n",
    "Poland                     330\n",
    "Denmark                    380\n",
    "Austria                    398\n",
    "Sweden                     451\n",
    "Cyprus                     614\n",
    "Finland                    685\n",
    "Channel Islands            748\n",
    "Italy                      758\n",
    "Norway                    1072\n",
    "Australia                 1185\n",
    "Portugal                  1462\n",
    "Switzerland               1842\n",
    "Belgium                   2031\n",
    "Netherlands               2363\n",
    "Spain                     2485\n",
    "EIRE                      7238\n",
    "France                    8342\n",
    "Germany                   9042\n",
    "United Kingdom          354345\n",
    "Name: invoice_num, dtype: int64"
   ]
  },
  {
   "cell_type": "markdown",
   "id": "25c1c56f",
   "metadata": {},
   "source": [
    "How many orders for each country?¶"
   ]
  },
  {
   "cell_type": "code",
   "execution_count": null,
   "id": "fadd1e6d",
   "metadata": {},
   "outputs": [],
   "source": [
    "group_country_orders = df_new.groupby('country')['invoice_num'].count().sort_values()\n",
    "# del group_country_orders['United Kingdom']\n",
    "\n",
    "# plot number of unique customers in each country (with UK)\n",
    "plt.subplots(figsize=(15,8))\n",
    "group_country_orders.plot(kind = 'barh', fontsize=12, color=color[0])\n",
    "plt.xlabel('Number of Orders', fontsize=12)\n",
    "plt.ylabel('Country', fontsize=12)\n",
    "plt.title('Number of Orders for different Countries', fontsize=12)\n",
    "plt.show()"
   ]
  },
  {
   "cell_type": "code",
   "execution_count": null,
   "id": "9c2fd232",
   "metadata": {},
   "outputs": [],
   "source": [
    "group_country_orders = df_new.groupby('country')['invoice_num'].count().sort_values()\n",
    "del group_country_orders['United Kingdom']\n",
    "\n",
    "# plot number of unique customers in each country (with UK)\n",
    "plt.subplots(figsize=(15,8))\n",
    "group_country_orders.plot(kind = 'barh', fontsize=12, color=color[0])\n",
    "plt.xlabel('Number of Orders', fontsize=12)\n",
    "plt.ylabel('Country', fontsize=12)\n",
    "plt.title('Number of Orders for different Countries', fontsize=12)\n",
    "plt.show()"
   ]
  },
  {
   "cell_type": "markdown",
   "id": "98c03103",
   "metadata": {},
   "source": [
    "How much money spent by each country?¶"
   ]
  },
  {
   "cell_type": "code",
   "execution_count": null,
   "id": "3adbdd17",
   "metadata": {},
   "outputs": [],
   "source": [
    "df_new"
   ]
  },
  {
   "cell_type": "markdown",
   "id": "6cc3e290",
   "metadata": {},
   "source": [
    "397924 rows × 13 columns"
   ]
  },
  {
   "cell_type": "code",
   "execution_count": null,
   "id": "d91280db",
   "metadata": {},
   "outputs": [],
   "source": [
    "df_new.groupby('country')"
   ]
  },
  {
   "cell_type": "code",
   "execution_count": null,
   "id": "8d695348",
   "metadata": {},
   "outputs": [],
   "source": [
    "<pandas.core.groupby.generic.DataFrameGroupBy object at 0x0000020AA2A497F0>"
   ]
  },
  {
   "cell_type": "code",
   "execution_count": null,
   "id": "5d0b2648",
   "metadata": {},
   "outputs": [],
   "source": [
    "df_new.groupby('country')['amount_spent']"
   ]
  },
  {
   "cell_type": "code",
   "execution_count": null,
   "id": "edb14148",
   "metadata": {},
   "outputs": [],
   "source": [
    "<pandas.core.groupby.generic.SeriesGroupBy object at 0x0000020AA2A2A0D0>"
   ]
  },
  {
   "cell_type": "code",
   "execution_count": null,
   "id": "fa264afb",
   "metadata": {},
   "outputs": [],
   "source": [
    "df_new.groupby('country')['amount_spent'].sum()"
   ]
  },
  {
   "cell_type": "code",
   "execution_count": null,
   "id": "30d250d9",
   "metadata": {},
   "outputs": [],
   "source": [
    "country\n",
    "Australia                138521.310\n",
    "Austria                   10198.680\n",
    "Bahrain                     548.400\n",
    "Belgium                   41196.340\n",
    "Brazil                     1143.600\n",
    "Canada                     3666.380\n",
    "Channel Islands           20450.440\n",
    "Cyprus                    13590.380\n",
    "Czech Republic              826.740\n",
    "Denmark                   18955.340\n",
    "EIRE                     265545.900\n",
    "European Community         1300.250\n",
    "Finland                   22546.080\n",
    "France                   209024.050\n",
    "Germany                  228867.140\n",
    "Greece                     4760.520\n",
    "Iceland                    4310.000\n",
    "Israel                     7221.690\n",
    "Italy                     17483.240\n",
    "Japan                     37416.370\n",
    "Lebanon                    1693.880\n",
    "Lithuania                  1661.060\n",
    "Malta                      2725.590\n",
    "Netherlands              285446.340\n",
    "Norway                    36165.440\n",
    "Poland                     7334.650\n",
    "Portugal                  33439.890\n",
    "RSA                        1002.310\n",
    "Saudi Arabia                145.920\n",
    "Singapore                 21279.290\n",
    "Spain                     61577.110\n",
    "Sweden                    38378.330\n",
    "Switzerland               56443.950\n",
    "USA                        3580.390\n",
    "United Arab Emirates       1902.280\n",
    "United Kingdom          7308391.554\n",
    "Unspecified                2667.070\n",
    "Name: amount_spent, dtype: float64"
   ]
  },
  {
   "cell_type": "code",
   "execution_count": null,
   "id": "b84dca31",
   "metadata": {},
   "outputs": [],
   "source": [
    "df_new.groupby('country')['amount_spent'].sum().sort_values()"
   ]
  },
  {
   "cell_type": "code",
   "execution_count": null,
   "id": "591ec585",
   "metadata": {},
   "outputs": [],
   "source": [
    "country\n",
    "Saudi Arabia                145.920\n",
    "Bahrain                     548.400\n",
    "Czech Republic              826.740\n",
    "RSA                        1002.310\n",
    "Brazil                     1143.600\n",
    "European Community         1300.250\n",
    "Lithuania                  1661.060\n",
    "Lebanon                    1693.880\n",
    "United Arab Emirates       1902.280\n",
    "Unspecified                2667.070\n",
    "Malta                      2725.590\n",
    "USA                        3580.390\n",
    "Canada                     3666.380\n",
    "Iceland                    4310.000\n",
    "Greece                     4760.520\n",
    "Israel                     7221.690\n",
    "Poland                     7334.650\n",
    "Austria                   10198.680\n",
    "Cyprus                    13590.380\n",
    "Italy                     17483.240\n",
    "Denmark                   18955.340\n",
    "Channel Islands           20450.440\n",
    "Singapore                 21279.290\n",
    "Finland                   22546.080\n",
    "Portugal                  33439.890\n",
    "Norway                    36165.440\n",
    "Japan                     37416.370\n",
    "Sweden                    38378.330\n",
    "Belgium                   41196.340\n",
    "Switzerland               56443.950\n",
    "Spain                     61577.110\n",
    "Australia                138521.310\n",
    "France                   209024.050\n",
    "Germany                  228867.140\n",
    "EIRE                     265545.900\n",
    "Netherlands              285446.340\n",
    "United Kingdom          7308391.554\n",
    "Name: amount_spent, dtype: float64"
   ]
  },
  {
   "cell_type": "markdown",
   "id": "d6dd43d6",
   "metadata": {},
   "source": [
    "How much money spent by each country?¶"
   ]
  },
  {
   "cell_type": "code",
   "execution_count": null,
   "id": "fc6c2116",
   "metadata": {},
   "outputs": [],
   "source": [
    "group_country_amount_spent = df_new.groupby('country')['amount_spent'].sum().sort_values()\n",
    "# del group_country_orders['United Kingdom']\n",
    "\n",
    "# plot total money spent by each country (with UK)\n",
    "plt.subplots(figsize=(15,8))\n",
    "group_country_amount_spent.plot(kind = 'barh', fontsize=12, color=color[0])\n",
    "plt.xlabel('Money Spent (Dollar)', fontsize=12)\n",
    "plt.ylabel('Country', fontsize=12)\n",
    "plt.title('Money Spent by different Countries', fontsize=12)\n",
    "plt.show()"
   ]
  },
  {
   "cell_type": "code",
   "execution_count": null,
   "id": "909418f1",
   "metadata": {},
   "outputs": [],
   "source": [
    "group_country_amount_spent = df_new.groupby('country')['amount_spent'].sum().sort_values()\n",
    "del group_country_amount_spent['United Kingdom']\n",
    "\n",
    "# plot total money spent by each country (without UK)\n",
    "plt.subplots(figsize=(15,8))\n",
    "group_country_amount_spent.plot(kind = 'barh', fontsize=12, color=color[0])\n",
    "plt.xlabel('Money Spent (Dollar)', fontsize=12)\n",
    "plt.ylabel('Country', fontsize=12)\n",
    "plt.title('Money Spent by different Countries', fontsize=12)\n",
    "plt.show()"
   ]
  },
  {
   "cell_type": "markdown",
   "id": "b4374253",
   "metadata": {},
   "source": [
    "This is called Data Analysis :)¶"
   ]
  }
 ],
 "metadata": {},
 "nbformat": 4,
 "nbformat_minor": 5
}
