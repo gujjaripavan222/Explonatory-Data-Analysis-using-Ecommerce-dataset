{
 "cells": [
  {
   "cell_type": "markdown",
   "id": "7bf980fd",
   "metadata": {},
   "source": [
    "Importing required libraries¶"
   ]
  },
  {
   "cell_type": "code",
   "execution_count": null,
   "id": "a3f10460",
   "metadata": {},
   "outputs": [],
   "source": [
    "import pandas as pd \n",
    "import numpy as np"
   ]
  },
  {
   "cell_type": "markdown",
   "id": "10ffd676",
   "metadata": {},
   "source": [
    "Loading the DataSet¶"
   ]
  },
  {
   "cell_type": "code",
   "execution_count": null,
   "id": "c2f0f4e9",
   "metadata": {},
   "outputs": [],
   "source": [
    "df = pd.read_csv('data.csv', encoding = 'ISO-8859-1')"
   ]
  },
  {
   "cell_type": "code",
   "execution_count": null,
   "id": "f1fb4803",
   "metadata": {},
   "outputs": [],
   "source": [
    "# ecom_data = pd.read_csv('data.csv', encoding = 'ISO-8859-1')"
   ]
  },
  {
   "cell_type": "markdown",
   "id": "a8db7585",
   "metadata": {},
   "source": [
    "Number of rows and columns¶"
   ]
  },
  {
   "cell_type": "code",
   "execution_count": null,
   "id": "0ff07314",
   "metadata": {},
   "outputs": [],
   "source": [
    "df.shape"
   ]
  },
  {
   "cell_type": "code",
   "execution_count": null,
   "id": "b1ca11e9",
   "metadata": {},
   "outputs": [],
   "source": [
    "(541909, 8)"
   ]
  },
  {
   "cell_type": "markdown",
   "id": "2b17174a",
   "metadata": {},
   "source": [
    "Access first five rows¶"
   ]
  },
  {
   "cell_type": "code",
   "execution_count": null,
   "id": "7cb1d554",
   "metadata": {},
   "outputs": [],
   "source": [
    "df.head()"
   ]
  },
  {
   "cell_type": "markdown",
   "id": "ee05d343",
   "metadata": {},
   "source": [
    "Access last five rows¶"
   ]
  },
  {
   "cell_type": "code",
   "execution_count": null,
   "id": "926f8476",
   "metadata": {},
   "outputs": [],
   "source": [
    "df.tail()"
   ]
  },
  {
   "cell_type": "markdown",
   "id": "2c913edb",
   "metadata": {},
   "source": [
    "Displaying total columns from Dataset¶"
   ]
  },
  {
   "cell_type": "code",
   "execution_count": null,
   "id": "f0fcb08a",
   "metadata": {},
   "outputs": [],
   "source": [
    "df.columns"
   ]
  },
  {
   "cell_type": "code",
   "execution_count": null,
   "id": "4e4475aa",
   "metadata": {},
   "outputs": [],
   "source": [
    "Index(['InvoiceNo', 'StockCode', 'Description', 'Quantity', 'InvoiceDate',\n",
    "       'UnitPrice', 'CustomerID', 'Country'],\n",
    "      dtype='object')"
   ]
  },
  {
   "cell_type": "markdown",
   "id": "a37befae",
   "metadata": {},
   "source": [
    "Getting all columns one by one¶"
   ]
  },
  {
   "cell_type": "code",
   "execution_count": null,
   "id": "cd8eb94f",
   "metadata": {},
   "outputs": [],
   "source": [
    "for column in df.columns:\n",
    "    print(column)"
   ]
  },
  {
   "cell_type": "code",
   "execution_count": null,
   "id": "29e41f73",
   "metadata": {},
   "outputs": [],
   "source": [
    "InvoiceNo\n",
    "StockCode\n",
    "Description\n",
    "Quantity\n",
    "InvoiceDate\n",
    "UnitPrice\n",
    "CustomerID\n",
    "Country"
   ]
  },
  {
   "cell_type": "markdown",
   "id": "7ae26fd1",
   "metadata": {},
   "source": [
    "Renaming columns names¶"
   ]
  },
  {
   "cell_type": "code",
   "execution_count": null,
   "id": "2a62ac53",
   "metadata": {},
   "outputs": [],
   "source": [
    "d = {\n",
    "        'InvoiceNo': 'invoice_num',\n",
    "        'StockCode' : 'stock_code',\n",
    "        'Description' : 'description',\n",
    "        'Quantity' : 'quantity',\n",
    "        'InvoiceDate' : 'invoice_date',\n",
    "        'UnitPrice' : 'unit_price',\n",
    "        'CustomerID' : 'cust_id',\n",
    "        'Country' : 'country'\n",
    "}"
   ]
  },
  {
   "cell_type": "code",
   "execution_count": null,
   "id": "560052f5",
   "metadata": {},
   "outputs": [],
   "source": [
    "d"
   ]
  },
  {
   "cell_type": "code",
   "execution_count": null,
   "id": "2a7257f4",
   "metadata": {},
   "outputs": [],
   "source": [
    "{'InvoiceNo': 'invoice_num',\n",
    " 'StockCode': 'stock_code',\n",
    " 'Description': 'description',\n",
    " 'Quantity': 'quantity',\n",
    " 'InvoiceDate': 'invoice_date',\n",
    " 'UnitPrice': 'unit_price',\n",
    " 'CustomerID': 'cust_id',\n",
    " 'Country': 'country'}"
   ]
  },
  {
   "cell_type": "code",
   "execution_count": null,
   "id": "072b2a4f",
   "metadata": {},
   "outputs": [],
   "source": [
    "df.rename(columns = d, inplace = True)"
   ]
  },
  {
   "cell_type": "markdown",
   "id": "7ce12ff5",
   "metadata": {},
   "source": [
    "After changing column names Checking new column names¶"
   ]
  },
  {
   "cell_type": "code",
   "execution_count": null,
   "id": "9cd9fee1",
   "metadata": {},
   "outputs": [],
   "source": [
    "df.columns"
   ]
  },
  {
   "cell_type": "code",
   "execution_count": null,
   "id": "47255d2f",
   "metadata": {},
   "outputs": [],
   "source": [
    "Index(['invoice_num', 'stock_code', 'description', 'quantity', 'invoice_date',\n",
    "       'unit_price', 'cust_id', 'country'],\n",
    "      dtype='object')"
   ]
  },
  {
   "cell_type": "code",
   "execution_count": null,
   "id": "a9bd7f2d",
   "metadata": {},
   "outputs": [],
   "source": [
    "for i in df.columns:\n",
    "    print(i)"
   ]
  },
  {
   "cell_type": "code",
   "execution_count": null,
   "id": "07b28389",
   "metadata": {},
   "outputs": [],
   "source": [
    "invoice_num\n",
    "stock_code\n",
    "description\n",
    "quantity\n",
    "invoice_date\n",
    "unit_price\n",
    "cust_id\n",
    "country"
   ]
  },
  {
   "cell_type": "markdown",
   "id": "bfa4b948",
   "metadata": {},
   "source": [
    "Lets check initial data¶"
   ]
  },
  {
   "cell_type": "code",
   "execution_count": null,
   "id": "9ed22544",
   "metadata": {},
   "outputs": [],
   "source": [
    "df.head()"
   ]
  },
  {
   "cell_type": "markdown",
   "id": "972405d6",
   "metadata": {},
   "source": [
    "Checking first five rows¶"
   ]
  },
  {
   "cell_type": "code",
   "execution_count": null,
   "id": "24fd9599",
   "metadata": {},
   "outputs": [],
   "source": [
    "df.head()"
   ]
  },
  {
   "cell_type": "markdown",
   "id": "acafb460",
   "metadata": {},
   "source": [
    "Data Cleaning¶"
   ]
  },
  {
   "cell_type": "markdown",
   "id": "c9aab209",
   "metadata": {},
   "source": [
    "Checking column types¶"
   ]
  },
  {
   "cell_type": "code",
   "execution_count": null,
   "id": "2120d3ec",
   "metadata": {},
   "outputs": [],
   "source": [
    "df.dtypes"
   ]
  },
  {
   "cell_type": "code",
   "execution_count": null,
   "id": "d194da1f",
   "metadata": {},
   "outputs": [],
   "source": [
    "invoice_num      object\n",
    "stock_code       object\n",
    "description      object\n",
    "quantity          int64\n",
    "invoice_date     object\n",
    "unit_price      float64\n",
    "cust_id         float64\n",
    "country          object\n",
    "dtype: object"
   ]
  },
  {
   "cell_type": "markdown",
   "id": "53072bb5",
   "metadata": {},
   "source": [
    "DataFrame information¶"
   ]
  },
  {
   "cell_type": "code",
   "execution_count": null,
   "id": "7d400e97",
   "metadata": {},
   "outputs": [],
   "source": [
    "df.info()"
   ]
  },
  {
   "cell_type": "code",
   "execution_count": null,
   "id": "4b548221",
   "metadata": {},
   "outputs": [],
   "source": [
    "<class 'pandas.core.frame.DataFrame'>\n",
    "RangeIndex: 541909 entries, 0 to 541908\n",
    "Data columns (total 8 columns):\n",
    " #   Column        Non-Null Count   Dtype  \n",
    "---  ------        --------------   -----  \n",
    " 0   invoice_num   541909 non-null  object \n",
    " 1   stock_code    541909 non-null  object \n",
    " 2   description   540455 non-null  object \n",
    " 3   quantity      541909 non-null  int64  \n",
    " 4   invoice_date  541909 non-null  object \n",
    " 5   unit_price    541909 non-null  float64\n",
    " 6   cust_id       406829 non-null  float64\n",
    " 7   country       541909 non-null  object \n",
    "dtypes: float64(2), int64(1), object(5)\n",
    "memory usage: 33.1+ MB"
   ]
  },
  {
   "cell_type": "markdown",
   "id": "d4121a9d",
   "metadata": {},
   "source": [
    "Checking missing values for each column¶"
   ]
  },
  {
   "cell_type": "code",
   "execution_count": null,
   "id": "0d48d357",
   "metadata": {},
   "outputs": [],
   "source": [
    "df.isnull()"
   ]
  },
  {
   "cell_type": "markdown",
   "id": "272bdd20",
   "metadata": {},
   "source": [
    "541909 rows × 8 columns"
   ]
  },
  {
   "cell_type": "markdown",
   "id": "d0b6cf57",
   "metadata": {},
   "source": [
    "Checkcing number of columns¶"
   ]
  },
  {
   "cell_type": "code",
   "execution_count": null,
   "id": "a9afe46f",
   "metadata": {},
   "outputs": [],
   "source": [
    "len(df.columns)"
   ]
  },
  {
   "cell_type": "code",
   "execution_count": null,
   "id": "d6cc31fb",
   "metadata": {},
   "outputs": [],
   "source": [
    "8"
   ]
  },
  {
   "cell_type": "code",
   "execution_count": null,
   "id": "ea4b3558",
   "metadata": {},
   "outputs": [],
   "source": [
    "df.shape"
   ]
  },
  {
   "cell_type": "code",
   "execution_count": null,
   "id": "cf4a43f6",
   "metadata": {},
   "outputs": [],
   "source": [
    "(541909, 8)"
   ]
  },
  {
   "cell_type": "markdown",
   "id": "2f0d2a4c",
   "metadata": {},
   "source": [
    "Checking missing values count on each column¶"
   ]
  },
  {
   "cell_type": "code",
   "execution_count": null,
   "id": "ca079873",
   "metadata": {},
   "outputs": [],
   "source": [
    "df.isnull().sum()"
   ]
  },
  {
   "cell_type": "code",
   "execution_count": null,
   "id": "b8d9e9f2",
   "metadata": {},
   "outputs": [],
   "source": [
    "invoice_num          0\n",
    "stock_code           0\n",
    "description       1454\n",
    "quantity             0\n",
    "invoice_date         0\n",
    "unit_price           0\n",
    "cust_id         135080\n",
    "country              0\n",
    "dtype: int64"
   ]
  },
  {
   "cell_type": "markdown",
   "id": "30679199",
   "metadata": {},
   "source": [
    "Checking missing values count on each column, applying sorting¶"
   ]
  },
  {
   "cell_type": "code",
   "execution_count": null,
   "id": "d1f14e6c",
   "metadata": {},
   "outputs": [],
   "source": [
    "df.isnull().sum().sort_values()"
   ]
  },
  {
   "cell_type": "code",
   "execution_count": null,
   "id": "d00b7d5d",
   "metadata": {},
   "outputs": [],
   "source": [
    "invoice_num          0\n",
    "stock_code           0\n",
    "quantity             0\n",
    "invoice_date         0\n",
    "unit_price           0\n",
    "country              0\n",
    "description       1454\n",
    "cust_id         135080\n",
    "dtype: int64"
   ]
  },
  {
   "cell_type": "code",
   "execution_count": null,
   "id": "aded7bd1",
   "metadata": {},
   "outputs": [],
   "source": [
    "df.isnull().sum().sort_values(ascending = False)"
   ]
  },
  {
   "cell_type": "code",
   "execution_count": null,
   "id": "23c91d96",
   "metadata": {},
   "outputs": [],
   "source": [
    "cust_id         135080\n",
    "description       1454\n",
    "invoice_num          0\n",
    "stock_code           0\n",
    "quantity             0\n",
    "invoice_date         0\n",
    "unit_price           0\n",
    "country              0\n",
    "dtype: int64"
   ]
  },
  {
   "cell_type": "markdown",
   "id": "ff687863",
   "metadata": {},
   "source": [
    "Checking type of invoice_date column¶"
   ]
  },
  {
   "cell_type": "code",
   "execution_count": null,
   "id": "a31d40e4",
   "metadata": {},
   "outputs": [],
   "source": [
    "df.dtypes"
   ]
  },
  {
   "cell_type": "code",
   "execution_count": null,
   "id": "e7705be2",
   "metadata": {},
   "outputs": [],
   "source": [
    "invoice_num      object\n",
    "stock_code       object\n",
    "description      object\n",
    "quantity          int64\n",
    "invoice_date     object\n",
    "unit_price      float64\n",
    "cust_id         float64\n",
    "country          object\n",
    "dtype: object"
   ]
  },
  {
   "cell_type": "markdown",
   "id": "95c86efc",
   "metadata": {},
   "source": [
    "Access intial data¶"
   ]
  },
  {
   "cell_type": "code",
   "execution_count": null,
   "id": "b929432b",
   "metadata": {},
   "outputs": [],
   "source": [
    "df.head(2)"
   ]
  },
  {
   "cell_type": "markdown",
   "id": "a241081a",
   "metadata": {},
   "source": [
    "Converting invoice_date data type into datatime data type¶"
   ]
  },
  {
   "cell_type": "code",
   "execution_count": null,
   "id": "1398cc8c",
   "metadata": {},
   "outputs": [],
   "source": [
    "df['invoice_date'] = pd.to_datetime(df.invoice_date, format='%m/%d/%Y %H:%M')"
   ]
  },
  {
   "cell_type": "markdown",
   "id": "18480a36",
   "metadata": {},
   "source": [
    "Checking type of invoice_date¶"
   ]
  },
  {
   "cell_type": "code",
   "execution_count": null,
   "id": "bd88d45e",
   "metadata": {},
   "outputs": [],
   "source": [
    "df.dtypes"
   ]
  },
  {
   "cell_type": "code",
   "execution_count": null,
   "id": "cf77a639",
   "metadata": {},
   "outputs": [],
   "source": [
    "invoice_num             object\n",
    "stock_code              object\n",
    "description             object\n",
    "quantity                 int64\n",
    "invoice_date    datetime64[ns]\n",
    "unit_price             float64\n",
    "cust_id                float64\n",
    "country                 object\n",
    "dtype: object"
   ]
  },
  {
   "cell_type": "code",
   "execution_count": null,
   "id": "93a967e3",
   "metadata": {},
   "outputs": [],
   "source": [
    "df.head()"
   ]
  },
  {
   "cell_type": "markdown",
   "id": "1c973c34",
   "metadata": {},
   "source": [
    "Let us check description column¶"
   ]
  },
  {
   "cell_type": "code",
   "execution_count": null,
   "id": "e40fb318",
   "metadata": {},
   "outputs": [],
   "source": [
    "df.description"
   ]
  },
  {
   "cell_type": "code",
   "execution_count": null,
   "id": "d6207b1f",
   "metadata": {},
   "outputs": [],
   "source": [
    "0          WHITE HANGING HEART T-LIGHT HOLDER\n",
    "1                         WHITE METAL LANTERN\n",
    "2              CREAM CUPID HEARTS COAT HANGER\n",
    "3         KNITTED UNION FLAG HOT WATER BOTTLE\n",
    "4              RED WOOLLY HOTTIE WHITE HEART.\n",
    "                         ...                 \n",
    "541904            PACK OF 20 SPACEBOY NAPKINS\n",
    "541905           CHILDREN'S APRON DOLLY GIRL \n",
    "541906          CHILDRENS CUTLERY DOLLY GIRL \n",
    "541907        CHILDRENS CUTLERY CIRCUS PARADE\n",
    "541908          BAKING SET 9 PIECE RETROSPOT \n",
    "Name: description, Length: 541909, dtype: object"
   ]
  },
  {
   "cell_type": "markdown",
   "id": "64645e3b",
   "metadata": {},
   "source": [
    "We need to call lower() method¶"
   ]
  },
  {
   "cell_type": "code",
   "execution_count": null,
   "id": "738e61ce",
   "metadata": {},
   "outputs": [],
   "source": [
    "df.description.str.lower()"
   ]
  },
  {
   "cell_type": "code",
   "execution_count": null,
   "id": "9e395b8d",
   "metadata": {},
   "outputs": [],
   "source": [
    "0          white hanging heart t-light holder\n",
    "1                         white metal lantern\n",
    "2              cream cupid hearts coat hanger\n",
    "3         knitted union flag hot water bottle\n",
    "4              red woolly hottie white heart.\n",
    "                         ...                 \n",
    "541904            pack of 20 spaceboy napkins\n",
    "541905           children's apron dolly girl \n",
    "541906          childrens cutlery dolly girl \n",
    "541907        childrens cutlery circus parade\n",
    "541908          baking set 9 piece retrospot \n",
    "Name: description, Length: 541909, dtype: object"
   ]
  },
  {
   "cell_type": "code",
   "execution_count": null,
   "id": "9af1666f",
   "metadata": {},
   "outputs": [],
   "source": [
    "df.head(3)"
   ]
  },
  {
   "cell_type": "code",
   "execution_count": null,
   "id": "b8390930",
   "metadata": {},
   "outputs": [],
   "source": [
    "df['description'] = df.description.str.lower()"
   ]
  },
  {
   "cell_type": "code",
   "execution_count": null,
   "id": "aa356f0a",
   "metadata": {},
   "outputs": [],
   "source": [
    "df.head()"
   ]
  },
  {
   "cell_type": "markdown",
   "id": "eb7da1a1",
   "metadata": {},
   "source": [
    "Missing values¶"
   ]
  },
  {
   "cell_type": "markdown",
   "id": "33e6c1c6",
   "metadata": {},
   "source": [
    "Based on team meeting/client discussion we will need to perform accordingly¶"
   ]
  },
  {
   "cell_type": "code",
   "execution_count": null,
   "id": "ae6605f7",
   "metadata": {},
   "outputs": [],
   "source": [
    "df.isnull().sum().sort_values(ascending = False)"
   ]
  },
  {
   "cell_type": "code",
   "execution_count": null,
   "id": "b2ba1054",
   "metadata": {},
   "outputs": [],
   "source": [
    "cust_id         135080\n",
    "description       1454\n",
    "invoice_num          0\n",
    "stock_code           0\n",
    "quantity             0\n",
    "invoice_date         0\n",
    "unit_price           0\n",
    "country              0\n",
    "dtype: int64"
   ]
  },
  {
   "cell_type": "markdown",
   "id": "6a0af555",
   "metadata": {},
   "source": [
    "Dropping missing values¶"
   ]
  },
  {
   "cell_type": "code",
   "execution_count": null,
   "id": "b07a1d08",
   "metadata": {},
   "outputs": [],
   "source": [
    "df_new = df.dropna()"
   ]
  },
  {
   "cell_type": "markdown",
   "id": "022c8eed",
   "metadata": {},
   "source": [
    "After dropping missing values then again Checking missing values for each columns¶"
   ]
  },
  {
   "cell_type": "code",
   "execution_count": null,
   "id": "f35a110e",
   "metadata": {},
   "outputs": [],
   "source": [
    "df_new.isnull().sum()"
   ]
  },
  {
   "cell_type": "code",
   "execution_count": null,
   "id": "c69cc45b",
   "metadata": {},
   "outputs": [],
   "source": [
    "invoice_num     0\n",
    "stock_code      0\n",
    "description     0\n",
    "quantity        0\n",
    "invoice_date    0\n",
    "unit_price      0\n",
    "cust_id         0\n",
    "country         0\n",
    "dtype: int64"
   ]
  },
  {
   "cell_type": "markdown",
   "id": "4cc29723",
   "metadata": {},
   "source": [
    "DataFrame information¶"
   ]
  },
  {
   "cell_type": "code",
   "execution_count": null,
   "id": "3a897968",
   "metadata": {},
   "outputs": [],
   "source": [
    "df_new.info()"
   ]
  },
  {
   "cell_type": "code",
   "execution_count": null,
   "id": "16e0437c",
   "metadata": {},
   "outputs": [],
   "source": [
    "<class 'pandas.core.frame.DataFrame'>\n",
    "Int64Index: 406829 entries, 0 to 541908\n",
    "Data columns (total 8 columns):\n",
    " #   Column        Non-Null Count   Dtype         \n",
    "---  ------        --------------   -----         \n",
    " 0   invoice_num   406829 non-null  object        \n",
    " 1   stock_code    406829 non-null  object        \n",
    " 2   description   406829 non-null  object        \n",
    " 3   quantity      406829 non-null  int64         \n",
    " 4   invoice_date  406829 non-null  datetime64[ns]\n",
    " 5   unit_price    406829 non-null  float64       \n",
    " 6   cust_id       406829 non-null  float64       \n",
    " 7   country       406829 non-null  object        \n",
    "dtypes: datetime64[ns](1), float64(2), int64(1), object(4)\n",
    "memory usage: 27.9+ MB"
   ]
  },
  {
   "cell_type": "code",
   "execution_count": null,
   "id": "de5a0112",
   "metadata": {},
   "outputs": [],
   "source": [
    "df_new.head()"
   ]
  },
  {
   "cell_type": "markdown",
   "id": "fcd9a555",
   "metadata": {},
   "source": [
    "Check type of cust_id data type¶"
   ]
  },
  {
   "cell_type": "code",
   "execution_count": null,
   "id": "90a33bd7",
   "metadata": {},
   "outputs": [],
   "source": [
    "df_new.dtypes"
   ]
  },
  {
   "cell_type": "code",
   "execution_count": null,
   "id": "f1d78a01",
   "metadata": {},
   "outputs": [],
   "source": [
    "invoice_num             object\n",
    "stock_code              object\n",
    "description             object\n",
    "quantity                 int64\n",
    "invoice_date    datetime64[ns]\n",
    "unit_price             float64\n",
    "cust_id                float64\n",
    "country                 object\n",
    "dtype: object"
   ]
  },
  {
   "cell_type": "markdown",
   "id": "d7aade7f",
   "metadata": {},
   "source": [
    "Converting cust_id float type into integer type¶"
   ]
  },
  {
   "cell_type": "code",
   "execution_count": null,
   "id": "717f9a09",
   "metadata": {},
   "outputs": [],
   "source": [
    "df_new['cust_id']"
   ]
  },
  {
   "cell_type": "code",
   "execution_count": null,
   "id": "9e5fd5e1",
   "metadata": {},
   "outputs": [],
   "source": [
    "0         17850.0\n",
    "1         17850.0\n",
    "2         17850.0\n",
    "3         17850.0\n",
    "4         17850.0\n",
    "           ...   \n",
    "541904    12680.0\n",
    "541905    12680.0\n",
    "541906    12680.0\n",
    "541907    12680.0\n",
    "541908    12680.0\n",
    "Name: cust_id, Length: 406829, dtype: float64"
   ]
  },
  {
   "cell_type": "markdown",
   "id": "94c63884",
   "metadata": {},
   "source": [
    "Ignoring warnings in jupyter¶"
   ]
  },
  {
   "cell_type": "code",
   "execution_count": null,
   "id": "7c23eae9",
   "metadata": {},
   "outputs": [],
   "source": [
    "import warnings\n",
    "warnings.filterwarnings('ignore')"
   ]
  },
  {
   "cell_type": "code",
   "execution_count": null,
   "id": "13824c7a",
   "metadata": {},
   "outputs": [],
   "source": [
    "df_new['cust_id'] = df_new['cust_id'].astype('int64')"
   ]
  },
  {
   "cell_type": "markdown",
   "id": "a46851e6",
   "metadata": {},
   "source": [
    "Accessing first five rows¶"
   ]
  },
  {
   "cell_type": "code",
   "execution_count": null,
   "id": "7a576169",
   "metadata": {},
   "outputs": [],
   "source": [
    "df_new.head()"
   ]
  },
  {
   "cell_type": "markdown",
   "id": "c69dd143",
   "metadata": {},
   "source": [
    "New DataFrame information¶"
   ]
  },
  {
   "cell_type": "code",
   "execution_count": null,
   "id": "a1b3f2e9",
   "metadata": {},
   "outputs": [],
   "source": [
    "df_new.info()"
   ]
  },
  {
   "cell_type": "code",
   "execution_count": null,
   "id": "2bf23519",
   "metadata": {},
   "outputs": [],
   "source": [
    "<class 'pandas.core.frame.DataFrame'>\n",
    "Int64Index: 406829 entries, 0 to 541908\n",
    "Data columns (total 8 columns):\n",
    " #   Column        Non-Null Count   Dtype         \n",
    "---  ------        --------------   -----         \n",
    " 0   invoice_num   406829 non-null  object        \n",
    " 1   stock_code    406829 non-null  object        \n",
    " 2   description   406829 non-null  object        \n",
    " 3   quantity      406829 non-null  int64         \n",
    " 4   invoice_date  406829 non-null  datetime64[ns]\n",
    " 5   unit_price    406829 non-null  float64       \n",
    " 6   cust_id       406829 non-null  int64         \n",
    " 7   country       406829 non-null  object        \n",
    "dtypes: datetime64[ns](1), float64(1), int64(2), object(4)\n",
    "memory usage: 27.9+ MB"
   ]
  },
  {
   "cell_type": "markdown",
   "id": "e259a3dc",
   "metadata": {},
   "source": [
    "DataFrame description¶"
   ]
  },
  {
   "cell_type": "code",
   "execution_count": null,
   "id": "996faaf3",
   "metadata": {},
   "outputs": [],
   "source": [
    "df_new.describe()"
   ]
  },
  {
   "cell_type": "markdown",
   "id": "33d209da",
   "metadata": {},
   "source": [
    "Rounding the values in DataFrame¶"
   ]
  },
  {
   "cell_type": "code",
   "execution_count": null,
   "id": "b93e0f5c",
   "metadata": {},
   "outputs": [],
   "source": [
    "df_new.describe().round(2)"
   ]
  },
  {
   "cell_type": "markdown",
   "id": "7088c697",
   "metadata": {},
   "source": [
    "Let us do some analysis¶"
   ]
  },
  {
   "cell_type": "markdown",
   "id": "d3a061c0",
   "metadata": {},
   "source": [
    "Conclusion is: quantity column having negative values¶"
   ]
  },
  {
   "cell_type": "markdown",
   "id": "2abe5845",
   "metadata": {},
   "source": [
    "So, we need to remove/delete negative values¶"
   ]
  },
  {
   "cell_type": "markdown",
   "id": "e7d66b04",
   "metadata": {},
   "source": [
    "Example to delete negative values from list object¶"
   ]
  },
  {
   "cell_type": "code",
   "execution_count": null,
   "id": "ec19c785",
   "metadata": {},
   "outputs": [],
   "source": [
    "values = [1, 2, 3, -4, -5, 6, 7]"
   ]
  },
  {
   "cell_type": "code",
   "execution_count": null,
   "id": "8d9deefb",
   "metadata": {},
   "outputs": [],
   "source": [
    "for value in values:\n",
    "    print(value)"
   ]
  },
  {
   "cell_type": "code",
   "execution_count": null,
   "id": "91372b3a",
   "metadata": {},
   "outputs": [],
   "source": [
    "1\n",
    "2\n",
    "3\n",
    "-4\n",
    "-5\n",
    "6\n",
    "7"
   ]
  },
  {
   "cell_type": "code",
   "execution_count": null,
   "id": "f408ac4c",
   "metadata": {},
   "outputs": [],
   "source": [
    "for value in values:\n",
    "    if value >= 0:\n",
    "        print(value)"
   ]
  },
  {
   "cell_type": "code",
   "execution_count": null,
   "id": "a858e74e",
   "metadata": {},
   "outputs": [],
   "source": [
    "1\n",
    "2\n",
    "3\n",
    "6\n",
    "7"
   ]
  },
  {
   "cell_type": "markdown",
   "id": "744cb97f",
   "metadata": {},
   "source": [
    "Remove negative values from quantity column¶"
   ]
  },
  {
   "cell_type": "code",
   "execution_count": null,
   "id": "41fcbea0",
   "metadata": {},
   "outputs": [],
   "source": [
    "df_new.quantity > 0"
   ]
  },
  {
   "cell_type": "code",
   "execution_count": null,
   "id": "a3d068be",
   "metadata": {},
   "outputs": [],
   "source": [
    "0         True\n",
    "1         True\n",
    "2         True\n",
    "3         True\n",
    "4         True\n",
    "          ... \n",
    "541904    True\n",
    "541905    True\n",
    "541906    True\n",
    "541907    True\n",
    "541908    True\n",
    "Name: quantity, Length: 406829, dtype: bool"
   ]
  },
  {
   "cell_type": "code",
   "execution_count": null,
   "id": "c6ac7915",
   "metadata": {},
   "outputs": [],
   "source": [
    "con = df_new.quantity > 0"
   ]
  },
  {
   "cell_type": "code",
   "execution_count": null,
   "id": "9839fde8",
   "metadata": {},
   "outputs": [],
   "source": [
    "df_new = df_new[con]"
   ]
  },
  {
   "cell_type": "code",
   "execution_count": null,
   "id": "a6bdd5e4",
   "metadata": {},
   "outputs": [],
   "source": [
    "df_new.describe().round(2)"
   ]
  },
  {
   "cell_type": "markdown",
   "id": "6a9d26c3",
   "metadata": {},
   "source": [
    "Access initial Data¶"
   ]
  },
  {
   "cell_type": "code",
   "execution_count": null,
   "id": "7ed923a3",
   "metadata": {},
   "outputs": [],
   "source": [
    "df_new.head()"
   ]
  },
  {
   "cell_type": "markdown",
   "id": "c3b61012",
   "metadata": {},
   "source": [
    "Checking total number of rows and columns¶"
   ]
  },
  {
   "cell_type": "code",
   "execution_count": null,
   "id": "1a089e9c",
   "metadata": {},
   "outputs": [],
   "source": [
    "df_new.shape"
   ]
  },
  {
   "cell_type": "code",
   "execution_count": null,
   "id": "5fdc8782",
   "metadata": {},
   "outputs": [],
   "source": [
    "(397924, 8)"
   ]
  },
  {
   "cell_type": "markdown",
   "id": "9f8222c4",
   "metadata": {},
   "source": [
    "Adding the column  - amount_spent¶"
   ]
  },
  {
   "cell_type": "code",
   "execution_count": null,
   "id": "f7da0f35",
   "metadata": {},
   "outputs": [],
   "source": [
    "df_new['amount_spent'] = df_new['quantity'] * df_new['unit_price']"
   ]
  },
  {
   "cell_type": "code",
   "execution_count": null,
   "id": "daa0ef50",
   "metadata": {},
   "outputs": [],
   "source": [
    "df_new.head()"
   ]
  },
  {
   "cell_type": "markdown",
   "id": "a46389d2",
   "metadata": {},
   "source": [
    "Lets read the column names from DataFrame¶"
   ]
  },
  {
   "cell_type": "code",
   "execution_count": null,
   "id": "ab9335ec",
   "metadata": {},
   "outputs": [],
   "source": [
    "for col in df_new.columns:\n",
    "    print(col)"
   ]
  },
  {
   "cell_type": "code",
   "execution_count": null,
   "id": "01f9737c",
   "metadata": {},
   "outputs": [],
   "source": [
    "invoice_num\n",
    "stock_code\n",
    "description\n",
    "quantity\n",
    "invoice_date\n",
    "unit_price\n",
    "cust_id\n",
    "country\n",
    "amount_spent"
   ]
  },
  {
   "cell_type": "markdown",
   "id": "3b5cbf3c",
   "metadata": {},
   "source": [
    "Rearranging columns for more readability¶"
   ]
  },
  {
   "cell_type": "code",
   "execution_count": null,
   "id": "6d6c9fc5",
   "metadata": {},
   "outputs": [],
   "source": [
    "col_order = ['invoice_num','invoice_date','stock_code','description','quantity','unit_price','amount_spent','cust_id','country']"
   ]
  },
  {
   "cell_type": "code",
   "execution_count": null,
   "id": "97c3ea12",
   "metadata": {},
   "outputs": [],
   "source": [
    "df_new = df_new[col_order]"
   ]
  },
  {
   "cell_type": "markdown",
   "id": "826e3c71",
   "metadata": {},
   "source": [
    "Access initial data¶"
   ]
  },
  {
   "cell_type": "code",
   "execution_count": null,
   "id": "87d51624",
   "metadata": {},
   "outputs": [],
   "source": [
    "df_new.head()"
   ]
  },
  {
   "cell_type": "markdown",
   "id": "8f897344",
   "metadata": {},
   "source": [
    "Number of rows and columns¶"
   ]
  },
  {
   "cell_type": "code",
   "execution_count": null,
   "id": "68db890d",
   "metadata": {},
   "outputs": [],
   "source": [
    "df_new.shape"
   ]
  },
  {
   "cell_type": "code",
   "execution_count": null,
   "id": "230c4b46",
   "metadata": {},
   "outputs": [],
   "source": [
    "(397924, 9)"
   ]
  },
  {
   "cell_type": "markdown",
   "id": "f9ef2aeb",
   "metadata": {},
   "source": [
    "Let us do analysis on invoice_date column¶"
   ]
  },
  {
   "cell_type": "markdown",
   "id": "cfe68006",
   "metadata": {},
   "source": [
    "number of columns in the dataset¶"
   ]
  },
  {
   "cell_type": "code",
   "execution_count": null,
   "id": "e7b821e5",
   "metadata": {},
   "outputs": [],
   "source": [
    "len(df_new.columns)"
   ]
  },
  {
   "cell_type": "code",
   "execution_count": null,
   "id": "9b965caf",
   "metadata": {},
   "outputs": [],
   "source": [
    "9"
   ]
  },
  {
   "cell_type": "markdown",
   "id": "c0ce6dd3",
   "metadata": {},
   "source": [
    "Accessing invoice_date column¶"
   ]
  },
  {
   "cell_type": "markdown",
   "id": "466c514c",
   "metadata": {},
   "source": [
    "Method - 1 to access column¶"
   ]
  },
  {
   "cell_type": "code",
   "execution_count": null,
   "id": "019d4d95",
   "metadata": {},
   "outputs": [],
   "source": [
    "df_new['invoice_date']"
   ]
  },
  {
   "cell_type": "code",
   "execution_count": null,
   "id": "7f18803e",
   "metadata": {},
   "outputs": [],
   "source": [
    "0        2010-12-01 08:26:00\n",
    "1        2010-12-01 08:26:00\n",
    "2        2010-12-01 08:26:00\n",
    "3        2010-12-01 08:26:00\n",
    "4        2010-12-01 08:26:00\n",
    "                 ...        \n",
    "541904   2011-12-09 12:50:00\n",
    "541905   2011-12-09 12:50:00\n",
    "541906   2011-12-09 12:50:00\n",
    "541907   2011-12-09 12:50:00\n",
    "541908   2011-12-09 12:50:00\n",
    "Name: invoice_date, Length: 397924, dtype: datetime64[ns]"
   ]
  },
  {
   "cell_type": "markdown",
   "id": "641d258f",
   "metadata": {},
   "source": [
    "Method - 2 to access column¶"
   ]
  },
  {
   "cell_type": "code",
   "execution_count": null,
   "id": "e86edd8b",
   "metadata": {},
   "outputs": [],
   "source": [
    "df_new.invoice_date"
   ]
  },
  {
   "cell_type": "code",
   "execution_count": null,
   "id": "cdc2fc4a",
   "metadata": {},
   "outputs": [],
   "source": [
    "0        2010-12-01 08:26:00\n",
    "1        2010-12-01 08:26:00\n",
    "2        2010-12-01 08:26:00\n",
    "3        2010-12-01 08:26:00\n",
    "4        2010-12-01 08:26:00\n",
    "                 ...        \n",
    "541904   2011-12-09 12:50:00\n",
    "541905   2011-12-09 12:50:00\n",
    "541906   2011-12-09 12:50:00\n",
    "541907   2011-12-09 12:50:00\n",
    "541908   2011-12-09 12:50:00\n",
    "Name: invoice_date, Length: 397924, dtype: datetime64[ns]"
   ]
  },
  {
   "cell_type": "markdown",
   "id": "2eaf485e",
   "metadata": {},
   "source": [
    "Accessing year value from invoice_date¶"
   ]
  },
  {
   "cell_type": "code",
   "execution_count": null,
   "id": "4c462b3f",
   "metadata": {},
   "outputs": [],
   "source": [
    "df_new['invoice_date'].dt.year"
   ]
  },
  {
   "cell_type": "code",
   "execution_count": null,
   "id": "9a2fae84",
   "metadata": {},
   "outputs": [],
   "source": [
    "0         2010\n",
    "1         2010\n",
    "2         2010\n",
    "3         2010\n",
    "4         2010\n",
    "          ... \n",
    "541904    2011\n",
    "541905    2011\n",
    "541906    2011\n",
    "541907    2011\n",
    "541908    2011\n",
    "Name: invoice_date, Length: 397924, dtype: int64"
   ]
  },
  {
   "cell_type": "markdown",
   "id": "52c2cd13",
   "metadata": {},
   "source": [
    "Accessing month value from invoice_date¶"
   ]
  },
  {
   "cell_type": "code",
   "execution_count": null,
   "id": "0f7f610b",
   "metadata": {},
   "outputs": [],
   "source": [
    "df_new['invoice_date'].dt.month"
   ]
  },
  {
   "cell_type": "code",
   "execution_count": null,
   "id": "2878ee38",
   "metadata": {},
   "outputs": [],
   "source": [
    "0         12\n",
    "1         12\n",
    "2         12\n",
    "3         12\n",
    "4         12\n",
    "          ..\n",
    "541904    12\n",
    "541905    12\n",
    "541906    12\n",
    "541907    12\n",
    "541908    12\n",
    "Name: invoice_date, Length: 397924, dtype: int64"
   ]
  },
  {
   "cell_type": "markdown",
   "id": "b8db7df4",
   "metadata": {},
   "source": [
    "Access initial Data¶"
   ]
  },
  {
   "cell_type": "code",
   "execution_count": null,
   "id": "02174168",
   "metadata": {},
   "outputs": [],
   "source": [
    "df_new.head(2)"
   ]
  },
  {
   "cell_type": "markdown",
   "id": "48cd581f",
   "metadata": {},
   "source": [
    "Lets insert year_month colum in 2nd position¶"
   ]
  },
  {
   "cell_type": "markdown",
   "id": "3419d375",
   "metadata": {},
   "source": [
    "Need to restart from here¶"
   ]
  },
  {
   "cell_type": "markdown",
   "id": "91f70067",
   "metadata": {},
   "source": [
    "small calculation¶"
   ]
  },
  {
   "cell_type": "code",
   "execution_count": null,
   "id": "26fd88f4",
   "metadata": {},
   "outputs": [],
   "source": [
    "y = 2010\n",
    "m = 12"
   ]
  },
  {
   "cell_type": "code",
   "execution_count": null,
   "id": "816cad8f",
   "metadata": {},
   "outputs": [],
   "source": [
    "y_m = 100*2010 + 12"
   ]
  },
  {
   "cell_type": "code",
   "execution_count": null,
   "id": "538eef0d",
   "metadata": {},
   "outputs": [],
   "source": [
    "y_m"
   ]
  },
  {
   "cell_type": "code",
   "execution_count": null,
   "id": "2e2acf03",
   "metadata": {},
   "outputs": [],
   "source": [
    "201012"
   ]
  },
  {
   "cell_type": "code",
   "execution_count": null,
   "id": "4a2ff70d",
   "metadata": {},
   "outputs": [],
   "source": [
    "c1 = 'year_month'"
   ]
  },
  {
   "cell_type": "code",
   "execution_count": null,
   "id": "cbd28695",
   "metadata": {},
   "outputs": [],
   "source": [
    "v1 = df_new['invoice_date'].map(lambda col: 100*(col.year) + col.month)"
   ]
  },
  {
   "cell_type": "code",
   "execution_count": null,
   "id": "daa33ab2",
   "metadata": {},
   "outputs": [],
   "source": [
    "df_new.insert(loc = 2, column = c1, value = v1)"
   ]
  },
  {
   "cell_type": "code",
   "execution_count": null,
   "id": "d19f6c62",
   "metadata": {},
   "outputs": [],
   "source": [
    "df_new"
   ]
  },
  {
   "cell_type": "markdown",
   "id": "ba50fd11",
   "metadata": {},
   "source": [
    "397924 rows × 10 columns"
   ]
  },
  {
   "cell_type": "markdown",
   "id": "c26d87bf",
   "metadata": {},
   "source": [
    "Access initial data¶"
   ]
  },
  {
   "cell_type": "code",
   "execution_count": null,
   "id": "75109668",
   "metadata": {},
   "outputs": [],
   "source": [
    "df_new.head()"
   ]
  },
  {
   "cell_type": "markdown",
   "id": "77d72f5e",
   "metadata": {},
   "source": [
    "Adding month column to the exisint DataFrame¶"
   ]
  },
  {
   "cell_type": "code",
   "execution_count": null,
   "id": "01bfcc3e",
   "metadata": {},
   "outputs": [],
   "source": [
    "c2 = 'month'"
   ]
  },
  {
   "cell_type": "code",
   "execution_count": null,
   "id": "7fe2ee81",
   "metadata": {},
   "outputs": [],
   "source": [
    "v2 = df_new.invoice_date.dt.month"
   ]
  },
  {
   "cell_type": "code",
   "execution_count": null,
   "id": "cff5545f",
   "metadata": {},
   "outputs": [],
   "source": [
    "df_new.insert(loc = 3, column = c2, value = v2)"
   ]
  },
  {
   "cell_type": "code",
   "execution_count": null,
   "id": "3cde1d44",
   "metadata": {},
   "outputs": [],
   "source": [
    "df_new.head()"
   ]
  },
  {
   "cell_type": "markdown",
   "id": "cc143951",
   "metadata": {},
   "source": [
    "Lets access invoice_date column¶"
   ]
  },
  {
   "cell_type": "code",
   "execution_count": null,
   "id": "f7dd33e5",
   "metadata": {},
   "outputs": [],
   "source": [
    "df_new.invoice_date"
   ]
  },
  {
   "cell_type": "code",
   "execution_count": null,
   "id": "a2b429b9",
   "metadata": {},
   "outputs": [],
   "source": [
    "0        2010-12-01 08:26:00\n",
    "1        2010-12-01 08:26:00\n",
    "2        2010-12-01 08:26:00\n",
    "3        2010-12-01 08:26:00\n",
    "4        2010-12-01 08:26:00\n",
    "                 ...        \n",
    "541904   2011-12-09 12:50:00\n",
    "541905   2011-12-09 12:50:00\n",
    "541906   2011-12-09 12:50:00\n",
    "541907   2011-12-09 12:50:00\n",
    "541908   2011-12-09 12:50:00\n",
    "Name: invoice_date, Length: 397924, dtype: datetime64[ns]"
   ]
  },
  {
   "cell_type": "markdown",
   "id": "1965f2f3",
   "metadata": {},
   "source": [
    "We can get day of the week¶"
   ]
  },
  {
   "cell_type": "code",
   "execution_count": null,
   "id": "86788a55",
   "metadata": {},
   "outputs": [],
   "source": [
    "df_new.invoice_date.dt.dayofweek"
   ]
  },
  {
   "cell_type": "code",
   "execution_count": null,
   "id": "953d66e3",
   "metadata": {},
   "outputs": [],
   "source": [
    "0         2\n",
    "1         2\n",
    "2         2\n",
    "3         2\n",
    "4         2\n",
    "         ..\n",
    "541904    4\n",
    "541905    4\n",
    "541906    4\n",
    "541907    4\n",
    "541908    4\n",
    "Name: invoice_date, Length: 397924, dtype: int64"
   ]
  },
  {
   "cell_type": "markdown",
   "id": "75df8f1f",
   "metadata": {},
   "source": [
    "In pandas, the day formate starts from 0 to 6¶"
   ]
  },
  {
   "cell_type": "markdown",
   "id": "52480a7b",
   "metadata": {},
   "source": [
    "Monday = 0\n",
    "Tuesday = 1\n",
    "....\n",
    "Sunday = 6"
   ]
  },
  {
   "cell_type": "markdown",
   "id": "2b304bef",
   "metadata": {},
   "source": [
    "Apply +1 to make Monday = 1.....until Sunday = 7¶"
   ]
  },
  {
   "cell_type": "code",
   "execution_count": null,
   "id": "690beebf",
   "metadata": {},
   "outputs": [],
   "source": [
    "c3 = 'day'"
   ]
  },
  {
   "cell_type": "code",
   "execution_count": null,
   "id": "36ab7b8b",
   "metadata": {},
   "outputs": [],
   "source": [
    "v3 = (df_new.invoice_date.dt.dayofweek)+1"
   ]
  },
  {
   "cell_type": "code",
   "execution_count": null,
   "id": "ebdd1207",
   "metadata": {},
   "outputs": [],
   "source": [
    "df_new.insert(loc = 4, column = c3, value = v3)"
   ]
  },
  {
   "cell_type": "code",
   "execution_count": null,
   "id": "a31904ce",
   "metadata": {},
   "outputs": [],
   "source": [
    "df_new.head()"
   ]
  },
  {
   "cell_type": "markdown",
   "id": "c90f9c52",
   "metadata": {},
   "source": [
    "Adding hour column to existing DataFrame¶"
   ]
  },
  {
   "cell_type": "code",
   "execution_count": null,
   "id": "1a74e4dc",
   "metadata": {},
   "outputs": [],
   "source": [
    "df_new.invoice_date"
   ]
  },
  {
   "cell_type": "code",
   "execution_count": null,
   "id": "424c2443",
   "metadata": {},
   "outputs": [],
   "source": [
    "0        2010-12-01 08:26:00\n",
    "1        2010-12-01 08:26:00\n",
    "2        2010-12-01 08:26:00\n",
    "3        2010-12-01 08:26:00\n",
    "4        2010-12-01 08:26:00\n",
    "                 ...        \n",
    "541904   2011-12-09 12:50:00\n",
    "541905   2011-12-09 12:50:00\n",
    "541906   2011-12-09 12:50:00\n",
    "541907   2011-12-09 12:50:00\n",
    "541908   2011-12-09 12:50:00\n",
    "Name: invoice_date, Length: 397924, dtype: datetime64[ns]"
   ]
  },
  {
   "cell_type": "code",
   "execution_count": null,
   "id": "9a08e449",
   "metadata": {},
   "outputs": [],
   "source": [
    "# dir(df_new.invoice_date)"
   ]
  },
  {
   "cell_type": "code",
   "execution_count": null,
   "id": "bf0a407d",
   "metadata": {},
   "outputs": [],
   "source": [
    "# dir(df_new.invoice_date.dt)"
   ]
  },
  {
   "cell_type": "code",
   "execution_count": null,
   "id": "1ff1f90e",
   "metadata": {},
   "outputs": [],
   "source": [
    "# df_new.invoice_date.dt.hour"
   ]
  },
  {
   "cell_type": "code",
   "execution_count": null,
   "id": "9dfea5bb",
   "metadata": {},
   "outputs": [],
   "source": [
    "c4 = \"hour\""
   ]
  },
  {
   "cell_type": "code",
   "execution_count": null,
   "id": "4ec10f11",
   "metadata": {},
   "outputs": [],
   "source": [
    "v4 = df_new.invoice_date.dt.hour"
   ]
  },
  {
   "cell_type": "code",
   "execution_count": null,
   "id": "6280af30",
   "metadata": {},
   "outputs": [],
   "source": [
    "df_new.insert(loc = 5, column = c4, value = v4)"
   ]
  },
  {
   "cell_type": "code",
   "execution_count": null,
   "id": "6c7a22fc",
   "metadata": {},
   "outputs": [],
   "source": [
    "df_new.head()"
   ]
  },
  {
   "cell_type": "markdown",
   "id": "36cb8da6",
   "metadata": {},
   "source": [
    "Lets display all columns once¶"
   ]
  },
  {
   "cell_type": "code",
   "execution_count": null,
   "id": "c0a449f3",
   "metadata": {},
   "outputs": [],
   "source": [
    "df_new.columns"
   ]
  },
  {
   "cell_type": "code",
   "execution_count": null,
   "id": "14e0011a",
   "metadata": {},
   "outputs": [],
   "source": [
    "Index(['invoice_num', 'invoice_date', 'year_month', 'month', 'day', 'hour',\n",
    "       'stock_code', 'description', 'quantity', 'unit_price', 'amount_spent',\n",
    "       'cust_id', 'country'],\n",
    "      dtype='object')"
   ]
  },
  {
   "cell_type": "code",
   "execution_count": null,
   "id": "a8918dd5",
   "metadata": {},
   "outputs": [],
   "source": [
    "for col in df_new.columns:\n",
    "    print(col)"
   ]
  },
  {
   "cell_type": "code",
   "execution_count": null,
   "id": "307f3084",
   "metadata": {},
   "outputs": [],
   "source": [
    "invoice_num\n",
    "invoice_date\n",
    "year_month\n",
    "month\n",
    "day\n",
    "hour\n",
    "stock_code\n",
    "description\n",
    "quantity\n",
    "unit_price\n",
    "amount_spent\n",
    "cust_id\n",
    "country"
   ]
  },
  {
   "cell_type": "markdown",
   "id": "657fb715",
   "metadata": {},
   "source": [
    "Exploratory Data Analysis (EDA)¶"
   ]
  },
  {
   "cell_type": "code",
   "execution_count": null,
   "id": "cb5df75b",
   "metadata": {},
   "outputs": [],
   "source": [
    "df_new.groupby(by = ['cust_id']).count()"
   ]
  },
  {
   "cell_type": "markdown",
   "id": "9fee4738",
   "metadata": {},
   "source": [
    "4339 rows × 12 columns"
   ]
  },
  {
   "cell_type": "code",
   "execution_count": null,
   "id": "ce103214",
   "metadata": {},
   "outputs": [],
   "source": [
    "df_new.groupby(by = ['cust_id','country']).count()"
   ]
  },
  {
   "cell_type": "markdown",
   "id": "df69130d",
   "metadata": {},
   "source": [
    "4347 rows × 11 columns"
   ]
  },
  {
   "cell_type": "code",
   "execution_count": null,
   "id": "9cf442dc",
   "metadata": {},
   "outputs": [],
   "source": [
    "df_new.groupby(by = ['cust_id','country'])['invoice_num'].count()"
   ]
  },
  {
   "cell_type": "code",
   "execution_count": null,
   "id": "b8646d74",
   "metadata": {},
   "outputs": [],
   "source": [
    "cust_id  country       \n",
    "12346    United Kingdom      1\n",
    "12347    Iceland           182\n",
    "12348    Finland            31\n",
    "12349    Italy              73\n",
    "12350    Norway             17\n",
    "                          ... \n",
    "18280    United Kingdom     10\n",
    "18281    United Kingdom      7\n",
    "18282    United Kingdom     12\n",
    "18283    United Kingdom    756\n",
    "18287    United Kingdom     70\n",
    "Name: invoice_num, Length: 4347, dtype: int64"
   ]
  },
  {
   "cell_type": "code",
   "execution_count": null,
   "id": "d56d2c2c",
   "metadata": {},
   "outputs": [],
   "source": [
    "df_new.groupby(by = ['cust_id','country'], as_index = False)['invoice_num'].count()"
   ]
  },
  {
   "cell_type": "markdown",
   "id": "ceeb6667",
   "metadata": {},
   "source": [
    "4347 rows × 3 columns"
   ]
  },
  {
   "cell_type": "code",
   "execution_count": null,
   "id": "cc95950a",
   "metadata": {},
   "outputs": [],
   "source": [
    "df_new.groupby(by=['cust_id','country'], as_index=False)['invoice_num'].count().head()"
   ]
  },
  {
   "cell_type": "markdown",
   "id": "984e2140",
   "metadata": {},
   "source": [
    "Data Visaulization libraries¶"
   ]
  },
  {
   "cell_type": "code",
   "execution_count": null,
   "id": "a71e45db",
   "metadata": {},
   "outputs": [],
   "source": [
    "import matplotlib.pyplot as plt\n",
    "import seaborn as sns"
   ]
  },
  {
   "cell_type": "code",
   "execution_count": null,
   "id": "c348ef9d",
   "metadata": {},
   "outputs": [],
   "source": [
    "df_new.groupby(by=['cust_id','country'], as_index=False)['invoice_num'].count()"
   ]
  },
  {
   "cell_type": "markdown",
   "id": "a89ed6e9",
   "metadata": {},
   "source": [
    "4347 rows × 3 columns"
   ]
  },
  {
   "cell_type": "code",
   "execution_count": null,
   "id": "61be3ed7",
   "metadata": {},
   "outputs": [],
   "source": [
    "orders = df_new.groupby(by=['cust_id','country'], as_index=False)['invoice_num'].count()"
   ]
  },
  {
   "cell_type": "code",
   "execution_count": null,
   "id": "a4a64380",
   "metadata": {},
   "outputs": [],
   "source": [
    "orders"
   ]
  },
  {
   "cell_type": "markdown",
   "id": "c4c6c0b5",
   "metadata": {},
   "source": [
    "4347 rows × 3 columns"
   ]
  },
  {
   "cell_type": "markdown",
   "id": "e94bf1d5",
   "metadata": {},
   "source": [
    "Check TOP 5 most number of orders¶"
   ]
  },
  {
   "cell_type": "code",
   "execution_count": null,
   "id": "6e7ae39c",
   "metadata": {},
   "outputs": [],
   "source": [
    "orders.sort_values(by = 'invoice_num', ascending = False).head()"
   ]
  },
  {
   "cell_type": "markdown",
   "id": "2a39129c",
   "metadata": {},
   "source": [
    "Visualizing - Number of Orders for different Customers¶"
   ]
  },
  {
   "cell_type": "code",
   "execution_count": null,
   "id": "dc7aa38e",
   "metadata": {},
   "outputs": [],
   "source": [
    "orders = df_new.groupby(by=['cust_id','country'], as_index=False)['invoice_num'].count()\n",
    "\n",
    "plt.subplots(figsize=(15,6))\n",
    "\n",
    "plt.plot(orders.cust_id, orders.invoice_num)\n",
    "\n",
    "plt.xlabel('Customers ID')\n",
    "plt.ylabel('Number of Orders')\n",
    "plt.title('Number of Orders for different Customers')\n",
    "\n",
    "plt.show()"
   ]
  },
  {
   "cell_type": "markdown",
   "id": "046d968d",
   "metadata": {},
   "source": [
    "![Visualization](data:image/png;base64,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\n",
    ")"
   ]
  },
  {
   "cell_type": "markdown",
   "id": "3eb9bbb1",
   "metadata": {},
   "source": [
    "How much money spent by each customers?¶"
   ]
  },
  {
   "cell_type": "code",
   "execution_count": null,
   "id": "6c327574",
   "metadata": {},
   "outputs": [],
   "source": [
    "df_new.groupby(by = ['cust_id', 'country']).sum()"
   ]
  },
  {
   "cell_type": "markdown",
   "id": "856b57fb",
   "metadata": {},
   "source": [
    "4347 rows × 7 columns"
   ]
  },
  {
   "cell_type": "code",
   "execution_count": null,
   "id": "78769cfa",
   "metadata": {},
   "outputs": [],
   "source": [
    "df_new.groupby(by = ['cust_id', 'country'])['amount_spent'].sum()"
   ]
  },
  {
   "cell_type": "code",
   "execution_count": null,
   "id": "3f7451d1",
   "metadata": {},
   "outputs": [],
   "source": [
    "cust_id  country       \n",
    "12346    United Kingdom    77183.60\n",
    "12347    Iceland            4310.00\n",
    "12348    Finland            1797.24\n",
    "12349    Italy              1757.55\n",
    "12350    Norway              334.40\n",
    "                             ...   \n",
    "18280    United Kingdom      180.60\n",
    "18281    United Kingdom       80.82\n",
    "18282    United Kingdom      178.05\n",
    "18283    United Kingdom     2094.88\n",
    "18287    United Kingdom     1837.28\n",
    "Name: amount_spent, Length: 4347, dtype: float64"
   ]
  },
  {
   "cell_type": "code",
   "execution_count": null,
   "id": "d7acaf72",
   "metadata": {},
   "outputs": [],
   "source": [
    "df_new.groupby(by = ['cust_id', 'country'], as_index = False)['amount_spent'].sum()"
   ]
  },
  {
   "cell_type": "markdown",
   "id": "94a7333d",
   "metadata": {},
   "source": [
    "4347 rows × 3 columns"
   ]
  },
  {
   "cell_type": "code",
   "execution_count": null,
   "id": "3b65758e",
   "metadata": {},
   "outputs": [],
   "source": [
    "money_spent = df_new.groupby(by = ['cust_id', 'country'], as_index = False)['amount_spent'].sum()"
   ]
  },
  {
   "cell_type": "code",
   "execution_count": null,
   "id": "aa657d21",
   "metadata": {},
   "outputs": [],
   "source": [
    "money_spent"
   ]
  },
  {
   "cell_type": "markdown",
   "id": "c7046ef6",
   "metadata": {},
   "source": [
    "4347 rows × 3 columns"
   ]
  },
  {
   "cell_type": "markdown",
   "id": "c40ef1a2",
   "metadata": {},
   "source": [
    "Top FIVE customers who spend highest money¶"
   ]
  },
  {
   "cell_type": "code",
   "execution_count": null,
   "id": "bc64406e",
   "metadata": {},
   "outputs": [],
   "source": [
    "money_spent.sort_values(by='amount_spent', ascending = False).head()"
   ]
  },
  {
   "cell_type": "markdown",
   "id": "0a08dde1",
   "metadata": {},
   "source": [
    "Top TEN customers who spend highest money¶"
   ]
  },
  {
   "cell_type": "code",
   "execution_count": null,
   "id": "4cc06796",
   "metadata": {},
   "outputs": [],
   "source": [
    "money_spent.sort_values(by='amount_spent', ascending = False).head(10)"
   ]
  },
  {
   "cell_type": "markdown",
   "id": "0c23d0f8",
   "metadata": {},
   "source": [
    "Visualizing - Money spent for different customers¶"
   ]
  },
  {
   "cell_type": "code",
   "execution_count": null,
   "id": "b366673d",
   "metadata": {},
   "outputs": [],
   "source": [
    "money_spent = df_new.groupby(by=['cust_id','country'], as_index=False)['amount_spent'].sum()\n",
    "\n",
    "plt.subplots(figsize=(15,6))\n",
    "\n",
    "plt.plot(money_spent.cust_id, money_spent.amount_spent)\n",
    "\n",
    "plt.xlabel('Customers ID')\n",
    "plt.ylabel('Money spent (Dollar)')\n",
    "plt.title('Money Spent for different Customers')\n",
    "\n",
    "plt.show()"
   ]
  },
  {
   "cell_type": "markdown",
   "id": "e2a4cb7b",
   "metadata": {},
   "source": [
    "![Visualization](data:image/png;base64,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\n",
    ")"
   ]
  },
  {
   "cell_type": "code",
   "execution_count": null,
   "id": "b9c2b1d1",
   "metadata": {},
   "outputs": [],
   "source": [
    "df_new.head()"
   ]
  },
  {
   "cell_type": "markdown",
   "id": "908ab009",
   "metadata": {},
   "source": [
    "Number of order for different months¶"
   ]
  },
  {
   "cell_type": "code",
   "execution_count": null,
   "id": "a24f58d7",
   "metadata": {},
   "outputs": [],
   "source": [
    "color = sns.color_palette()"
   ]
  },
  {
   "cell_type": "markdown",
   "id": "521ddc5b",
   "metadata": {},
   "source": [
    "Initial Data¶"
   ]
  },
  {
   "cell_type": "code",
   "execution_count": null,
   "id": "97c62dec",
   "metadata": {},
   "outputs": [],
   "source": [
    "df_new.head()"
   ]
  },
  {
   "cell_type": "code",
   "execution_count": null,
   "id": "24725bc1",
   "metadata": {},
   "outputs": [],
   "source": [
    "df_new.groupby('invoice_num')"
   ]
  },
  {
   "cell_type": "code",
   "execution_count": null,
   "id": "8b1b469b",
   "metadata": {},
   "outputs": [],
   "source": [
    "<pandas.core.groupby.generic.DataFrameGroupBy object at 0x0000020AA1C60F70>"
   ]
  },
  {
   "cell_type": "code",
   "execution_count": null,
   "id": "74ad74b5",
   "metadata": {},
   "outputs": [],
   "source": [
    "df_new.groupby('invoice_num')['year_month']"
   ]
  },
  {
   "cell_type": "code",
   "execution_count": null,
   "id": "4bf669e3",
   "metadata": {},
   "outputs": [],
   "source": [
    "<pandas.core.groupby.generic.SeriesGroupBy object at 0x0000020AA1CB7DC0>"
   ]
  },
  {
   "cell_type": "code",
   "execution_count": null,
   "id": "acbfe7c7",
   "metadata": {},
   "outputs": [],
   "source": [
    "df_new.groupby('invoice_num')['year_month'].unique()"
   ]
  },
  {
   "cell_type": "code",
   "execution_count": null,
   "id": "788b245f",
   "metadata": {},
   "outputs": [],
   "source": [
    "invoice_num\n",
    "536365    [201012]\n",
    "536366    [201012]\n",
    "536367    [201012]\n",
    "536368    [201012]\n",
    "536369    [201012]\n",
    "            ...   \n",
    "581583    [201112]\n",
    "581584    [201112]\n",
    "581585    [201112]\n",
    "581586    [201112]\n",
    "581587    [201112]\n",
    "Name: year_month, Length: 18536, dtype: object"
   ]
  },
  {
   "cell_type": "code",
   "execution_count": null,
   "id": "e92efbe2",
   "metadata": {},
   "outputs": [],
   "source": [
    "df_new.groupby('invoice_num')['year_month'].unique().value_counts()"
   ]
  },
  {
   "cell_type": "code",
   "execution_count": null,
   "id": "34a96392",
   "metadata": {},
   "outputs": [],
   "source": [
    "[201111]    2658\n",
    "[201110]    1929\n",
    "[201109]    1756\n",
    "[201105]    1555\n",
    "[201012]    1400\n",
    "[201106]    1393\n",
    "[201107]    1331\n",
    "[201103]    1321\n",
    "[201108]    1281\n",
    "[201104]    1149\n",
    "[201102]     998\n",
    "[201101]     987\n",
    "[201112]     778\n",
    "Name: year_month, dtype: int64"
   ]
  },
  {
   "cell_type": "code",
   "execution_count": null,
   "id": "adbb5e83",
   "metadata": {},
   "outputs": [],
   "source": [
    "df_new.groupby('invoice_num')['year_month'].unique().value_counts().sort_index()"
   ]
  },
  {
   "cell_type": "code",
   "execution_count": null,
   "id": "14bc4f6e",
   "metadata": {},
   "outputs": [],
   "source": [
    "[201012]    1400\n",
    "[201101]     987\n",
    "[201102]     998\n",
    "[201103]    1321\n",
    "[201104]    1149\n",
    "[201105]    1555\n",
    "[201106]    1393\n",
    "[201107]    1331\n",
    "[201108]    1281\n",
    "[201109]    1756\n",
    "[201110]    1929\n",
    "[201111]    2658\n",
    "[201112]     778\n",
    "Name: year_month, dtype: int64"
   ]
  },
  {
   "cell_type": "code",
   "execution_count": null,
   "id": "da8e9878",
   "metadata": {},
   "outputs": [],
   "source": [
    "ax = df_new.groupby('invoice_num')['year_month'].unique().value_counts().sort_index().plot(kind = 'bar',color = color[0],figsize = (15,6))\n",
    "\n",
    "ax.set_xlabel('Month and Year',fontsize=15)\n",
    "ax.set_ylabel('Number of Orders',fontsize=15)\n",
    "ax.set_title('Number of orders for different Months (1st Dec 2010 - 9th Dec 2011)', fontsize = 15)\n",
    "\n",
    "t = ('Dec_10','Jan_11','Feb_11','Mar_11','Apr_11','May_11','Jun_11','July_11','Aug_11','Sep_11','Oct_11','Nov_11','Dec_11')\n",
    "\n",
    "ax.set_xticklabels(t, rotation='horizontal', fontsize=13)\n",
    "\n",
    "plt.show()"
   ]
  },
  {
   "cell_type": "markdown",
   "id": "943a4295",
   "metadata": {},
   "source": [
    "![Visualization](data:image/png;base64,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\n",
    ")"
   ]
  },
  {
   "cell_type": "markdown",
   "id": "af4fc88a",
   "metadata": {},
   "source": [
    "How many orders (per day)?¶"
   ]
  },
  {
   "cell_type": "code",
   "execution_count": null,
   "id": "4d7f0a3d",
   "metadata": {},
   "outputs": [],
   "source": [
    "df_new.groupby('invoice_num')"
   ]
  },
  {
   "cell_type": "code",
   "execution_count": null,
   "id": "385788b6",
   "metadata": {},
   "outputs": [],
   "source": [
    "<pandas.core.groupby.generic.DataFrameGroupBy object at 0x0000020AA1F28B50>"
   ]
  },
  {
   "cell_type": "code",
   "execution_count": null,
   "id": "b957727e",
   "metadata": {},
   "outputs": [],
   "source": [
    "df_new.groupby('invoice_num')['day']"
   ]
  },
  {
   "cell_type": "code",
   "execution_count": null,
   "id": "44608a8d",
   "metadata": {},
   "outputs": [],
   "source": [
    "<pandas.core.groupby.generic.SeriesGroupBy object at 0x0000020AA1F28C10>"
   ]
  },
  {
   "cell_type": "code",
   "execution_count": null,
   "id": "0efa1980",
   "metadata": {},
   "outputs": [],
   "source": [
    "df_new.groupby('invoice_num')['day'].unique()"
   ]
  },
  {
   "cell_type": "code",
   "execution_count": null,
   "id": "67f6a8aa",
   "metadata": {},
   "outputs": [],
   "source": [
    "invoice_num\n",
    "536365    [3]\n",
    "536366    [3]\n",
    "536367    [3]\n",
    "536368    [3]\n",
    "536369    [3]\n",
    "         ... \n",
    "581583    [5]\n",
    "581584    [5]\n",
    "581585    [5]\n",
    "581586    [5]\n",
    "581587    [5]\n",
    "Name: day, Length: 18536, dtype: object"
   ]
  },
  {
   "cell_type": "code",
   "execution_count": null,
   "id": "6f0a6391",
   "metadata": {},
   "outputs": [],
   "source": [
    "df_new.groupby('invoice_num')['day'].unique().value_counts()"
   ]
  },
  {
   "cell_type": "code",
   "execution_count": null,
   "id": "245202df",
   "metadata": {},
   "outputs": [],
   "source": [
    "[4]    4033\n",
    "[3]    3455\n",
    "[2]    3185\n",
    "[1]    2863\n",
    "[5]    2831\n",
    "[7]    2169\n",
    "Name: day, dtype: int64"
   ]
  },
  {
   "cell_type": "code",
   "execution_count": null,
   "id": "7b8f0158",
   "metadata": {},
   "outputs": [],
   "source": [
    "df_new.groupby('invoice_num')['day'].unique().value_counts().sort_index()"
   ]
  },
  {
   "cell_type": "code",
   "execution_count": null,
   "id": "94e42df1",
   "metadata": {},
   "outputs": [],
   "source": [
    "[1]    2863\n",
    "[2]    3185\n",
    "[3]    3455\n",
    "[4]    4033\n",
    "[5]    2831\n",
    "[7]    2169\n",
    "Name: day, dtype: int64"
   ]
  },
  {
   "cell_type": "markdown",
   "id": "c6309772",
   "metadata": {},
   "source": [
    "Day wise sales count/business¶"
   ]
  },
  {
   "cell_type": "code",
   "execution_count": null,
   "id": "6b8fabf1",
   "metadata": {},
   "outputs": [],
   "source": [
    "df_new.head()"
   ]
  },
  {
   "cell_type": "code",
   "execution_count": null,
   "id": "8f5c6b3f",
   "metadata": {},
   "outputs": [],
   "source": [
    "df_new.groupby('invoice_num')"
   ]
  },
  {
   "cell_type": "code",
   "execution_count": null,
   "id": "b65ab8ac",
   "metadata": {},
   "outputs": [],
   "source": [
    "<pandas.core.groupby.generic.DataFrameGroupBy object at 0x0000020AA2541070>"
   ]
  },
  {
   "cell_type": "code",
   "execution_count": null,
   "id": "87ed2355",
   "metadata": {},
   "outputs": [],
   "source": [
    "df_new.groupby('invoice_num')['day']"
   ]
  },
  {
   "cell_type": "code",
   "execution_count": null,
   "id": "d98c9af9",
   "metadata": {},
   "outputs": [],
   "source": [
    "<pandas.core.groupby.generic.SeriesGroupBy object at 0x0000020AA1CE0850>"
   ]
  },
  {
   "cell_type": "code",
   "execution_count": null,
   "id": "33119eb4",
   "metadata": {},
   "outputs": [],
   "source": [
    "df_new.groupby('invoice_num')['day'].unique()"
   ]
  },
  {
   "cell_type": "code",
   "execution_count": null,
   "id": "26c73e1c",
   "metadata": {},
   "outputs": [],
   "source": [
    "invoice_num\n",
    "536365    [3]\n",
    "536366    [3]\n",
    "536367    [3]\n",
    "536368    [3]\n",
    "536369    [3]\n",
    "         ... \n",
    "581583    [5]\n",
    "581584    [5]\n",
    "581585    [5]\n",
    "581586    [5]\n",
    "581587    [5]\n",
    "Name: day, Length: 18536, dtype: object"
   ]
  },
  {
   "cell_type": "code",
   "execution_count": null,
   "id": "2d905b18",
   "metadata": {},
   "outputs": [],
   "source": [
    "df_new.groupby('invoice_num')['day'].unique().value_counts()"
   ]
  },
  {
   "cell_type": "code",
   "execution_count": null,
   "id": "f6d0343d",
   "metadata": {},
   "outputs": [],
   "source": [
    "[4]    4033\n",
    "[3]    3455\n",
    "[2]    3185\n",
    "[1]    2863\n",
    "[5]    2831\n",
    "[7]    2169\n",
    "Name: day, dtype: int64"
   ]
  },
  {
   "cell_type": "code",
   "execution_count": null,
   "id": "c444d200",
   "metadata": {},
   "outputs": [],
   "source": [
    "df_new.groupby('invoice_num')['day'].unique().value_counts().sort_index()"
   ]
  },
  {
   "cell_type": "code",
   "execution_count": null,
   "id": "a57e8160",
   "metadata": {},
   "outputs": [],
   "source": [
    "[1]    2863\n",
    "[2]    3185\n",
    "[3]    3455\n",
    "[4]    4033\n",
    "[5]    2831\n",
    "[7]    2169\n",
    "Name: day, dtype: int64"
   ]
  },
  {
   "cell_type": "markdown",
   "id": "f8097b9d",
   "metadata": {},
   "source": [
    "Lets visualizat Day wise sales count/business¶"
   ]
  },
  {
   "cell_type": "code",
   "execution_count": null,
   "id": "cdfd7c9a",
   "metadata": {},
   "outputs": [],
   "source": [
    "ax = df_new.groupby('invoice_num')['day'].unique().value_counts().sort_index().plot(kind = 'bar',color=color[0],figsize=(15,6))\n",
    "\n",
    "ax.set_xlabel('Day',fontsize=15)\n",
    "ax.set_ylabel('Number of Orders',fontsize=15)\n",
    "ax.set_title('Number of orders for different Days',fontsize=15)\n",
    "d = ('Mon','Tue','Wed','Thur','Fri','Sun')\n",
    "ax.set_xticklabels(d, rotation='horizontal', fontsize=15)\n",
    "plt.show()"
   ]
  },
  {
   "cell_type": "markdown",
   "id": "e3118c09",
   "metadata": {},
   "source": [
    "![Visualization](data:image/png;base64,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\n",
    ")"
   ]
  },
  {
   "cell_type": "markdown",
   "id": "6d04fc61",
   "metadata": {},
   "source": [
    "Discover patterns for Unit Price¶"
   ]
  },
  {
   "cell_type": "code",
   "execution_count": null,
   "id": "a77412c1",
   "metadata": {},
   "outputs": [],
   "source": [
    "df_new.unit_price.describe()"
   ]
  },
  {
   "cell_type": "code",
   "execution_count": null,
   "id": "ea23924e",
   "metadata": {},
   "outputs": [],
   "source": [
    "count    397924.000000\n",
    "mean          3.116174\n",
    "std          22.096788\n",
    "min           0.000000\n",
    "25%           1.250000\n",
    "50%           1.950000\n",
    "75%           3.750000\n",
    "max        8142.750000\n",
    "Name: unit_price, dtype: float64"
   ]
  },
  {
   "cell_type": "markdown",
   "id": "d8b88462",
   "metadata": {},
   "source": [
    "Min value for product is zero, so there are some free products¶"
   ]
  },
  {
   "cell_type": "code",
   "execution_count": null,
   "id": "3c2ab01f",
   "metadata": {},
   "outputs": [],
   "source": [
    "# check the distribution of unit price\n",
    "plt.subplots(figsize = (12,6))\n",
    "\n",
    "sns.boxplot(df_new.unit_price)\n",
    "plt.show()"
   ]
  },
  {
   "cell_type": "markdown",
   "id": "f7a441b9",
   "metadata": {},
   "source": [
    "![Visualization](data:image/png;base64,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\n",
    ")"
   ]
  },
  {
   "cell_type": "markdown",
   "id": "afcaede0",
   "metadata": {},
   "source": [
    "Filter only free products(cost = 0)¶"
   ]
  },
  {
   "cell_type": "code",
   "execution_count": null,
   "id": "dd0007ae",
   "metadata": {},
   "outputs": [],
   "source": [
    "df_free = df_new[df_new.unit_price == 0]"
   ]
  },
  {
   "cell_type": "code",
   "execution_count": null,
   "id": "046f4028",
   "metadata": {},
   "outputs": [],
   "source": [
    "len(df_free)"
   ]
  },
  {
   "cell_type": "code",
   "execution_count": null,
   "id": "3e22e9bd",
   "metadata": {},
   "outputs": [],
   "source": [
    "40"
   ]
  },
  {
   "cell_type": "code",
   "execution_count": null,
   "id": "92f0252c",
   "metadata": {},
   "outputs": [],
   "source": [
    "df_free.year_month"
   ]
  },
  {
   "cell_type": "code",
   "execution_count": null,
   "id": "951c8bac",
   "metadata": {},
   "outputs": [],
   "source": [
    "9302      201012\n",
    "33576     201012\n",
    "40089     201012\n",
    "47068     201101\n",
    "47070     201101\n",
    "56674     201101\n",
    "86789     201102\n",
    "130188    201103\n",
    "139453    201103\n",
    "145208    201104\n",
    "157042    201104\n",
    "187613    201105\n",
    "198383    201105\n",
    "279324    201107\n",
    "282912    201107\n",
    "285657    201108\n",
    "298054    201108\n",
    "314745    201108\n",
    "314746    201108\n",
    "314747    201108\n",
    "314748    201108\n",
    "358655    201109\n",
    "361825    201109\n",
    "379913    201110\n",
    "395529    201110\n",
    "420404    201110\n",
    "436428    201111\n",
    "436597    201111\n",
    "436961    201111\n",
    "439361    201111\n",
    "446125    201111\n",
    "446793    201111\n",
    "446794    201111\n",
    "454463    201111\n",
    "454464    201111\n",
    "479079    201111\n",
    "479546    201111\n",
    "480649    201111\n",
    "485985    201111\n",
    "502122    201111\n",
    "Name: year_month, dtype: int64"
   ]
  },
  {
   "cell_type": "code",
   "execution_count": null,
   "id": "b124a00a",
   "metadata": {},
   "outputs": [],
   "source": [
    "df_free.year_month.value_counts()"
   ]
  },
  {
   "cell_type": "code",
   "execution_count": null,
   "id": "c2b8e758",
   "metadata": {},
   "outputs": [],
   "source": [
    "201111    14\n",
    "201108     6\n",
    "201012     3\n",
    "201101     3\n",
    "201110     3\n",
    "201103     2\n",
    "201104     2\n",
    "201105     2\n",
    "201107     2\n",
    "201109     2\n",
    "201102     1\n",
    "Name: year_month, dtype: int64"
   ]
  },
  {
   "cell_type": "code",
   "execution_count": null,
   "id": "c0e784df",
   "metadata": {},
   "outputs": [],
   "source": [
    "df_free.year_month.value_counts().sort_index()"
   ]
  },
  {
   "cell_type": "code",
   "execution_count": null,
   "id": "ceb93f95",
   "metadata": {},
   "outputs": [],
   "source": [
    "201012     3\n",
    "201101     3\n",
    "201102     1\n",
    "201103     2\n",
    "201104     2\n",
    "201105     2\n",
    "201107     2\n",
    "201108     6\n",
    "201109     2\n",
    "201110     3\n",
    "201111    14\n",
    "Name: year_month, dtype: int64"
   ]
  },
  {
   "cell_type": "code",
   "execution_count": null,
   "id": "36666a00",
   "metadata": {},
   "outputs": [],
   "source": [
    "ax = df_free.year_month.value_counts().sort_index().plot(kind = 'bar',figsize=(12,6), color=color[0])\n",
    "ax.set_xlabel('Month',fontsize=15)\n",
    "ax.set_ylabel('Frequency',fontsize=15)\n",
    "ax.set_title('Frequency for different Months (Dec 2010 - Dec 2011)',fontsize=15)\n",
    "\n",
    "m = ('Dec_10','Jan_11','Feb_11','Mar_11','Apr_11','May_11','July_11','Aug_11','Sep_11','Oct_11','Nov_11')\n",
    "\n",
    "ax.set_xticklabels(m, rotation='horizontal', fontsize=13)\n",
    "plt.show()"
   ]
  },
  {
   "cell_type": "markdown",
   "id": "4771a42b",
   "metadata": {},
   "source": [
    "![Visualization](data:image/png;base64,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\n",
    ")"
   ]
  },
  {
   "cell_type": "markdown",
   "id": "33177ff4",
   "metadata": {},
   "source": [
    "How many orders for each country?¶"
   ]
  },
  {
   "cell_type": "code",
   "execution_count": null,
   "id": "cfe3ebc2",
   "metadata": {},
   "outputs": [],
   "source": [
    "df_new"
   ]
  },
  {
   "cell_type": "markdown",
   "id": "1d47aafc",
   "metadata": {},
   "source": [
    "397924 rows × 13 columns"
   ]
  },
  {
   "cell_type": "code",
   "execution_count": null,
   "id": "905192c2",
   "metadata": {},
   "outputs": [],
   "source": [
    "df_new.groupby('country')"
   ]
  },
  {
   "cell_type": "code",
   "execution_count": null,
   "id": "acb4a6f0",
   "metadata": {},
   "outputs": [],
   "source": [
    "<pandas.core.groupby.generic.DataFrameGroupBy object at 0x0000020AA29C6760>"
   ]
  },
  {
   "cell_type": "code",
   "execution_count": null,
   "id": "8f91ceab",
   "metadata": {},
   "outputs": [],
   "source": [
    "df_new.groupby('country')['invoice_num']"
   ]
  },
  {
   "cell_type": "code",
   "execution_count": null,
   "id": "cf0e5785",
   "metadata": {},
   "outputs": [],
   "source": [
    "<pandas.core.groupby.generic.SeriesGroupBy object at 0x0000020AA29C6100>"
   ]
  },
  {
   "cell_type": "code",
   "execution_count": null,
   "id": "9866922e",
   "metadata": {},
   "outputs": [],
   "source": [
    "df_new.groupby('country')['invoice_num'].count()"
   ]
  },
  {
   "cell_type": "code",
   "execution_count": null,
   "id": "d3805e03",
   "metadata": {},
   "outputs": [],
   "source": [
    "country\n",
    "Australia                 1185\n",
    "Austria                    398\n",
    "Bahrain                     17\n",
    "Belgium                   2031\n",
    "Brazil                      32\n",
    "Canada                     151\n",
    "Channel Islands            748\n",
    "Cyprus                     614\n",
    "Czech Republic              25\n",
    "Denmark                    380\n",
    "EIRE                      7238\n",
    "European Community          60\n",
    "Finland                    685\n",
    "France                    8342\n",
    "Germany                   9042\n",
    "Greece                     145\n",
    "Iceland                    182\n",
    "Israel                     248\n",
    "Italy                      758\n",
    "Japan                      321\n",
    "Lebanon                     45\n",
    "Lithuania                   35\n",
    "Malta                      112\n",
    "Netherlands               2363\n",
    "Norway                    1072\n",
    "Poland                     330\n",
    "Portugal                  1462\n",
    "RSA                         58\n",
    "Saudi Arabia                 9\n",
    "Singapore                  222\n",
    "Spain                     2485\n",
    "Sweden                     451\n",
    "Switzerland               1842\n",
    "USA                        179\n",
    "United Arab Emirates        68\n",
    "United Kingdom          354345\n",
    "Unspecified                244\n",
    "Name: invoice_num, dtype: int64"
   ]
  },
  {
   "cell_type": "code",
   "execution_count": null,
   "id": "e821bef8",
   "metadata": {},
   "outputs": [],
   "source": [
    "df_new.groupby('country')['invoice_num'].count().sort_values()"
   ]
  },
  {
   "cell_type": "code",
   "execution_count": null,
   "id": "f4ee63c9",
   "metadata": {},
   "outputs": [],
   "source": [
    "country\n",
    "Saudi Arabia                 9\n",
    "Bahrain                     17\n",
    "Czech Republic              25\n",
    "Brazil                      32\n",
    "Lithuania                   35\n",
    "Lebanon                     45\n",
    "RSA                         58\n",
    "European Community          60\n",
    "United Arab Emirates        68\n",
    "Malta                      112\n",
    "Greece                     145\n",
    "Canada                     151\n",
    "USA                        179\n",
    "Iceland                    182\n",
    "Singapore                  222\n",
    "Unspecified                244\n",
    "Israel                     248\n",
    "Japan                      321\n",
    "Poland                     330\n",
    "Denmark                    380\n",
    "Austria                    398\n",
    "Sweden                     451\n",
    "Cyprus                     614\n",
    "Finland                    685\n",
    "Channel Islands            748\n",
    "Italy                      758\n",
    "Norway                    1072\n",
    "Australia                 1185\n",
    "Portugal                  1462\n",
    "Switzerland               1842\n",
    "Belgium                   2031\n",
    "Netherlands               2363\n",
    "Spain                     2485\n",
    "EIRE                      7238\n",
    "France                    8342\n",
    "Germany                   9042\n",
    "United Kingdom          354345\n",
    "Name: invoice_num, dtype: int64"
   ]
  },
  {
   "cell_type": "markdown",
   "id": "22942d63",
   "metadata": {},
   "source": [
    "How many orders for each country?¶"
   ]
  },
  {
   "cell_type": "code",
   "execution_count": null,
   "id": "9f7d3aee",
   "metadata": {},
   "outputs": [],
   "source": [
    "group_country_orders = df_new.groupby('country')['invoice_num'].count().sort_values()\n",
    "# del group_country_orders['United Kingdom']\n",
    "\n",
    "# plot number of unique customers in each country (with UK)\n",
    "plt.subplots(figsize=(15,8))\n",
    "group_country_orders.plot(kind = 'barh', fontsize=12, color=color[0])\n",
    "plt.xlabel('Number of Orders', fontsize=12)\n",
    "plt.ylabel('Country', fontsize=12)\n",
    "plt.title('Number of Orders for different Countries', fontsize=12)\n",
    "plt.show()"
   ]
  },
  {
   "cell_type": "markdown",
   "id": "47fd76ae",
   "metadata": {},
   "source": [
    "![Visualization](data:image/png;base64,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\n",
    ")"
   ]
  },
  {
   "cell_type": "code",
   "execution_count": null,
   "id": "8850470e",
   "metadata": {},
   "outputs": [],
   "source": [
    "group_country_orders = df_new.groupby('country')['invoice_num'].count().sort_values()\n",
    "del group_country_orders['United Kingdom']\n",
    "\n",
    "# plot number of unique customers in each country (with UK)\n",
    "plt.subplots(figsize=(15,8))\n",
    "group_country_orders.plot(kind = 'barh', fontsize=12, color=color[0])\n",
    "plt.xlabel('Number of Orders', fontsize=12)\n",
    "plt.ylabel('Country', fontsize=12)\n",
    "plt.title('Number of Orders for different Countries', fontsize=12)\n",
    "plt.show()"
   ]
  },
  {
   "cell_type": "markdown",
   "id": "9f400a5c",
   "metadata": {},
   "source": [
    "![Visualization](data:image/png;base64,iVBORw0KGgoAAAANSUhEUgAAA+4AAAH2CAYAAADu/tZhAAAAOXRFWHRTb2Z0d2FyZQBNYXRwbG90bGliIHZlcnNpb24zLjUuMSwgaHR0cHM6Ly9tYXRwbG90bGliLm9yZy/YYfK9AAAACXBIWXMAAAsTAAALEwEAmpwYAACB70lEQVR4nOzdeZwdVZ3//9ebsIZABwgCCZCoLApEGL2AIgjzFUEUlHEUkR2XiIqOCkoGlW0EGUVBhBGDCzuyKIgEBPkpIKvcKBAWlS0hZIEkkM4KJOH9+6Oqtbjp7nQn3ent/Xw8+pFbdZb61O3Gh586p86RbSIiIiIiIiKid1qtpwOIiIiIiIiIiLYlcY+IiIiIiIjoxZK4R0RERERERPRiSdwjIiIiIiIierEk7hERERERERG9WBL3iIiIiIiIiF4siXtEREQvI+kiSd/uoWtL0i8kvSTpz918LUvaqjuvUV7n3ZKekDRf0oHd0P9Rku6qHM+X9Kby8zqSfiupWdI15blvS5olaUZXxzIQSLpZ0pE9HUdExKqUxD0iImI5JE2S9IKkdSvnPi3p9h4Mq7vsDrwP2Nz2Lq1VkLS5pMslzZa0QNKfJe2/asPslNOA82wPsX19d1+svM7T5eFHgU2AjWx/TNKWwHHAdrY37e5YGnXkYYmkzST9TNJ0SfMk/U3SqdW//26K7RRJly2vnu39bF/cnbFERPQ2SdwjIiI6ZhDwXz0dRGdJGtTJJiOBSbYXtNHfhsBdwKvA9sAw4GzgCkkfbaPN6p2MoV0r0N9I4NFVdK3Wrv0P20vK4y2B2bZfWIFYJKlb/79b+fu9F1gHeJft9Sge5AwF3tyd116eVXH/ERG9Vf7HLyIiomO+BxwvaWhjgaRR5Ujm6pVzt0v6dPn5KEl3Szpb0hxJT0varTw/pRzNb5z6O0zS78sRzzskjaz0/Zay7EVJf5d0UKXsIkk/lnSTpAXAv7cS73BJN5Ttn5T0mfL8p4CfAu8qp3uf2sr38BVgPvAp2zNsL7J9JXA68H1JKvuypC9IegJ4ojz3tXIUd5qkTzbEtJaksyQ9K+l5SRdIWqcs20vSc5JOKKeX/0LSMEk3lt/ni5L+1FpSJ+kp4E3Ab8t7Wqut+y/rnyLpWkmXSZoLHNVKnxuV7eeqeJ3gzQ3llrRV+f2dBHy8vPZngd8Dw8vji8r675R0T3kvD0naq9LX7ZJOl3Q3sBB4Uwd+/+dLGl/+7dwv6c1l2Z1ltYfK63+8ld/vV4F5wGG2JwHYnmL7v2w/XPazm6QHVEz/f0DSbpXrT5K0d8P3eVn5ueW/kyPL3/MsSd8oy94PnFj5rh5q5/7/+d9WWeeTkh5X8XrHLS3/rahwtor/vuZKmihph1buOSKi10viHhER0TF14Hbg+BVsvyvwMLARcAXwS2BnYCvgMOA8SUMq9Q8F/odiRPtB4HIAFdOVf1/28QbgYOD/JG1XaXsIRSK9HsXoeKNfAs8Bwymmcp8h6f/Z/hlwDHBvOd375Fbavg/4le3XGs5fTTGavE3l3IHlfW9XJmbHl+23BvZuaH9m2Xan8jsZQZH0ttgU2JBiBHsMxXTz54CNKaainwi4MVjbbwaeBQ4o7+mVtu6/0uzDwLUUo8yXt/IdnA+8DGwGfLL8WUb5/Z0BXFVe+yfAfsC08vgoSSOA8cC3y/s7HviVpI0rXR1e3vN6wEyW//s/GDgV2AB4kuJvAdvvKct3LK9/VSth7w38upXfL/DPEfnxwLkUf8s/AMZL2qi1+m3YHdgWeC9wkqS32v4dr/+udmzj/ic3xPNhit/9Ryj+Fv4EXFkW7wO8h+Lvqgk4CJjdiTgjInqNJO4REREddxLwxYakqqOesf0L20uBq4AtgNNsv2L7Voqp59V3j8fbvrNMNL9BMQq+BbA/xVT2X9heYvuvwK+Aj1Xa/sb23bZfs/1yNYiyj3cDJ9h+2faDFKPsR3TwPoYB01s5P71S3uI7tl+0vYgiafqF7UfKafinVGISRWL2lbL+PIok7uBKX68BJ5ff1yJgMUXiPNL2Ytt/sr1M4t6og/d/r+3ry+9vUUP7QcB/AifZXmD7EWBl3rc+DLjJ9k3l9X5P8ZDoA5U6F9l+tJxu/36W//u/zvafy/qXUzwM6aiNaP332+KDwBO2Ly2vfyXwN+CATlzj1HKmxkPAQ8COy6n/z/u3vbih7BiKv7PHy/s9A9ipHHVfTJHsvwVQWae9e4uI6LWSuEdERHRQmaTdCIxdgebPVz4vKvtrPFcdcZ9Sue584EWKEeKRwK7ltOo5kuZQjM5v2lrbVgwHWpLjFpMpRrg7YhZFwtxos0p5a3EMbziujpxuDAwGJlTu6Xfl+RYzGx5CfI9iNPlWFa8edPR30pH7b+/72xhYvZ176ayRwMcafp+78/rveEpD/eX9/qur1S/k9X9XyzOb1n+/LYaz7P125u8HOh9fe7+PkcAPK9/Fi4CAEbb/AJxHMUPiBUnjJK3fiTgjInqNJO4RERGdczLwGV6fqLQs5Da4cm5lVwzfouVDOYV+Q2AaRRJzh+2hlZ8htj9XadveyPM0YENJ61XObQlM7WBctwEfaeV98oPK2P7RRhzTq/dUXrPFLIoHF9tX7qnJdjWhe9092Z5n+zjbbwI+BHxV0ns7EH9H7r+9728msKSde+msKcClDb/PdW2f2UY8Hfn9r4zbgP9o5ffbYhpFslxV/f4WsOL/HbT1vbf3+5gCfLbh+1jH9j0Ats+1/Q5gO4op81/rRDwREb1GEveIiIhOsP0kxVT3L1XOzaRIXA6TNEjFwmsruwL3ByTtLmlNinfd77M9hWLEfxtJh0tao/zZWdJbOxj/FOAe4DuS1pb0NuBTwHK34SqdTfG+8M8kbVr28QmK6fxfa2e6+tXAUZK2kzSY4gFIS0yvARcCZ0t6A4CkEZL2bSsISfurWABOQDOwlGI6fbtW9v7LVx1+DZwiaXD5bvnK7Cl+GXCApH3Lv521VSzGt3kb9Vfq908x8+NN7ZT/AFgfuLiyyNsIST8ov6ubyusfIml1FQvcbVfGBcV6DAeXcdUo1hDoqOeBUe08NGjNBcB/S9q+jLVJ0sfKzztL2lXSGhQPFF6mA38jERG9URL3iIiIzjsNaNzT+jMUo3mzKbZJu2clr3EFRXL7IvAOinehKad470Px/vc0imnH/wus1Ym+PwGMKttfR/Hu+G0daWh7NsVU7rWBxyju96vA4W0sdtbS7mbgHOAPFFPc/9BQ5YTy/H0qVnO/jWIBs7ZsXdaZT7F92f/Z/mNH7oGVuP/SsRTTu2cAFwG/6ETb1ykfJLQssDaTYgT5a7Tx/9G64Pd/CkVSPkeV1egr/b8I7Ebxfvj9kuYB/x/Fw5Eny9///hSLA84Gvg7sb7vlFYlvUTy0eoligbwrOhgXwDXlv7Ml/aUjDWxfR3H/vyz/bh6hWAAQigcQF5axTC7j/V4n4omI6DXUgXVcIiIiIiIiIqKHZMQ9IiIiIiIiohdL4h4RERERERHRiyVxj4iIiIiIiOjFkrhHRERERERE9GJJ3CMiIiIiIiJ6sdV7OoAIgGHDhnnUqFE9HUZERERERESPmDBhwizbG7dWlsQ9eoVRo0ZRr9d7OoyIiIiIiIgeIWlyW2WZKt9LSTpY0v2SFkh6ofz8eUnq6dgiIiIiIiJi1cmIey8k6Tjg68AXgFuA+cBOwPHAz4BXOtHX6raXdEOYXWri1GZGjR3f02FEREREREQ/NenMD/Z0CCssI+69jKQm4DTg87avtT3Phb/aPtT2K5LWknSWpGclPS/pAknrlO33kvScpBMkzQB+IekUSddIukzSPEkTJW0j6b/L0fwpkvapxHC0pMfLuk9L+mylrKX/48q20yUdXZbtXMYzqFL/I5IeWmVfYERERERERD+TxL33eRewFvCbduqcCWxDMQq/FTACOKlSvimwITASGFOeOwC4FNgA+CvFSP5qZdvTgJ9U2r8A7A+sDxwNnC3p7Q39N5VtPwWcL2kD2w8As4F9KnUPBy5Z/m1HREREREREa5K49z7DgFnV6e2S7pE0R9IiSXtSJONfsf2i7XnAGcDBlT5eA062/YrtReW5P9m+pez3GmBj4Ezbi4FfAqMkDQWwPd72U+VI/x3ArcAelf4XA6fZXmz7Joqp/NuWZRcDh5VxbwjsC1zR2o1KGiOpLqm+dGHzin1bERERERER/Vzece99ZgPDqu+m294NQNJzwCbAYGBCZZ06AYMqfcy0/XJDv89XPi+ieDiwtHIMMASYI2k/4GSKUf3VyutNrMbY8N78wrItwGXA45LWBQ6ieGAwvbUbtT0OGAew1mZbu7U6ERERERERA11G3HufeykWn/twG+WzKBLt7W0PLX+abA+p1FnhJFjSWsCvgLOATWwPBW6ieDiwXLanUtzDRyimyV+6orFERERERERERtx7HdtzJJ0K/F+59dstwALgbcC6FNPgL6R47/xY2y9IGgHsYPuWLghhTYp37GcCS8rR932ARzrRxyXAWIp37H/dkQajRzRR78OrPEZERERERHSXjLj3Qra/C3yVYku458ufnwAnAPeU/z4J3CdpLnAb/3rHfGWvPQ/4EnA18BJwCHBDJ7u5jiJpv872wq6IKyIiIiIiYqCSnVeLo+tJegr4rO3bOlK/Vqu5Xq93c1QRERERERG9k6QJtmutlWXEPbqcpP+keM/+Dz0dS0RERERERF+Xd9yjS0m6HdgOONz2az0cTkRERERERJ+XxL2fkTSJYsu4pZXT29ietiqub3uvVXGdiIiIiIiIgSKJe/90QFvvllf3h+9NJk5tZtTY8T0dRkREREREvzcpuzn1OXnHfQCQZElfkPQE8ER57oeSpkiaK2mCpD0q9U+RdLWkSyTNk/SopFqlfAtJv5Y0U9JsSedVyj4p6XFJL0m6RdLIVXqzERERERER/UwS94HjQGBXivfPAR4AdgI2BK4ArpG0dqX+h4BfAkMptoM7D0DSIOBGYDIwChhR1kPSh4ETgY8AGwN/Aq7srhuKiIiIiIgYCJK490/XS5pT/lxfnvuO7RdtLwKwfZnt2baX2P4+sBav3wv+Lts32V4KXArsWJ7fBRgOfM32Atsv276rLDumvM7j5XT8M4Cd2hp1lzRGUl1SfenC5q68/4iIiIiIiH4jiXv/dKDtoeXPgeW5KdUKko4vp7Q3S5oDNAHDKlVmVD4vBNaWtDqwBTC5jffkRwI/bHloALwIiGJUfhm2x9mu2a4NGtzU+buMiIiIiIgYALI43cDhlg/l++xfB94LPGr7NUkvUSTZyzMF2LKNRe6mAKfbvryrgo6IiIiIiBjokrgPTOsBS4CZwOqSxgLrd7Dtn4HpwJmSTqbYdu4dtu8GLgD+R9KDth+V1ATsY/ua5XU6ekQT9axuGRERERERsYxMlR+YbgF+B/yDYpG5l2mYSt+W8p33A4CtgGeB54CPl2XXAf8L/FLSXOARYL+uDj4iIiIiImIgke3l14roZrVazfV6vafDiIiIiIiI6BGSJtiutVaWEfeIiIiIiIiIXiyJe0REREREREQvlsQ9kDRJ0iJJ8ys/50k6StJdbdSbIekiSUMq5RdJerWhn4d65q4iIiIiIiL6h6wqHy0OsH1b9YSko9qqJ2lTikXu/hv4RqX8u7a/2dmLT5zazKix4zvbLCIiIiL6mEnZSSii0zLiHivE9gyKxH2nHg4lIiIiIiKiX0viHitE0uYUW7092dOxRERERERE9GdJ3KPF9ZLmVH4+0069eRT7vr8AnNxQfnxDPxe3dUFJYyTVJdWXLmzuotuIiIiIiIjoX5K4R4sDbQ+t/FzYTr31gL2AtwDDGsrPaujnyLYuaHuc7Zrt2qDBTV1zFxEREREREf1MEvdYIbbvAC4CzurhUCIiIiIiIvq1rCofK+McYJKkHW2v1LZvo0c0Uc8KoxEREREREcvIiHu0+G3D/uvXLa+B7ZnAJcBJldNfb+hnVrdFHBERERERMQDIdk/HEEGtVnO9Xu/pMCIiIiIiInqEpAm2a62VZcQ9IiIiIiIiohdL4h4rRdIekv7e03FERERERET0V0ncBxBJu0u6R1KzpBcl3S1p55Xp0/afbG/bVTFGRERERETE62VV+QFC0vrAjcDngKuBNYE9gFd6Mq4WE6c2M2rs+J4OI6Lfm5TdGyIiIiL6nIy4DxzbANi+0vZS24ts32r7YUlHlaPv55Wj8X+T9N6WhpKOlvS4pHmSnpb02UrZXpKeqxxPknS8pIfLvq6StPaqvdWIiIiIiIj+I4n7wPEPYKmkiyXtJ2mDhvJdgaeAYcDJwK8lbViWvQDsD6wPHA2cLent7VzrIOD9wBuBtwFHddldREREREREDDBJ3AcI23OB3QEDFwIzJd0gaZOyygvAObYX274K+DvwwbLteNtPuXAHcCvFNPu2nGt7mu0Xgd8CO7VWSdIYSXVJ9aULm7viNiMiIiIiIvqdJO4DiO3HbR9le3NgB2A4cE5ZPNW2K9Unl+WUI/T3lQvazQE+QDEy35YZlc8LgSFtxDPOds12bdDgphW6p4iIiIiIiP4uifsAZftvwEUUCTzACEmqVNkSmCZpLeBXwFnAJraHAjcB1boRERERERHRTbKq/AAh6S0UU9+vsv2cpC2ATwD3lVXeAHxJ0v8BBwJvpUjQ1wTWAmYCSyTtB+wDPNKV8Y0e0UQ9q11HREREREQsIyPuA8c8igXo7pe0gCJhfwQ4riy/H9gamAWcDnzU9mzb84AvUWwh9xJwCHDDKo49IiIiIiJiwNLrX2uOgUjSUcCnbe/eUzHUajXX6/WeunxERERERESPkjTBdq21soy4R0RERERERPRiSdwjIiIiIiIierEk7r2YpEmS9u7u/mxftDLT5CWNkmRJWewwIiIiIiKiiyXR6kKSJgGDgTfaXlCe+zRwmO29ltP2IuA529/s5jB7pYlTmxk1dnxPhxHRJ03KjgwRERER/VpG3LveIOC/ejqIqoyER0RERERE9F1J3Lve94DjJQ1tLJD0Fkm/l/SipL9LOqg8PwY4FPi6pPmSfltptpOkhyU1S7pK0tqV/vaX9KCkOZLukfS2StkkSSdIehhY0Ji8S9pF0r1l2+mSzpO0ZqXcko6R9ERZ53xJKssGSTpL0ixJT1PsD1/t+yhJT0uaJ+kZSYeuxPcZERERERExoCVx73p14Hbg+OpJSesCvweuAN4AHAz8n6TtbI8DLge+a3uI7QMqTQ8C3g+8EXgbcFTZ378BPwc+C2wE/AS4QdJalbafoEiqh9pe0hDnUuArwDDgXcB7gc831Nkf2Lm87kHAvuX5z5Rl/wbUgI823Oe5wH621wN2Ax5s7YuSNEZSXVJ96cLm1qpEREREREQMeEncu8dJwBclbVw5tz8wyfYvbC+x/VfgV8DHltPXuban2X4R+C2wU3l+DPAT2/fbXmr7YuAV4J0NbafYXtTYqe0Jtu8rY5lEkfjv2VDtTNtzbD8L/LFy7YOAc8q+XwS+09DuNWAHSevYnm770dZuzPY42zXbtUGDm5bzNURERERERAxMSdy7ge1HgBuBsZXTI4Fdy2nncyTNoZgev+lyuptR+bwQGFLp77iG/rYAhlfqT2mrU0nbSLpR0gxJc4EzKEbfO3Lt4Q19T275UC7K93HgGGC6pPGS3rKce4yIiIiIiIg2ZNGy7nMy8Bfg++XxFOAO2+9ro7472f8U4HTbp7dTp70+fwz8FfiE7XmSvkxlyvtyTKd4SNBiy9dd1L4FuEXSOsC3gQuBPdrrcPSIJupZGTsiIiIiImIZGXHvJrafBK4CvlSeuhHYRtLhktYof3aW9Nay/HngTZ24xIXAMZJ2VWFdSR+UtF4H268HzAXmlyPin+vEta8GviRpc0kbUJlZIGkTSR8u33V/BZhPMXU+IiIiIiIiVkAS9+51GrAugO15wD4Ui9JNo5iG/r9Ay2JyPwO2K6e9X7+8jm3XKRaJOw94CXiScuG6DjoeOASYR/EQ4KpOtL0QuAV4iGJWwa8rZasBX6W4xxcp3pvvzEOBiIiIiIiIqJDd2RnaEV2vVqu5Xq/3dBgRERERERE9QtIE27XWyjLiHhEREREREdGLJXEfACTtJem5DtbdQ9LfuzumiIiIiIiI6JisKt+HSJoEbAIsBRYD9wDH2G5z27fOsv0nYNuu6q+jJk5tZtTY8av6shFdblJ2R4iIiIiILpYR977nANtDgM0oVqL/UQ/HExEREREREd0oiXsfZftl4FpgOwBJa0k6S9Kzkp6XdEG5j/oyJL1d0l8lzZN0jaSrJH27LHvdtHpJlrRV5fiixrqSvi7pBUnTJR0o6QOS/iHpRUknduf3EBERERER0d8lce+jJA0GPg7cV546E9gG2AnYChgBnNRKuzWB64CLgA2BK4H/WIlQNgXWrlzvQuAw4B3AHsC3JL2xjXsYI6kuqb50YfNKhBAREREREdF/JXHve66XNAdoBt4HfE+SgDHAV2y/WO4ZfwbFnvGN3kmxtsG5thfb/jXw55WIZzFwuu3FwC+BYcAPbc+z/SjwGLBjaw1tj7Nds10bNLhpJUKIiIiIiIjov7I4Xd9zoO3bJA0CPgzcQTHKPhiYUOTwAAgY1Er74cBU266cW5nF7WbbXlp+XlT++3ylfBEwZCX6j4iIiIiIGNCSuPdRZbL8a0k/oRhFXwRsb3vqcppOB0ZIUiV53wJ4qo36CykeCrTYFOjQ1nKdMXpEE/Wsxh0REREREbGMTJXvo1T4MLAB8CjFu+VnS3pDWT5C0r6tNL2XYju5YyWtXvaxSzuXehA4RNIgSe8H9uzK+4iIiIiIiIj2JXHve34raT4wFzgdOLJ8l/wE4EngPklzgdtoZT92268CHwE+BcyhWEjuRuCVNq73X8ABZd1Dgeu77lYiIiIiIiJiefT6V51jIJJ0P3CB7V/0VAy1Ws31er2nLh8REREREdGjJE2wXWutLCPuA5CkPSVtWk6VPxJ4G/C7no4rIiIiIiIilpXEvZeSdKKkn3ZT99sCD1FMfz8OeALolpXhJFnSVt3Rd0RERERExECQVeW7iaTdge8C21MsBvc48GXbD3Skve0zKn2NAp4B1rC9ZGVjsz0OGFfp//aV7XNlTZzazKix43s6jBjgJmVng4iIiIjohZK4dwNJ61Ms+PY54GpgTWAP2l4Arkeo2PRdy60YERERERERPSZT5bvHNgC2r7S91PYi27fafljSZEnvAJB0aDmVfPvy+FOSri8/nyLpsrK/O8t/50iaL+ldkh4qP7f8WNJeZdt3SrpH0pyy3l4tgUm6XdLpku6m2KP9TdXAJb1Z0h8kzZY0S9LlkoZWyidJOl7Sw5KaJV0lae1K+dckTZc0TdInu+4rjYiIiIiIGJiSuHePfwBLJV0saT9JG1TK7gD2Kj/vCTwNvKdyfEcr/bWUD7U9xPa9tncsPw8Bvgr8HfiLpBHAeODbwIbA8cCvJG1c6e9wYAywHjC54VoCvgMMB94KbAGc0lDnIOD9wBspFrY7CqDc5/144H3A1sDerX05/7yQNEZSXVJ96cLm9qpGREREREQMWEncu4HtucDugIELgZmSbpC0CUVivmdZdQ+KJLnluK3EvU3lu/TfBj5UXvcw4CbbN9l+zfbvgTrwgUqzi2w/anuJ7cUNsT9p+/e2X7E9E/hBJb4W59qeZvtF4LfATuX5g4Bf2H7E9gKWTfhfx/Y42zXbtUGDmzpz2xEREREREQNGEvduYvtx20fZ3hzYgWIE+xyKxHwPSZsBgyjegX93uQBdE/BgR68haYuy/ZG2/1GeHgl8rJwmP0fSHIqHCJtVmk5pp89NJP1S0lRJc4HLgGEN1WZUPi8EhpSfhzf03TiaHxEREREREZ2UxelWAdt/k3QR8FnbT0paCHwRuNP2XEkzKKau32X7tda6aDwhaR3geuAc2zdXiqYAl9r+THshtVN2Rlk+2vaLkg4EzmunftV0iqn1LbbsYDtGj2iinhW9IyIiIiIilpER924g6S2SjpO0eXm8BfAJ4L6yyh3AsfxrWvztDceNZgKv8fqF5H4O/M32dxvqXgYcIGlfSYMkrS1pr5ZYOmA9YD7QXL4v/7UOtoNi9P8oSdtJGgyc3Im2ERERERER0Yok7t1jHrArcL+kBRQJ+yPAcWX5HRQJ8p1tHL+O7YXA6cDd5fT3dwIHA//RsLL8HranAB8GTqRI+KdQJN8d/V2fCrwdaKZY5O7XHb3pcuT/HOAPwJPlvxEREREREbESZLc3azpi1ajVaq7X6z0dRkRERERERI+QNMF2rbWyjLhHRERERERE9GJJ3KPbSDpK0l09HUdERERERERfllXl+whJk4BNgKXAAuBm4Fjb81egn0/bvq2rY1wZE6c2M2rs+J4OI3rQpOwqEBERERHRqoy49y0H2B5CsXhcDfhmRxtKykOaiIiIiIiIPiiJex9keyrFiPsOkj4k6dFytfnbJb21pZ6kSZJOkPQwsEDSlRR7q/+2XIX+6+VWcc9V+y/b7V1+XkfSxZJekvR42ea5St2xkp6SNE/SY5L+Y5V8CREREREREQNEEvc+qNwX/gMU285dCXwZ2Bi4iSIpX7NS/RPAB4Ghtj8BPEs5ct/KHvCtORkYRbGH/PuAwxrKnwL2AJootpK7TNJmK3ZnERERERER0SiJe99yvaQ5wF0Ue78/Boy3/Xvbi4GzgHWA3SptzrU9xfaiFbzmQcAZtl+y/RxwbrXQ9jW2p9l+zfZVwBPALh3pWNIYSXVJ9aULm1cwvIiIiIiIiP4tiXvfcqDtobZH2v48MByY3FJo+zVgCjCi0mbKSl5zeEMfr+tP0hGSHiyn6s8BdgCGdaRj2+Ns12zXBg1uWskwIyIiIiIi+qck7n3bNGBky4EkAVsAUyt13NCm8XgBMLjSxyCKafctpgObV463qNQdCVwIHAtsZHso8AigTt5HREREREREtCErjfdtVwNjJb0XuBP4L+AV4J522jxP8b56i38Aa0v6IHArcCKwVsM1/lvSAxQJ/rGVsnUpHgTMBJB0NMWIe6eNHtFEPduBRURERERELCMj7n2Y7b9TLBb3I2AWcADFwnOvttPsO8A3y6ntx9tuBj4P/JRipH4BUF1l/rTy+BngNuBaiocD2H4M+D5wL8UDgdHA3V12gxEREREREYHsxpnTEW2T9DngYNt7dmW/tVrN9Xq9K7uMiIiIiIjoMyRNsF1rrSwj7tEuSZtJerek1SRtCxwHXNfTcUVERERERAwUSdxjedYEfkKxZ/wfgCeBj7UUSpov6U1ttI2IiIiIiIiVlMS9l5N0u6SXJK21/NrL7esiSd/uTBvbk23vYHtd2yOAX1JZmd72ENtPr2xsERERERER0bqsKt+LSRoF7AE0Ax8Crunm661ue0l3XqMtE6c2M2rs+J64dHTApKz4HxERERHRYzLi3rsdAdwHXAQc2XKyHIX/dOX4KEl3lZ8l6WxJL0iaK2mipB0kjQEOBb5eTm//bVl/kqQTJD0MLJC0uqSxkp6SNE/SY5L+o60AJVnSVuXnD0r6a3ndKZJO6fqvJCIiIiIiYmDJiHvvdgTwA+B+4D5Jm9h+fjlt9gHeA2xDMVL/FmCO7XGSdgOes/3NhjafAD4IzLK9RNJTFCP9MyjeZ79M0la2py/n2gvKmB+l2M/995IetH19B+83IiIiIiIiGmTEvZeStDswErja9gTgKeCQDjRdDKxHkbDL9uMdSLjPtT3F9iIA29fYnmb7NdtXAU8AuyzvwrZvtz2xbPcwcCXQ5rZxksZIqkuqL13Y3IFbi4iIiIiIGHiSuPdeRwK32p5VHl9BZbp8W2z/ATgPOB94QdI4Sesvp9mU6oGkIyQ9KGmOpDkUo+fDlndtSbtK+qOkmZKagWPaa2d7nO2a7dqgwU3L6z4iIiIiImJASuLeC0laBzgI2FPSDEkzgK8AO0rakWJK+uBKk02r7W2fa/sdwHYUU+a/1lLUxiX/eV7SSOBC4FhgI9tDgUcAdSD0K4AbgC1sNwEXdLBdREREREREtCHvuPdOBwJLgdHAq5XzV1O8Q/4g8BFJPwWGA58CngeQtDPFA5m/UCT4LwOvle2fB5a35/q6FIn8zLK/oylG3DtiPeBF2y9L2oViav+tHWk4ekQT9axcHhERERERsYyMuPdORwK/sP2s7RktPxRT4A8FzqZI6J8HLgYur7Rdn2LE/CVgMjAb+F5Z9jNgu3IK/PWtXdj2Y8D3gXvL/kcDd3cw7s8Dp0maB5xE8aAhIiIiIiIiVoLstmZPR6w6tVrN9Xq9p8OIiIiIiIjoEZIm2K61VpYR94iIiIiIiIheLIl7RERERERERC+WxL2PkjRJ0guS1q2c+7Sk23swrIiIiIiIiOhiWVW+bxsE/Bdwxop2IEkUax28ttzK3Wji1GZGjR3fkyEMSJOykn9ERERERK+XEfe+7XvA8ZKGNhZI2k3SA5Kay393q5TdLul0SXcDC4FPSZpYKf+9pAcqx3+SdGD5eaykpyTNk/SYpP8oz68p6UVJoyvt3iBpoaSNu+HeIyIiIiIiBoQk7n1bHbgdOL56UtKGwHjgXGAj4AfAeEkbVaodDoyh2Hv9l8DWkoZJWgN4GzBc0nqS1gFqwJ/Kdk8BewBNwKnAZZI2s/1q2c9hlWt8Avj/bM/suluOiIiIiIgYWJK4930nAV9sGNX+IPCE7UttL7F9JfA34IBKnYtsP1qWzwMeAN4DvAN4iGLv9ncD7yz7mg1g+xrb02y/Zvsq4Algl7LPi4FPlNPvoXg4cGlbgUsaI6kuqb50YfPKfQsRERERERH9VN5x7+NsPyLpRmAs8Hh5ejgwuaHqZGBE5XhKQ/kdwF7Ac+Xnl4A9gVfKYwAkHQF8FRhVnhoCDCtjuV/SQmAvSdOBrYAb2ol9HDAOYK3NtvZybzYiIiIiImIAyoh7/3Ay8Bn+lZhPA0Y21NkSmFo5bkyUWxL395Sf76BI3PcsPyNpJHAhcCywke2hwCOAKv1cTDFd/nDgWtsvr/htRUREREREREbc+wHbT0q6CvgSMBG4CfiRpEOAq4H/BLYDbmynm3uAbYFNgT/bfrVM1DcAPl7WWZci4Z8JIOloYIeGfi6jmGo/jyJ575DRI5qoZ4XziIiIiIiIZWTEvf84jSKxpnwffX/gOGA28HVgf9uz2mpsewHwF+DRcqE5gHuBybZfKOs8Bny/PP88MJriXfhqP1PKfsy/FrSLiIiIiIiIFSQ7rxZH15L0c2Ca7W92tE2tVnO9Xu/GqCIiIiIiInovSRNs11ory1T56FKSRgEfAf6th0OJiIiIiIjoFzJVPlaKpFGSLGl1Sf9DsVjd92w/09OxRURERERE9AdJ3AMASZMk7S3pKEl3rUgftr9le4jt07s6voiIiIiIiIEqU+WjV5g4tZlRY8f3dBi9wqSsrh8RERERERUZcY+qtwIXAO+SNF/SHABJH5T0V0lzJU2RdEprjSV9TNKEhnNflfSb7g48IiIiIiKiv0riHlWPA8cA95ZT3oeW5xcARwBDgQ8Cn5N0YCvtbwDeKOmtlXOHA5d0V8ARERERERH9XRL3WC7bt9ueaPs12w8DVwJ7tlLvFeAq4DAASdsDo4AbW+tX0hhJdUn1pQubuy3+iIiIiIiIviyJeyyXpF0l/VHSTEnNFKPyw9qofjFwiCRRjLZfXSb0y7A9znbNdm3Q4KbuCT4iIiIiIqKPS+IejdzKuSsopsFvYbuJ4j14tdrYvg94FdgDOAS4tJvijIiIiIiIGBCyqnw0eh7YXNKatl8tz60HvGj7ZUm7UCTkt7bTxyXAecBi2x3aWm70iCbqWU09IiIiIiJiGRlxj0Z/AB4FZkiaVZ77PHCapHnAScDVy+njUmAH4LJuizIiIiIiImKAyIh7AGB7VOXwgw1l1wLXttFuEstOm59JsRJ9EveIiIiIiIiVlBH36A6fAx6w/URPBxIREREREdHXJXFvIOkUSb1upFjS7ZI+vZJ9XCTp210VU0PfkyTtLWkS8F/Acd1xnYiIiIiIiIFmQCbukg4p9w+fL2m6pJsl7d7Tca2o3vSwwfYo2yNt/7WnY4mIiIiIiOgPBtw77pK+Coyl2Iv8Foqty94PfBjo0Aro0fUmTm1m1NjxPR1Gj5uUlfUjIiIiIqLBgBpxl9QEnAZ8wfavbS+wvdj2b21/rVJ1TUmXSJon6VFJtUofYyU9VZY9Juk/KmVHSbpL0lmSXpL0jKT9KuW3S/ofSXeX7W+VNKxS/k5J90iaI+khSXutwD1K0tmSXpA0V9JESTu0Um8DSTdKmlnGeqOkzTsR6+GSJkuaLekbDX3vUs5omCvpeUk/6Ox9RERERERERGFAJe7Au4C1geuWU+9DwC+BocANFHuSt3gK2ANoAk4FLpO0WaV8V+DvwDDgu8DPJFVXXT8EOBp4A7AmcDyApBHAeODbwIbl+V9J2riT97gP8B5gmzLGg4DZrdRbDfgFMBLYEljUcJ/txbod8GPgcGA4sBGweaXdD4Ef2l4feDPL3z4uIiIiIiIi2jDQEveNgFm2lyyn3l22b7K9lGJP8h1bCmxfY3ua7ddsXwU8AexSaTvZ9oVl24uBzYBNKuW/sP0P24soEtqdyvOHATeV133N9u+BOvCBTt7jYmA94C2AbD9ue3pjJduzbf/K9kLb84DTgT0bqrUV60eBG23fafsV4FvAaw0xbCVpmO35tu9rLVBJY8qR+frShc2dvM2IiIiIiIiBYaAl7rOBYZKW927/jMrnhcDaLW0kHSHpwXI6+xxgB4rR9WXa2l5YfhzSTt8tZSOBj7X0W/a9O0Xi32G2/0Axcn4+8IKkcZLWb6wnabCkn5TT3ecCdwJDJQ3qQKzDgSmVay7g9aP6n6IY8f+bpAck7d9GrONs12zXBg1u6sxtRkREREREDBgDLXG/F3gFOHBFGksaCVwIHAtsZHso8Aig9tp10BTgUttDKz/r2j6zsx3ZPtf2O4DtKBLor7VS7ThgW2DXckr7e8rzHbmX6cAWLQeSBlPMZmi5/hO2P0Exxf5/gWslrdvZ+4iIiIiIiIgBtqq87WZJJwHnS1oC3EoxrXtv4N9tf305XawLGJgJIOloihH3rnAZ8ICkfYHbgDWAdwJP2n6uo51I2pnigcxfgAXAy7x+GnuL9Sjea58jaUPg5E7Eei1wf7mF3p8pFvz750MgSYcBt9ieWc4coI0Y/mn0iCbqWVE9IiIiIiJiGQNtxB3b3we+CnyTIgGfQjGCfn0H2j4GfJ9i5P55YDRwdxfFNYViS7oTK3F9jc7/jtanmBXwEjCZYgr791qpdw6wDjALuA/4XSdifRT4AnAFxej7S0D14cL7gUclzadYqO7g8j35iIiIiIiI6CTZ7ukYIqjVaq7X6z0dRkRERERERI+QNMF2rbWyATfiHhEREREREdGXJHHvpyTNl/SmDta1pK26IYa9JHX4/fyIiIiIiIhY1oBanK6/kjSJYq/4pZXT29ie1jMRRURERERERFdJ4t5/HGD7tp4OYkVNnNrMqLHjezqMVWZSVtCPiIiIiIgOylT5fqo6/V3SRZLOlzRe0jxJ90t6cxvtPijpr5LmSpoi6ZRK2aiy3yMlPStplqRvVMrXKa/1kqTHgJ27+z4jIiIiIiL6uyTuA8fBwKnABsCTwOlt1FsAHAEMBT4IfE7SgQ11dge2Bd4LnCTpreX5k4E3lz/7Akd2XfgREREREREDUxL3/uN6SXPKn+tbKb/O9p9tLwEuB3ZqrRPbt9ueaPs12w8DVwJ7NlQ71fYi2w8BDwE7lucPAk63/WK5L/257QUsaYykuqT60oXNHb7RiIiIiIiIgSSJe/9xoO2h5c+BrZTPqHxeCAxprRNJu0r6o6SZkpqBY4BhHexrODClUja5vYBtj7Nds10bNLipvaoREREREREDVhL3aHQFcAOwhe0m4AJAHWw7HdiicrxlF8cWEREREREx4GRV+Wi0HvCi7Zcl7QIcAtzawbZXA/8t6X5gXeCLHb3o6BFN1LPSekRERERExDIy4h6NPg+cJmkecBJFMt5Rp1JMj3+GItm/tOvDi4iIiIiIGFhku6djiKBWq7ler/d0GBERERERET1C0gTbtdbKMuIeERERERER0YslcY+IiIiIiIjoxZK49yOSDin3RZ8vabqkmyXt3tNxRURERERExIrLqvL9hKSvAmMp9l2/BXgVeD/wYeCuLrqGKNZFeK0r+quaOLWZUWPHd3W3PW5SVsqPiIiIiIiVlBH3fkBSE3Aa8AXbv7a9wPZi278Fvi9poaSNKvXfLmmmpDUkHSXpbknnSWqW9DdJ763UvV3S6ZLuBhYCb5I0SdLelTqnSLqs/Ly2pMskzZY0R9IDkjZZZV9GREREREREP5PEvX94F7A2cF1jge0ZwO3AQZXThwO/tL24PN4VeAoYBpwM/FrShg31x1Ds8T55ObEcCTQBWwAbUcwAWNS524mIiIiIiIgWSdz7h42AWbaXtFF+MXAYgKRBwCd4/R7rLwDnlKP0VwF/B6pzvC+y/ajtJZVkvy2Ly3i2sr3U9gTbc1urKGlM+U5+fenC5uXeZERERERExECUxL1/mA0Mk9TWmgW/AbaT9EbgfUCz7T9XyqfaduV4MjC8cjylE7FcSvGO/S8lTZP0XUlrtFbR9jjbNdu1QYObOnGJiIiIiIiIgSOJe/9wL/AKcGBrhbZfBq6mGHU/nNePtgOMKBeea7ElMK3aRUP9BcDgyvGmlWsttn2q7e2A3YD9gSM6fCcRERERERHxOllVvh+w3SzpJOB8SUuAWymmrO8N/LvtrwOXlD9vAE5s6OINwJck/R9F8v9W4KZ2LvkgcLCkm4EdgY8CvwOQ9O/ALOAxYG4Zx3JXoR89ool6VmCPiIiIiIhYRhL3fsL29yXNAL4JXA7MAyYAp5fld0t6DfiL7cYF5u4HtqZIuJ8HPmp7djuX+xZwJfAScAdwBdCymN2mwAXA5sB84CqWHeGPiIiIiIiIDkri3o/YvpwiaW/LFIoku5WmPhY4tpWCvVo59zTFSvStdXQlRVIfERERERERXSCJ+wAhaWfg7cCHezqWiIiIiIiI6LgsTjcASLoYuA34su15K9B+kqS9uz6yiIiIiIiIWJ4k7n2QpN0l3SOpWdKLku4uR9RbZftI2022L2ql7CLbu3drwBEREREREbHCMlW+j5G0PnAj8DmKLd7WBPag2A6uz5o4tZlRY8f3dBhtmpQV7yMiIiIioodkxL3v2QaKReBsL7W9yPatth+WNFnSOwAkHSrJkrYvjz8l6fry82qSxkp6StJsSVdLalkVHkmHl33NlvSN6sXbaytpVHnNIyU9K2lWY/uIiIiIiIjonCTufc8/gKWSLpa0n6QNKmV3AHuVn/cEngbeUzm+o/z8RYr92vcEhlNs63Y+gKTtgB8Dh5dlG1Fs7cby2lbsDmwLvBc4SdJbV/RmIyIiIiIiBrok7n2M7bkUibGBC4GZkm6QtAlFYr5nWXUP4DuV42rifgzwDdvP2X4FOAX4qKTVgY8CN9q+syz7FvBaJYT22rY4tZwJ8BDwELBja/ciaYykuqT60oXNK/qVRERERERE9GtJ3Psg24/bPsr25sAOFCPf51Ak5ntI2gwYRPEO/LsljQKagAfLLkYC10maI2kO8DiwFNik7GtK5VoLgNmVy7fXtsWMyueFwJA27mOc7Zrt2qDBTZ38FiIiIiIiIgaGJO59nO2/ARcBO9h+kiJR/iJwZzk6PwMYA9xlu2XkfAqwn+2hlZ+1bU8FpgNbtPQvaTDFdHk60DYiIiIiIiK6WFaV72MkvQX4IHCV7eckbQF8ArivrHIHcCzwhfL49vL4fyrdXACcLulI25MlbQzsZvs3wLXA/ZJ2B/4MnMbrH/C013aFjR7RRD0rt0dERERERCwjI+59zzxgV4rkegFFwv4IcFxZfgewHnBnG8cAPwRuAG6VNK/sY1cA249SJP1XUIy+vwQ815G2ERERERER0fVku6djiKBWq7ler/d0GBERERERET1C0gTbtdbKMuIeERERERER0YslcY+VIulRSXv1dBwRERERERH9VRL3fkTS7ZJekrRWF/R1kaRvL6+e7e1t376y14uIiIiIiIjWZVX5fqLcq30PoBn4EHBNN19vddtLuqq/iVObGTV2fFd1t1ImZXX7iIiIiIjoRTLi3n8cQbHC+0XAkS0ny1H4T1eOj5J0V/lZks6W9IKkuZImStpB0hjgUODrkuZL+m1Zf5KkEyQ9DCyQtHp5bu+yfBdJ90qaI2m6pPMkrbnKvoGIiIiIiIh+KCPu/ccRwA+A+4H7JG1i+/nltNkHeA+wDcVI/VuAObbHSdoNeM72NxvafIJiH/lZtpdIqpYtBb4C1IHNgZuBzwPnrMyNRUREREREDGQZce8HJO0OjASutj0BeAo4pANNF1Ps8f4Wiq0BH7c9fTltzrU9xfaixgLbE2zfZ3uJ7UnAT4A924l7jKS6pPrShc0dCDciIiIiImLgSeLePxwJ3Gp7Vnl8BZXp8m2x/QfgPOB84AVJ4yStv5xmU9oqkLSNpBslzZA0FzgDGNbO9cfZrtmuDRrctLxwIyIiIiIiBqQk7n2cpHWAg4A9y4R5BsV09R0l7QgsAAZXmmxabW/7XNvvALajmDL/tZaiNi7Z1nmAHwN/A7a2vT5wIqB26kdERERERMRy5B33vu9AinfLRwOvVs5fTfHe+4PARyT9FBgOfAp4HkDSzhQPb/5CkeC/DLxWtn8eeFMnY1kPmAvMl/QW4HPAzI40HD2iiXpWc4+IiIiIiFhGRtz7viOBX9h+1vaMlh+KKfCHAmdTJPTPAxcDl1farg9cCLwETAZmA98ry34GbFeuEH99B2M5nuLd+nllv1etzI1FREREREREsSBZT8cQQa1Wc71e7+kwIiIiIiIieoSkCbZrrZVlxD0iIiIiIiKiF0viHhEREREREdGLJXGPLiXpKEl39XQcERERERER/UWHV5WXtKPth7ozmChImgRsAiyhWDH+MeASYJzt19pp2mdNnNrMqLHjezSGSVnVPiIiIiIieqHOjLjfJukhScdL2qzbIooWB9heDxgJnAmcQLHSe68lKdsLRkREREREdLHOJO6bAScBuwJPSLpV0mGSBndPaAFgu9n2DcDHgSMl7SBpLUlnSXpW0vOSLpC0DoCkvSQ9J+k4SS9Imi7p6Jb+JF0k6f8k3SxpvqS7JW0q6RxJL0n6m6R/q9QfK+kpSfMkPSbpPyplR5Xtz5Y0GzilMX5J35N0l6Sm7vyeIiIiIiIi+qsOJ+62l9j+je2PASOAq4GvA89LukTSu7sryADbfwaeA/agGIHfBtgJ2Iri93FSpfqmQFN5/lPA+ZI2qJQfBHwTGAa8AtwL/KU8vhb4QaXuU+U1m4BTgcsaZlzsCjxNMbX/9JaTklaTdCHwNmAf282N9yRpjKS6pPrShcsUR0REREREBCuwOJ2kIcCBwMHA5sAvgSeAyyWd36XRRaNpwIbAGOArtl+0PQ84g+L30WIxcJrtxbZvAuYD21bKr7M9wfbLwHXAy7Yvsb0UuAr454i77WtsT7P9mu2rKH7Xu1Rjsv2j8sHOovLcGsCVZawH2F7Y2s3YHme7Zrs2aHAG5CMiIiIiIlrTmcXpPggcDuwH3A38FLi+TP4ok/ZngS90Q5xRGEHxOxsMTJDUcl7AoEq92baXVI4XAkMqx89XPi9q5fifdSUdAXwVGFWeGkIxMt9iSitxbgXsCOxi+9V27ygiIiIiIiLa1ZnFxM4ELqYY6Z3eWGj7RUlf7qrA4vUk7UyRuF9PsVDd9randvM1RwIXAu8F7rW9VNKDFA8KWriVpo8D5wM3S/p/tv++vGuNHtFEPau6R0RERERELKNDU+UlDaJ4B/pHrSXtLWz/tKsCi4Kk9SXtT/FKwmXllnwXAmdLekNZZ4Skfbvh8utSJOYzy+scDezQkYa2rwROpNiN4M3dEFtERERERMSA0KHEvXz3eR+gX+4h3kv9VtI8iqno36BYMK5ldfgTgCeB+yTNBW7j9e+wdwnbjwHfp1i87nlgNMVrEh1tfzFwGvAHSaO6Or6IiIiIiIiBQHZrM51bqSh9HRgKnGx7cXcGFQNPrVZzvV7v6TAiIiIiIiJ6hKQJtmutlXXmHfcvUmwz9lVJM6m822x7y5ULMSIiIiIiIiJa05nE/bBuiyJ6lKRJwKdt39bF/Y4CngHWaFjlPiIiIiIiIjqoM4n7G2xf03hS0ke7MJ5YSWUSvgmwFFgA3Awca3t+T8a1PBOnNjNq7PhVes1JWcU+IiIiIiL6gA4tTlf6WRvnx3VFINGlDrA9BHg7UAO+2cPxRERERERExApabuIu6U2S3gSsJumNLcflz97Ay90fZqyIcp/3m4EdJH1I0qOS5ki6XdJbW2sjaRdJ95b1pks6T9KalXJLOkbSE2Wd8yWpLBsk6SxJsyQ9DWRIOyIiIiIiYiV1ZKr8kxQL0Ql4qqFsBnBKF8cUXUTSFsAHgIeBK4EDgduBr1BsN7ed7Vcbmi0ty+vA5hSJ/+eBcyp19gd2BtYHJgC/BX4HfKYs+zeKafq/Wk58Y4AxAIPW33iF7jEiIiIiIqK/W+6Iu+3VbA8C/lR+rv4Mt52p8r3P9ZLmAHcBdwCPAeNt/77cyu8sYB1gt8aGtifYvs/2EtuTgJ8AezZUO9P2HNvPAn8EdirPHwScY3uK7ReB77QXpO1xtmu2a4MGN63ovUZERERERPRrHV6cznZj8ha914HVFeIl/RiY3HJs+zVJU4ARjQ0lbQP8gOLd+MEUfyMTGqrNqHxeCAwpPw8HplTKJhMRERERERErpcOJu6Q3AqdTjK4OqZZlH/debxowuuWgfCd9C2BqK3V/DPwV+ITteZK+DHR054DpZb8tOvx3MXpEE/Ws8h4REREREbGMzmwHdwXFO+7HUYyyRt9xNTBW0nuBO4H/Al4B7mml7nrAXGC+pLcAnwNmduI6X5J0I8U77mNXNvCIiIiIiIiBrjOJ+/bAu22/1l3BRPew/XdJhwE/opge/yDFlnGNC9MBHE+xxd/XKUberwL+XwcvdSGwDfAQRfJ/VifaRkRERERERCtku2MVi1HUk203vu8csdJqtZrr9XpPhxEREREREdEjJE2wXWutrDMj7pOA30m6jtcvTobtk1Y8vIiIiIiIiIhoS2cS93WBG4E1eP0CZBERERERERHRTTo8VT76Pkm3A5fZ/mlPx9Jorc229mZHnrPKrjcpK9hHREREREQv0iVT5SW9qa0y20+vSGARERERERER0b7VOlH3SeCJ8t8nK8dPdENc0Y0kbSDpRkkzJb1Uft68Un67pO9I+rOkuZJ+I2nDSvk1kmZIapZ0p6TtK2UXSTpf0nhJ8yTdL+nNq/oeIyIiIiIi+osOJ+62V7M9qPx3NWA4xbZhh3dbdNFdVgN+AYwEtgQWAec11DkC+CSwGbAEOLdSdjOwNfAG4C/A5Q1tDwZOBTageMBzemtBSBojqS6pvnRh88rcT0RERERERL/VmRH317E9A/gy8J0uiyZWCduzbf/K9kLb8ygS6z0bql1q+xHbC4BvAQdJGlS2/7ntebZfAU4BdpTUVGl7ne0/215CkdTv1EYc42zXbNcGDW5qrUpERERERMSAt8KJe2lbYHBXBBKrjqTBkn4iabKkucCdwNCWxLw0pfJ5MsVuAsMkDZJ0pqSnyraTyjrDKvWr2wUuBIZ0/V1EREREREQMDJ1ZnO5PQHUJ+sHA9sBpXR1UdLvjKB667Gp7hqSdgL8CqtSpbvm3JbAYmAUcAnwY2JsiaW8CXmpo22mjRzRRz0rvERERERERy+jMPu6NW4gtAB6yncXp+p71KN5rn1MuOndyK3UOk3QJRXJ+GnCt7aWS1gNeAWZTPLw5Y9WEHBERERERMTB1ZnG6ixt+rk3S3icZOAdYh2IE/T7gd63UuxS4iGLa+9rAl8rzl1BMnZ8KPFa2j4iIiIiIiG7SmanyawDfpFhFfjgwjSK5O932q90TXnSx9YHZtqcBezWU/aTh+Cnb/93Yge35FFPlqy6plB/VUP92YHMiIiIiIiJihXRmqvx3gV2AYyhGXEdSrDa+PvCVrg8tulK51/pbKd5lj4iIiIiIiD6iM4n7x4Adbc8uj/8u6S/AQyRx79Uk/S9wGHCC7cmr8LqjgGeANcqt4SIiIiIiIqKTOpO4t7Vq+EqtJh7dz/YJwAmSJkl6zPZty6m/16qJ7F8mTm1m1NjxXd7vpKxUHxERERERfVxn9nG/BvitpH0lvVXS+4Hry/PRD0nqzIOdiIiIiIiI6AadSdy/DtwGnA9MAH4E/AH4WjfEFd1I0laS7pDULGmWpKsqZZb0BUlPAE+U534oaYqkuZImSNqjUn81SWMlPSVptqSryy3mIiIiIiIiogssN3GX9G5J/2v7Vdsn2d7K9mDbWwNrAW/v/jCji/0PcCuwAcWK7z9qKD8Q2BXYrjx+ANgJ2BC4ArhG0tpl2RfL+ntS7DbwEsXDneWSNEZSXVJ96cLmFbyViIiIiIiI/q0jI+4nAne2UfZH4BtdF06sIospdgUYbvtl23c1lH/H9ou2FwHYvsz2bNtLbH+f4oHNtmXdY4Bv2H7O9ivAKcBHOzLN3vY42zXbtUGDm7rq3iIiIiIiIvqVjiTuOwG/a6PsNuAdXRZNrCpfp1hU8M+SHpX0yYbyKdUDScdLerycWj8HaAKGlcUjgeskzSnLHgeWApt05w1EREREREQMFB1ZfGx9YE1gUStlawDrdWlE0e1szwA+AyBpd+A2SXfafrKlSkvd8n32rwPvBR61/Zqkl/jXbgJTgE/avrvxOuV2cBEREREREbESOpK4/w3YB/hNK2X7lOXRh0j6GHCv7eco3kk38Fob1dcDlgAzgdUljaV4mNPiAuB0SUfanixpY2A32639vbRp9Igm6tm6LSIiIiIiYhkdmSp/NvATSR+RtBr8cyXxj1AkbT/ozgCjW+wM3C9pPnAD8F+2n26j7i0Ur0r8A5gMvMzrp9L/sOzjVknzgPsoFraLiIiIiIiILiDby68kfRU4lWJRslkU7ze/ApxsO4l7rLRareZ6vd7TYURERERERPQISRNs11or68hUeWz/QNJPgXcBGwGzKaZaz+26MCMiIiIiIiKiUUemygNge67tW2xfUf6bpL0fkXSzpCMrx9+WNEvSDElbSpovadAK9DtKkjuyPVxEREREREQsK8lUN5FkYOvKSu1IOgXYyvZhPRZYG2zv1/JZ0pbAccBI2y+Up4f0SGAREREREREDXBL3aM2WwOxK0t7tJk5tZtTY8V3a56SsUh8REREREf1Ah6fKR9eStJek5yQdJ+kFSdMlHV0p/4CkxyTNkzRV0vEN7U4sp7JPknRopd1aks6S9Kyk5yVdIGmdSvmHJT0oaa6kpyS9vzx/u6RPS9ob+D0wvJwef1HjdHdJTZJ+VsY8tZxWP6gsG1Ref5akp4FkzxERERERESshiXvP2hRoAkYAnwLOl7RBWfYz4LO21wN2AP7Q0G5Y2e5IYJykbcuyM4FtgJ2Arco6JwFI2gW4BPgaMBR4DzCpGpDt24D9gGm2h9g+qpW4L6LY230r4N+AfYBPl2WfAfYvz9eAj3b0y4iIiIiIiIhlJXHvWYuB02wvtn0TMB/YtlK2naT1bb9k+y8Nbb9l+xXbdwDjgYMkCRgDfMX2i7bnAWcAB5dtPgX83Pbvbb9me6rtv3UmYEmbAB8Avmx7QTmd/uzKNQ4CzrE9xfaLwHfa6WuMpLqk+tKFzZ0JIyIiIiIiYsBI4t59lgJrNJxbgyIhbzHb9pLK8UL+tQjcf1IkyJMl3SHpXZV6L9leUDmeDAwHNgYGAxMkzZE0B/hdeR5gC+CpFb8lAEaW9zG9co2fAG8oy4cDUxpia5XtcbZrtmuDBjetZFgRERERERH9Uxan6z7PAqOAxyvn3gj8oyONbT8AfFjSGsCxwNUUiTfABpLWrSTvWwKPALOARcD2tqe20u0U4M2dvI/W+ngFGNbw0KHF9EqcLbFFRERERETECkri3n2uAr4paSIwDfh/wAHAu9ptBUhaE/gYcKPtZklzgdcaqp0q6URgV4p3yk+2/ZqkC4GzJR1r+wVJI4AdbN9C8d78rZJuBP4IbAas15np8ranS7oV+L6kb1FM738jsHk5bf9q4EvlNRYAYzvS7+gRTdSzCnxERERERMQyMlW++5wG3APcBbwEfBc41PYjHWx/ODCpTNqPAQ6tlM0o+5wGXA4cU0m+TwCeBO4r295G+d687T8DR1O8k94M3EEx9b2zjgDWBB4r47iW4iEAwIXALcBDwF+AX69A/xEREREREVGS7Z6OITpB0l7AZbY37+FQulStVnO9Xu/pMCIiIiIiInqEpAm2a62VZcQ9IiIiIiIiohdL4t5LSTq0fJc8IiIiIiIiBrAk7j1M0u6S7pHULOlFSXdL2tn25bb3aaxv+/b+Nk0+IiIiIiIi2pZV5XuQpPWBG4HPUazGviawB8V2a32OpNXb2CJuuSZObWbU2PFdFsukrFAfERERERH9REbce9Y2ALavtL3U9iLbt9p+WNJRku5qqSjJko6R9ISkOZLOl6SybJCk70uaJekZSceW9Vcvy4+W9LikeZKelvTZSr97SXpO0oll+0mSDq2UN0m6RNJMSZMlfVPSamXZUeUMgbMlzQZOkbSWpLMkPSvpeUkXSFpnFX2fERERERER/U4S9571D2CppIsl7Sdpg+XU3x/YGXgbcBCwb3n+M8B+wE7A24EDG9q9ULZdn3I7OElvr5RvCgwDRgBHAuMkbVuW/QhoAt4E7EmxFdzRlba7Ak8DmwCnA2dSPJDYCdiq7POk5dxXREREREREtCGJew+yPRfYHTDF/uczJd0gaZM2mpxpe47tZ4E/UiTHUCTxP7T9nO2XKJLn6nXG237KhTuAWymm5Fd9y/YrZfl44CBJg4CDgf+2Pc/2JOD7FHvMt5hm+0flFPmXgTHAV2y/aHsecEbZxzIkjZFUl1RfurB5Od9WRERERETEwJTEvYfZftz2UeWCczsAw4Fz2qg+o/J5ITCk/DwcmFIpq36mHM2/r1z8bg7wAYoR9hYv2V5QOZ5c9jkMWKM8rpaNaONaGwODgQnldP45wO/K88uwPc52zXZt0OCm1qpEREREREQMeEncexHbfwMuokjgO2M6UF1pfouWD5LWAn4FnAVsYnsocBOgSv0NJK1bOd4SmAbMAhYDIxvKplbDrnyeBSwCtrc9tPxpsj2EiIiIiIiIWCFZVb4HSXoL8EHgKtvPSdoC+ARwXye7uhr4L0njgQXACZWyNYG1gJnAEkn7AfsAjzT0caqkEyneWd8fONn2UklXA6dLOgLYEPgqxUOAZdh+TdKFFO/QH2v7BUkjgB1s39LeDYwe0UQ9K8FHREREREQsIyPuPWseRaJ8v6QFFAn7I8BxneznQor31h8G/koxor4EWFq+Z/4liuT+JeAQ4IaG9jPKsmnA5cAx5eg/wBcpHgY8DdwFXAH8vJ1YTgCeBO6TNBe4Ddi2nfoRERERERHRDtlefq3oU8pR9Qtsj+xA3b2Ay8p37HtMrVZzvV7vyRAiIiIiIiJ6jKQJtmutlWXEvR+QtI6kD0havZyafjJwXU/HFRERERERESsviXv/IOBUiunufwUep3N7p68v6bJuCUy6XdKnu6PviIiIiIiIgSCL0/UPjwGftn1bZxvavl3SD4Ctuj6siIiIiIiIWFlJ3KNXmDi1mVFjx69w+0lZkT4iIiIiIvqpTJXvZyR9RtLjkuZJekzS28vzwyX9StJMSc9I+lI7fVwjaYakZkl3Stq+UnaRpPMljS+vcb+kN1fK3yfpb2Xb83j9fvERERERERHRSUnc+xFJHwNOAY4A1gc+BMyWtBrwW+AhYATwXuDLkvZto6ubga2BNwB/odgirupginfqN6DY+u308vrDgF8D3wSGAU8B7+6au4uIiIiIiBiYkrj3L58Gvmv7AReetD0Z2BnY2PZptl+1/TTF3u8Ht9aJ7Z/bnmf7FYoHATtKaqpUuc72n20voUjqdyrPfwB41Pa1thcD51DsEd8qSWMk1SXVly5sXqkbj4iIiIiI6K/yjnv/sgXFKHejkcBwSXMq5wYBf2qsKGkQxQj6x4CNgdfKomFAS3ZdTcYXAkPKz8OBKS0Fti1pCm2wPQ4YB7DWZlu7rXoREREREREDWRL3/mUK8OY2zj9je+sO9HEI8GFgb2AS0ESxzVxH3lWfTvHwAABJqh5HRERERERE5yVx719+CvxA0l0U76a/GVgM/BmYJ+kE4FzgVeCtwDq2H2joYz3gFWA2MBg4oxPXHw+cJ+kjwA3AF4BNO9Jw9Igm6lkZPiIiIiIiYhl5x70fsX0NxTT3K4B5wPXAhraXAvtTvIv+DDCLIslvaqWbS4DJwFSK/eHv68T1Z1FMsT+TIvHfGrh7hW4mIiIiIiIiAJCdV4uj59VqNdfr9Z4OIyIiIiIiokdImmC71lpZRtwjIiIiIiIierEk7hERERERERG9WBL3+CdJlrRVw7lTJF1WOT5R0jOS5kt6TtJVrfRzVNnXx1dF3BEREREREf1ZVpWPDpN0JHA4sLftpyRtCnyolapHAi8CRwDLJPatmTi1mVFjx69wbJOyIn1ERERERPRTGXGPztgZuMX2UwC2Z9geV60gaSSwJzAG2LdM7iMiIiIiImIFJXGPzrgPOELS1yTVJA1qpc4RQN32r4DHgUNXaYQRERERERH9TBL36DDblwFfBPYF7gBekHRCQ7UjKPaRp/z3iLb6kzRGUl1SfenC5u4IOSIiIiIios9L4h5VS4E1Gs6tASxuObB9ue29gaHAMcD/SNoXQNK7gTcCvyyrXwGMlrRTaxezPc52zXZt0OCmrryPiIiIiIiIfiOJe1Q9C4xqOPdGYHJjRduLbV8DPAzsUJ4+EhDwoKQZwP2V8xEREREREbECsqp8VF0FfFPSRGAa8P+AA4B3QbHNGzATuBNYQDFlfnvgfklrAwdRLEpXXR7+P4GTJH3N9pK2Ljx6RBP1rAwfERERERGxjIy4R9VpwD3AXcBLwHeBQ20/UpbPBU6kGJmfU5Z/zvZdwIHAIuCScrX5GbZnAD+neED0/lV4HxEREREREf2GbPd0DBHUajXX6/WeDiMiIiIiIqJHSJpgu9ZaWUbcIyIiIiIiInqxJO6xUiRdJOnbPR1HREREREREf5XEvQ+TdEi5D/p8SdMl3Sxp956OKyIiIiIiIrpOVpXvoyR9FRhLsZf6LcCrFAvAfZhicbk+ZeLUZkaNHb/8ihWTsgp9REREREQMABlx74MkNVGsAP8F27+2vaDcV/23tr8maRdJ90qaU47EnydpzUp7SzpG0hNlnfMlqSx7s6Q/SJotaZakyyUNrbT9N0l/kTRP0lXA2pWyDSTdKGmmpJfKz5uvum8mIiIiIiKi/0ni3je9iyJhvq6N8qXAV4BhZd33Ap9vqLM/sDPwNor91/ctzwv4DjAceCuwBXAKQJn8Xw9cCmwIXEOxT3uL1YBfACOBLSm2hztvRW4wIiIiIiIiCknc+6aNgFm2l7RWaHuC7ftsL7E9CfgJsGdDtTNtz7H9LPBHYKey7ZO2f2/7FdszgR9U2r4TWAM4pxzhvxZ4oHLd2bZ/ZXuh7XnA6a1c958kjSnf0a8vXdjc+W8hIiIiIiJiAMg77n3TbGCYpNVbS94lbUORcNeAwRS/5wkN1WZUPi8EhpRtNwF+COwBrEfxcOelst5wYKptV9pOrlx3MHA2xbv2G5Sn15M0yPbSxjhtjwPGAay12dZuLI+IiIiIiIiMuPdV9wKvAAe2Uf5j4G/A1rbXB06kmALfEWcABkaXbQ+rtJ0OjGh5H760ZeXzccC2wK5l2/eU5zt67YiIiIiIiGiQEfc+yHazpJOA8yUtAW4FFgN7A/9OMVI+F5gv6S3A54CZHex+PaAZaJY0AvhapexeYAnwJUn/BxwA7EIx1b6l7SJgjqQNgZM7ek+jRzRRzyrxERERERERy8iIex9l+/vAV4FvUiTlU4BjKRaPOx44BJgHXAhc1YmuTwXeTpG8jwd+Xbnmq8BHgKOAF4GPV8uBc4B1gFnAfcDvOnlbERERERER0UCvf105omfUajXX6/WeDiMiIiIiIqJHSJpgu9ZaWUbcIyIiIiIiInqxJO4RERERERERvVgS935E0sGS7pe0QNIL5efPN6wCHxEREREREX1IVpXvJyQdB3wd+AJwCzAf2IliobqfUWwfV63f6t7qPWXi1GZGjR3fqTaTsgp9REREREQMABlx7wckNQGnAZ+3fa3teS781fahtl+RdJGkH0u6SdIC4N8lDZf0K0kzJT0j6UuVPleTNFbSU5JmS7q63OKtpXx3SfdImiNpiqSjyvNrSTpL0rOSnpd0gaR1VvV3EhERERER0V8kce8f3gWsBfxmOfUOAU6n2G/9HuC3wEPACOC9wJcl7VvW/SJwILAnMBx4CTgfQNJI4GbgR8DGFCP7D5btzgS2Kc9tVfZ90srcXERERERExECWxL1/GAbMsr2k5URlNHyRpPeUp39j+27brwGjgY1tn2b7VdtPU+z5fnBZ9xjgG7afs/0KcArwUUmrUzwAuM32lbYX255t+8HyXfoxwFdsv2h7HnBGpc/XkTRGUl1SfenC5i7/UiIiIiIiIvqDvOPeP8wGhklavSV5t70bgKTn+NcDmimVNiOB4ZLmVM4NAv5UKb9O0muV8qXAJsAWwFOtxLExMBiYUFkPT2W/y7A9DhgHsNZmW3u5dxkRERERETEAJXHvH+6lWHzuw8Cv2qlXTY6nAM/Y3rqNulOAT9q+u7FA0hRgl1bazAIWAdvbntqRwCMiIiIiIqJ9Sdz7AdtzJJ0K/F85Xf0WYAHwNmDdNpr9GZgn6QTgXOBV4K3AOrYfAC4ATpd0pO3JkjYGdrP9G+By4ERJBwG/BpqALcrp8hcCZ0s61vYLkkYAO9i+pb17GD2iiXpWiY+IiIiIiFhG3nHvJ2x/F/gqxZZwz5c/PwFOoFiIrrH+UmB/ikXknqEYLf8pRRIO8EPgBuBWSfOA+4Bdy7bPAh8AjgNepFiYbsey3QnAk8B9kuYCtwHbduW9RkREREREDCSy82px9LxareZ6vd7TYURERERERPQISRNs11ory4h7RERERERERC+WxD06TNIoSS63hIuIiIiIiIhVIIn7ACJpkqRXJQ1rOP/XMiEf1cn+bpf06S4NMiIiIiIiIl4nI6cDzzPAJ4AfAUgaTbH3eo+aOLWZUWPHL7fepKw8HxERERERA0xG3AeeS4EjKsdHApe0HEj6YDkCP1fSFEmntNaJpNOBPYDzJM2XdF55/odlu7mSJkjao/tuJSIiIiIiov9L4j7w3AesL+mtkgYBBwOXVcoXUCT2Q4EPAp+TdGBjJ7a/AfwJONb2ENvHlkUPUGwxtyFwBXCNpLW751YiIiIiIiL6vyTuA1PLqPv7gMeBqS0Ftm+3PdH2a7YfBq4E9uxox7Yvsz3b9hLb3wfWoo193CWNkVSXVF+6sHll7iciIiIiIqLfSuI+MF0KHAIcRWWaPICkXSX9UdJMSc3AMcCwZbtonaTjJT0uqVnSHKCprfa2x9mu2a4NGty0grcSERERERHRvyVxH4BsT6ZYpO4DwK8biq8AbgC2sN0EXACora6qB+X77F8HDgI2sD0UaG6nfURERERERCxHVpUfuD5FkVwvaNiXfT3gRdsvS9qFYmT+1jb6eB54U0PbJcBMYHVJY4H1OxLM6BFN1LNifERERERExDIy4j5A2X7Kdr2Vos8Dp0maB5wEXN1ONz8EPirpJUnnArcAvwP+AUwGXgamdG3kERERERERA4tsL79WRDer1Wqu11t7jhAREREREdH/SZpgu9ZaWUbcIyIiIiIiInqxPpW4S7pA0re6sL9Jkvbuqv562/Uq191S0vxy3/aIiIiIiIjoQ1Zp4i7JkrZqOHeKpMs60t72Mbb/p2y3l6TnuiPOqjI+S9q1u6/VcN2jJC0tE+7qz/DO9mX7WdtDbC9dwVhWyXcdERERERERy8qq8u2QJOAI4MXy3/vbqbu67SVdHMK9tnfv4j5fp7xH2X6tO6+zPBOnNjNq7Phlzk/KSvMRERERETHA9aqp8i0ju5KOk/SCpOmSjq6UXyTp25LWBW4GhldHoiWtJmmspKckzZZ0taQNK+0PlzS5LPtGB0LaA9gM+BJwsKQ1K30dJeluSWdLmg2cIunNkv5Q9j9L0uWShjb0ubOkx8qV2H8hae0V/K4mSfqapIclLZD0M0mbSLpZ0jxJt0naoKw7qpw1sHp5fLuk0yXdDSwE3iTpaEmPl22flvTZsm6nv2tJa0u6rDw/R9IDkjZZkfuMiIiIiIgY6HpV4l7aFGgCRlDsNX5+SwLawvYCYD9gWjkFfIjtacAXgQOBPYHhwEvA+QCStgN+DBxelm0EbL6cWI4Efsu/tkQ7oKF8V+BpYBPgdEDAd8r+3wpsAZzS0OZQYF/gzcA2wDeXE0N7/hN4X9nPARQJ9onAxhS/2y+10/ZwYAzF3uuTgReA/Sn2XT8aOFvS21fku6b43poo7n8j4Bhg0UrcZ0RERERExIDVGxP3xcBpthfbvgmYD2zbwbbHAN+w/ZztVyiS5o+WI80fBW60fWdZ9i2gzenhkgYDHwOusL0YuJZiunzVNNs/sr3E9iLbT9r+ve1XbM8EfkCR2FadZ3uK7Rcpkv1PtHM/7yxHrFt+nmoo/5Ht521PBf4E3G/7r7ZfBq4D/q2dvi+y/WgZ+2Lb48u93W37DuBWihkHbWnvu15MkbBvZXup7Qm25zZ2IGmMpLqk+tKFze1cKiIiIiIiYuBa1e+4LwXWaDi3BkWi12J2w7viC4EhHex/JHCdpGpCvpRiRHw4MKXlpO0F5RT3tvwHsAS4qTy+HLhN0sZlUk61P4ByOvgPKRLe9SgejLzU0G+1zeQyrrbct5x33J+vfF7UynF731tj7PsBJ1OM3q8GDAYmttO+ve/6UorR9l+WrwpcRpHkV3/P2B4HjANYa7Ot3c61IiIiIiIiBqxVPeL+LDCq4dwbKRLYzmot0ZsC7Gd7aOVn7XJEejpFMgn8c0R9o3b6P5Ii8X1W0gzgGoqHDIe0E8MZ5bnRttcHDqOYPl+1ReXzlsC0dmLoTv+MXdJawK+As4BNbA+leGChxroVbX7X5Qj+qba3A3ajmILfOFshIiIiIiIiOmBVj7hfBXxT0kSKhPX/Ubyb/a4V6Ot5YCNJTbZb5llfAJwu6UjbkyVtDOxm+zcUU93vl7Q78GfgNNp4cCFpBPBeine7H64UfZkiAf1hGzGtBzQDzWUfX2ulzhck3Ugxk+AbFN9JT1sTWAuYCSwpR9/3AR4pyzv1XUv6d2AW8Bgwl2JGRbur1o8e0UQ9K8hHREREREQsY1WPuJ8G3APcRTGF/LvAobYfabdVK2z/DbgSeLp8/3s4RUJ9A3CrpHnAfRQLyGH7UeALwBUUo+8vAW3tTX448KDtW23PaPkBzgXeJmmHNtqdCrydInkfD/y6lTpXULw//jTwFPDtdm7zXVp2H/ed26m/QmzPo1jI7mqK7+UQiu+xpbxT3zXFAoPXUiTtjwN3UEyfj4iIiIiIiE6SnVeLo+fVajXX6/WeDiMiIiIiIqJHSJpgu9ZaWW9cVT4iIiIiIiIiSknco1MkHSrp1p6OIyIiIiIiYqBYJYm7pEmSFjW8q33eqrh2T5K0r6Q7Jc2TNFPSHZI+1NNxrQzbl9vep+VYkiVt1ZMxRURERERE9GerclX5A2zftjIdSBLFe/ntrlDeG0j6KPBz4KsUK+fPo9jf/TAqC79FYeLUZkaNHf+6c5OyynxERERERETPT5WXdIqkyyrHo8pR3NXL49slnS7pboot1N4kaTdJD0hqLv/drdL+dknfkfRnSXMl/UbShpXyd0q6p1wd/SFJe1XKjpb0eDlC/rSkz1bK9pL0nKTjJL0gabqko9u4JwE/AP7H9k9tN9t+zfYdtj9T1llN0jclTS77u0RSU8N3cLSkKZJeknSMpJ0lPVzGfl7lekdJulvS2WXZ0+V3dFTZ/gVJRzZ8R59uaH9X5djl9Z4o+zu/vKfX1ZV0Z9nkoXIWxcclPSLpgEpfa0iaJenflvOnEBEREREREa3o8cS9gw4HxlDskz6PYqu1c4GNKBLk8ZI2qtQ/AvgksBmwpKzbsj/7eIot2DYEjgd+pWIPcoAXgP2B9YGjgbMlvb3S76ZAEzAC+BRwvqQNWol3W2ALii3R2nJU+fPvwJuAIUDj6wO7AlsDHwfOodj3fW9ge+AgSXs21H24/E6uAH4J7AxsRTHKf56kIe3E02j/sv3bgIOAfRsr2H5P+XFH20NsXwVcUl6vxQeA6bb/2olrR0RERERERGlVJu7Xl6O3LT+f6UTbi2w/ansJsA/whO1LbS+xfSXwN4rp6C0utf2I7QXAtyiS3EEUCeVNtm8qR8B/D9Qpkktsj7f9lAt3UOy3vkel38XAabYX274JmE+RpDdqeYgwvZ17OhT4ge2nbc8H/hs4uGWmQel/bL9s+1ZgAXCl7RdsTwX+BFRHsZ+x/QvbS4GrKB4cnGb7lbL9qxRJfEedaXuO7WeBPwI7dbDdZcAHJK1fHh9OG3u4SxojqS6pvnRhcydCi4iIiIiIGDhWZeJ+oO2hlZ8LO9F2SuXzcGByQ/lkilHw1upPBtYAhgEjgY9VHyAAu1OMzCNpP0n3SXqxLPtA2a7F7PLhQYuFFCPljWaX/27Wzj013sdkijUHNqmce77yeVErx0PaqYvt9uovz4zK57bucxm2pwF3A/8paSiwH3B5G3XH2a7Zrg0a3NSJ0CIiIiIiIgaO3jBVfgEwuHK8aSt1XPk8jSIBr9oSmFo53qKhbDEwiyKhv7ThAcK6ts+UtBbwK+AsYBPbQ4GbAK3APf29vNZ/tlOn8T62pJjW/3zr1btUR77zlXExxeyGjwH3ljMEIiIiIiIiYgWsylXl2/IgcIKkLYFmiinj7bkJ+JGkQ4CrKZLj7YAbK3UOk3QJMAk4DbjW9tJyEbwHJO0L3EYxEv9O4Mny2msBM4ElkvajmJb/SGdvyLYlfRX4maTZFA8E5gO7AUfYHgNcWd73zeU1zwCusr2kXAeuOz0IfETSTylG/j/Fij8weJ7iHf0nK+euB/6PYvbAdzvSyegRTdSzinxERERERMQyVuWI+2/1+n3crwMo3zO/imJhtQm8PgFfhu3ZFAunHUcxJf3rwP62Z1WqXQpcRDHde23gS2XbKcCHgRMpkuUpwNeA1WzPK+tdDbwEHMJKbNtm+1qKReU+STG6/jzFoni/Kav8vIzzTuAZ4GXgiyt6vU46m+Kd9+cpRsdbncreQacAF5evHhwEYHsRxcOKNwK/XrlQIyIiIiIiBjbZXn6tPkTS7cBltn/a07EMZJJOAraxfdhyKwO1Ws31er2bo4qIiIiIiOidJE2wXWutrDdMlY9+RtKGFNPvD+/pWCIiIiIiIvq63rA4XfQj5TZ/U4Cbbd/Z0/FERERERET0df1uxN32Xj0dw0BWbvPXma3+IiIiIiIioh39LnGPlSNpEsVq8EspVsL/HXCs7fmSNgd+COxJsSL/FOAs2xc19HE7sCOwqe1XOnLdiVObGTV2/OvOTcoq8xEREREREZkqH606wPYQYCfg3/jXFn2XUiTrI4GNKN5hf902cpJGAXsABj60asKNiIiIiIjovzLiHm2yPUPSLRQJPMDOwFdsLyiP/9pKsyOA+4D7gSOBa7o7zoiIiIiIiP4sI+7RpnJq/H7Ak+Wp+4DzJR0sacs2mh1BsS/85cC+kjZpp/8xkuqS6ksXNndl6BEREREREf1GEvdozfWS5lFMi38BOLk8/zHgT8C3gGckPShp55ZGknanmEZ/te0JwFPAIW1dxPY42zXbtUGDm7rpViIiIiIiIvq2JO7RmgNtrwfsBbwFGAZg+yXbY21vT7GA3YMUSb7KdkcCt9qeVR5fUZ6LiIiIiIiIFSTbPR1D9CLlqvKftn1beXw6sL3tA1upuwMwkSKxXwjMAAZRrEYPsBYwFNjJ9kPtXbdWq7ler3fNTURERERERPQxkibYrrVWlhH3WJ5zgPdJ2lHS/0raQdLqktYDPgc8aXs2cCDFFnLbUSxmtxPwVoqp9Uf0QNwRERERERH9QhL3aJftmcAlwEnAYOA6YA7wNMX77C1bvh0J/ML2s7ZntPwA5wGHSsoOBhERERERESsgyVS8ju1RrZz7XAfavb+N81cDV698ZBEREREREQNTRtwjIiIiIiIierEk7v2QpFGSnOnpERERERERfV8Suz6gcaX3/mji1GZGjR3/z+NJZ36wB6OJiIiIiIjoPTLiHhEREREREdGLJXHvoyStJmmspKckzZZ0taQNG6p9UtI0SdMlHV9pu4ukeyXNKcvOk7RmpdySjpH0RFnnfEmqXPebkiZLekHSJZKayrKWKfpHSnpW0ixJ31glX0hEREREREQ/lcS97/oixd7pewLDgZeA8xvq/DuwNbAPcIKkvcvzS4GvAMOAdwHvBT7f0HZ/YGfgbcBBwL7l+aPKn38H3gQModjyrWp3YNuy35MkvbW1G5A0RlJdUn3pwuYO3HJERERERMTAk8S97zoG+Ibt52y/ApwCfLRhQbpTbS+wPRH4BfAJANsTbN9ne4ntScBPKB4AVJ1pe47tZ4E/AjuV5w8FfmD7advzgf8GDm7luotsPwQ8BOzY2g3YHme7Zrs2aHDTCn8RERERERER/VkWp+u7RgLXSXqtcm4psEnleErl82RgNICkbYAfADVgMMXfwYSG/mdUPi+kGFmHYnR/ckO/qzdct622ERERERER0UlJ3PuuKcAnbd/dWCBpVPlxC+Bv5ectgWnl5x8DfwU+YXuepC8DH+3gdadRPDRosSWwBHge2LwT8b/O6BFN1LOSfERERERExDIyVb7vWEPS2i0/wE+B0yWNBJC0saQPN7T5lqTBkrYHjgauKs+vB8wF5kt6C/C5TsRxJfAVSW+UNAQ4A7jK9pKVuLeIiIiIiIhoQxL3vuMmYFHlZwPgBuBWSfOA+4BdG9rcATwJ/H/AWbZvLc8fDxwCzAMu5F8JfUf8HLgUuBN4BniZYqG8iIiIiIiI6Aay3dMxRFCr1Vyv13s6jIiIiIiIiB4haYLtWmtlGXGPiIiIiIiI6MWSuPcBkvaQ9Pd2ykdJcsOWbKuEpJslHbmqrxsRERERETFQJHHvZSRNkrR39Zz///buPNyOqk73+PftgGAGEmKQIYTkYVJAFNsj0TZe8QqtgDRpsBGZWyUCDq0MLVdtCCCDs31BRRAJMgkqMgVt8EFwAPQeZBZFUCBAoiHzBELy3j9qHa1szpyT7H1y3s/z7Ie9a9Va9avDegp+tVatsn9u+1Xd7dMstve2fcmatvPA04uYdPJMJp08cyDCioiIiIiIWG8kcY+IiIiIiIhoYUncBwFJe0h6qny/lOrd6TdIWirpP2u7HirpSUnPSvp0rf4MSZ/trL3y+2RJj0laIum3kv61VnaUpF9I+qKkBZL+JGnvWvltkj5Yvm8n6VZJ80oMl0saszb+JhEREREREUNFEvdBxvbhwJPAfrZH2v58rXgK8CrgHcApknbqZbOPAW8FRgOnAZdJ2rJWPhn4PTAO+DxwkSR10o6As4GtgJ2ACcD0rg4qaZqkdkntK5cv6mWoERERERERQ0sS9/XLabZX2L4PuA94XW8q2f6e7Wdsr7J9FfAHYPfaLk/YvtD2SuASYEtg807aedT2Lbaftz0X+DLwtm6Oe4HtNtttw4aP7v1ZRkREREREDCHrfBXyWKvm1L4vB0b2ppKkI4DjgUll00iq0fWXtGt7eRlsf0nbkjYH/ptq9H4U1Y2hBb2OPiIiIiIiIl4iifvg5D7uvwwYXvu9RccXSROBC6mm199pe6Wke6mmvffVWSW2XW3PlzQVOK83FXcdP5r2c/btxyEjIiIiIiLWb5kq35o2lLRxx4eX3mD5M7BtH9q7F9hH0lhJWwAfr5WNoEq25wJI+nfgNf2MexSwFFgkaTxwUj/biYiIiIiIiCKJe2u6CVhR+0xvKD8b+IykhZJO7EV7l1I98/44cDNwVUeB7d8CXwLupLohsCvwy37GfRrwj8AiYCZwTT/biYiIiIiIiEJ2X2ddRwy8trY2t7e3NzuMiIiIiIiIppB0t+22zsoy4h4RERERERHRwpK4x4CS9JCkPcr36ZIua25EERERERERg1sS9yFC0uOSVkhaKmmBpJmSJgz0cWzvYvu2vtZ74OlFTDp5JpNOnjnQIUVERERERAxqSdyHlv1sjwS2pFqI7tzOdpI0bJ1GFREREREREV1K4j4E2X4O+D6wM4CkGZK+IekmScuAt0vaV9I9khZLmiVpekd9SeeVkfuOz4sd5WVkf88mnFZERERERMR6KYn7ECRpOPBe4K7a5kOAM6nexf4LYBlwBDAG2Bc4VtJUANsfsT2yjN5PARYA162r+CMiIiIiIoaSDZodQKxT10p6ERgBzAXeWSu7znbH+9ufA26rld0v6UrgbcC1HRslbVZ+f9T2PX0NRtI0YBrAsE0262v1iIiIiIiIISEj7kPLVNtjgI2BjwC3S9qilM2q7yhpsqSfSporaRFwDDCuVr4h1XT7K2x/tz/B2L7AdpvttmHDR/eniYiIiIiIiPVeEvchyPZK29cAK6mmugO4YbcrgOuBCbZHA+cDqpWfCywGPrOWw42IiIiIiBjSMlV+CJIk4F+ATYGHgXd3stsoYL7t5yTtTvUM/M2l/oeops1Ptr1qIGLadfxo2s/ZdyCaioiIiIiIWK9kxH1ouUHSUqqR8jOBI20/1MW+xwGnS1oCnAJcXSt7H7At8ExtZflPrc3AIyIiIiIihirZjTOkI9a9trY2t7e3NzuMiIiIiIiIppB0t+22zsoy4h4RERERERHRwpK4N4GkoyT9otlx9ETSdEmXdVP+uKQ9y/dPSfrWuosuIiIiIiJiaEjiXkg6RFJ7eV57tqQfSZrSc821ryTIK0pscyTNkDSy2XHV2T7L9gebHUdERERERMT6Jok7IOl44KvAWcDmwDbA14H9mxhWo/1sjwR2A14P/J/mhjOwHnh6EZNOntnsMCIiIiIiIlrOkE/cJY0GTgc+bPsa28tsv2D7BtsnlX0W1lZPXybJkiaVsndLurfsc4ek19baniDpGklzJc2TdF7Dsb8oaYGkP0nauzfx2p4D/A9VAt/RzpvKsRdKuk/SHrWy2ySdLenXkhZLuk7S2FK2h6SnGmL62/T3YmNJV0laIuk3kl7Xxd9xtWn1kqbUYpol6ajenF9ERERERESsbsgn7sCbgY2BH3a1g+0xtkeWEe//Bn4OPC3p9cC3gQ8BrwC+CVwvaSNJw4AbgSeAScB44Lu1ZicDvwfGAZ8HLirvV++WpK2BvYFHy+/xwEzgs8BY4ETgB5I2q1U7Ang/sCXwIvB/ezpOzf7A90rbVwDXStqwhxgnAj8CzgU2o7rJcG8fjhkRERERERFFEvcq4X7W9os97SjpvcAhwIG2XwCmAd+0/SvbK21fAjwPvAnYHdgKOKmM4j9nu74g3RO2L7S9EriEKqnevJvDX1veqT4L+Atwatl+GHCT7Ztsr7J9C9AO7FOre6ntB20vA/4LOKjcWOiNu21/v5zvl6lucryphzqHAD+xfWWZvTDP9r2NO0maVtYVaF+5fFEvw4mIiIiIiBhakrjDPGCcpA2626mMrp8H/KvtuWXzROCEMh18oaSFwASqhH0CVXLe1Q2BOR1fbC8vX7tbcG6q7VHAHsCrqUbqO2L4t4YYplDdCOgwq/b9CWDDWv2e/K2u7VXAU1Tn150JwGM9NWz7AtttttuGDR/dy3AiIiIiIiKGliTucCfVKPnUrnaQ9ErgWqrn4O+pFc0CzixT6Ts+w21fWcq26emGQF/Zvh2YAXyxFsOlDTGMsH1OrdqE2vdtgBeAZ4FlwPDaeQ6jmtpeN6FW/g/A1sAzPYQ5C9iu1ycVERERERERXRryibvtRcApwNckTZU0XNKGkvaW9PmSeH8fuMz21Q3VLwSOkTRZlRGS9pU0Cvg1MBs4p2zfWNJbBijsrwJ7lYXiLgP2k/ROScPKcfYoz8J3OEzSzpKGUy3E9/0yRf8RqsXn9i3PrX8G2KjhWG+QdED5O3yc6ibHXT3Edzmwp6SDJG0g6RWSduuuwq7jR/P4Ofv26uQjIiIiIiKGkiGfuAPY/hJwPFXiOpdqxPgjVKPsWwNvBT5eW1l+qaRtbLcDR1NNoV9AtWDcUaXNlcB+wPbAk1RTzN87QPHOBb4DnGJ7FtUCcp+qxX4Sq/+7vZRqlH4O1TPqHyvtLAKOA74FPE01Ar/aKvPAdSXuBcDhwAHleffu4nuS6hn7E4D5VAvTdboafURERERERHRPtpsdQ6xFkm6jmi3wrWbH0p22tja3t7c3O4yIiIiIiIimkHS37bbOyjLiHhEREREREdHCkrgPIZImSfJALphXHhvYdqDai4iIiIiIiNUN6IrnsW5Iepzqne8rqVaIvwM4pjzvvhrbe6zNWGx39wq7iIiIiIiIWEMZcR+89itJ85bAn4FzB/oAA/0qu+488PSidXWoiIiIiIiIQSWJ+yBn+zmq19XtDFBe7XaPpMWSZkma3km1QyU9KelZSZ/u2ChpuqTvS7pM0mLgKEm7S7pT0kJJsyWdJ+lltTqWtH35PkPS1yTNlLRE0q8k5X3uERERERERayCJ+yBX3s3+Xv7+bvVlwBHAGGBf4FhJUxuqTQFeBbwDOEXSTrWy/aluBIyheh/7SuATwDjgzaXOcd2EdDBwGrAp1evxzuzXiUVERERERASQxH0wu1bSQmARsBfwBQDbt9l+wPYq2/cDVwJva6h7mu0Vtu8D7mP1d6zfafvaUn+F7btt32X7RduPA9/spL26H9r+te0XqRL/3braUdI0Se2S2lcuz1T5iIiIiIiIziRxH7ym2h4DbAx8BLhd0haSJkv6qaS5khYBx1CNltfNqX1fDtQXmFttgTtJO0q6UdKcMn3+rE7a623bq7F9ge02223Dho/upsmIiIiIiIihK4n7IGd7pe1rqKa0TwGuAK4HJtgeDZwPqC9NNvz+BvA7YAfbmwCf6mN7ERERERERsQaSuA9yquxP9Uz5w8AoYL7t5yTtDhyyhocYBSwGlkp6NXDsGrbXqV3HZ8Q9IiIiIiKiM0ncB68bJC2lSqrPBI60/RDVwnGnS1oCnAJcvYbHOZEq+V8CXAhctYbtRURERERERB/IbpwZHbHutbW1ub29vdlhRERERERENIWku223dVaWEfeIiIiIiIiIFpbEfZCQZEnbl+/nS/qvdXjsGZI+2035Uknbrqt4IiIiIiIihpIk7mtA0hRJd0haJGm+pF9KeuPaPq7tY2yf0UNse5Rk/5PrIJ6Rtv+4to8TERERERExFCVx7ydJmwA3AucCY4HxwGnA882Mq+ZIYD5wRHc7Sdpg3YTTvQeeXtTsECIiIiIiIlpSEvf+2xHA9pXlXeorbN9s+34ASdtJulXSPEnPSrpc0piOyvWp7+X3atPRJZ0kabakZyS9v37gXkxdHwG8B/gwsIOktlrZpHLsD0h6Eri1bP+epDll9sDPJO3S0Ow4SbdIWiLpdkkTOzsXSftKukfSYkmzJE3v9V80IiIiIiIiXiKJe/89AqyUdImkvSVt2lAu4GxgK2AnYAIwvTcNS3oX1WvY9gJ2APbsY2wHAEuB7wH/QzX63uhtJa53lt8/Ksd6JfAb4PKG/Q8FzgDGAfd2Ut5hGdUo/xhgX+BYSVP7GH9EREREREQUSdz7yfZiYApgqvebz5V0vaTNS/mjtm+x/bztucCXqZLl3jgIuNj2g7aX0cuEv+ZI4CrbK4ErgIMlbdiwz3Tby2yvKPF+2/YS28+X471O0uja/jNt/6yUfxp4s6QJjQe2fZvtB2yvKrMPrqSL85Y0TVK7pPaVyzNVPiIiIiIiojNJ3NeA7YdtH2V7a+A1VKPrXwWQtLmk70p6WtJi4DKq0ere2AqYVfv9RG9jKsn02/n7iPh1wMZUo991s2p1hkk6R9JjJdbHS9G4zva3vZTq+fmtOjn+ZEk/lTRX0iLgGLo4b9sX2G6z3TZs+OjOdomIiIiIiBjykrgPENu/A2ZQJfAAZ1GNxu9qexPgMKrp8x2WA8Nrv7eofZ9NNbW+wzZ9COVwqn+vN0iaA/yRKnFvnC7v2vdDgP2ppuSPBiaV7fV4/xaPpJFUC/I908nxrwCuBybYHg2c39BORERERERE9EES936S9GpJJ0jauvyeALwPuKvsMorqOfNFksYDJzU0cS9wSBntfherTye/GjhK0s6ShgOn9iG0I6lWt9+t9jkQ2EfSK7qoM4pqNfx5VDcTzupkn33K6+9eRvWs+122Z3Wy3yhgvu3nJO1OdVOgR7uOz4h7REREREREZ5K4998SYDLwK0nLqBL2B4ETSvlpwD8Ci4CZwDUN9f8D2A9YSLXw27UdBbZ/RDXl/lbg0fLPHkl6EzAR+JrtObXP9aWd93VR9TtU0/GfBn7L328+1F1BdQNhPvAGqhkEnTkOOF3SEuAUqpsQERERERER0U+y3fNeEWtZW1ub29vbmx1GREREREREU0i623Zbp2VJ3KMVlBH63zc7joh+Ggc82+wgItZA+nAMZum/MZil/0bdRNubdVawwbqOJKILv+/q7lJEq5PUnv4bg1n6cAxm6b8xmKX/Rm/lGfeIiIiIiIiIFpbEPSIiIiIiIqKFJXGPVnFBswOIWAPpvzHYpQ/HYJb+G4NZ+m/0Shani4iIiIiIiGhhGXGPiIiIiIiIaGFJ3CMiIiIiIiJaWBL3aCpJYyX9UNIySU9IOqTZMcXQJWkjSReVvrhE0r2S9q6Vv0PS7yQtl/RTSRMb6n5b0mJJcyQd39B2l3UjBpqkHSQ9J+my2rZDSt9eJulaSWNrZd1ei7urGzHQJB0s6eHS3x6T9NayPdfgaGmSJkm6SdKC0g/Pk7RBKdtN0t2lD94tabdaPUn6nKR55fM5SaqVd1k3ho4k7tFsXwP+CmwOHAp8Q9IuzQ0phrANgFnA24DRwGeAq8t/iMcB1wD/BYwF2oGranWnAzsAE4G3A/8p6V0AvagbMdC+Bvy/jh/luvpN4HCq6+1y4OsN+3d6Le5F3YgBI2kv4HPAvwOjgP8F/DHX4Bgkvg78BdgS2I3q/yeOk/Qy4DrgMmBT4BLgurIdYBowFXgd8FpgP+BDAL2oG0NEFqeLppE0AlgAvMb2I2XbpcDTtk9uanARhaT7gdOAVwBH2f6nsn0E8Czwetu/k/RMKb+5lJ8B7GD7YEnTuqu77s8q1meSDgYOAH4LbG/7MElnAZNsH1L22Q54mKpfr6Kba3F3dW0vWcenF+s5SXcAF9m+qGF7t9fRXIOjFUh6GDjB9k3l9xeATYAfABcDW7skX5KeBKbZ/nHp9zNsX1DKPgAcbftNkv65u7rr+BSjiTLiHs20I/Bix/8oFvcBGXGPliBpc6p++hBVv7yvo8z2MuAxYBdJm1LdXb+vVr3el7usuzbjj6FH0ibA6cDxDUWNffAxqhH2Hen5Wtxd3YgBI2kY0AZsJulRSU+VqcYvJ9fgGBy+Chwsabik8cDewI+p+tr9HYl3cT9d9FFe2n+7qxtDRBL3aKaRwOKGbYuopsZFNJWkDYHLgUvKiMxIqv5Z19FfR9Z+N5bRQ92IgXQG1WjlUw3be+q/3V2L039jXdkc2BB4D/BWqqnGr6d6bCnX4BgMfkaVUC8GnqJ6LONaeu6DjeWLgJHlOff03wCSuEdzLaWaPlS3CZCpl9FUkv4BuJRqVPEjZXN3/XVp7XdjWU91IwZEWaxoT+ArnRT31H+765/pv7GurCj/PNf2bNvPAl8G9iHX4Ghx5f8dfky1nsIIYBzVM+mfo+/X2U2ApWWUPf03gCTu0VyPABtI2qG27XVU05IjmqLc3b6IauTnQNsvlKKHqPpnx34jgO2Ah2wvAGbXy1m9L3dZdy2dRgxNewCTgCclzQFOBA6U9Bte2ge3BTaiug73dC3urm7EgCnX0qeA+pTgju+5BkerGwtsA5xn+3nb86ieTd+Hqq+9tr5SPNUidJ32UV7af7urG0NEEvdomvKM2TXA6ZJGSHoLsD/VSGdEs3wD2AnYz/aK2vYfAq+RdKCkjYFTqJ4561jY6DvAZyRtKunVwNHAjF7WjRgIF1AlI7uVz/nATOCdVI997CfprSVpOR24xvaSXlyLu6y77k4thpCLgY9KemV5dv0TwI3kGhwtrswQ+RNwrKQNJI0BjqR6Hv02YCXwMVWvLuyYzXdr+ed3gOMljZe0FXACf++/PdWNISKJezTbccDLqV6dcSVwrO3cQYymUPVe3w9RJT1zJC0tn0NtzwUOBM6kWoF7MnBwrfqpVIsdPQHcDnyhY7XXXtSNWGO2l9ue0/Ghml75nO255bp6DFUS/heqZyOPq1Xv8lrci7oRA+kMqlcZPkL19oJ7gDNzDY5B4gDgXcBc4FHgBeATtv9K9bq3I4CFwPuBqWU7VK/cvAF4AHiQ6qbrNwF6UTeGiLwOLiIiIiIiIqKFZcQ9IiIiIiIiooUlcY+IiIiIiIhoYUncIyIiIiIiIlpYEveIiIiIiIiIFpbEPSIiIiIiIqKFJXGPiIiIiIiIaGFJ3CMiIqKlSZoh6bNNOrYkXSxpgaRfr+VjWdL2a/MYERExOCVxj4iIiD6R9Likv0gaUdv2QUm3NTGstWUKsBewte3dO9tB0taSLpc0T9IySb+W9O51G2ZERKzPkrhHREREfwwD/qPZQfSVpGF9rDIReNz2si7aGwv8AvgrsAswDvgKcIWk93RRZ4M+xtCtgW4vIiJaTxL3iIiI6I8vACdKGtNYIGlSmfa9QW3bbZI+WL4fJemXkr4iaaGkP0r6p7J9VhnNP7Kh2XGSbpG0RNLtkibW2n51KZsv6feSDqqVzZD0DUk3SVoGvL2TeLeSdH2p/6iko8v2DwDfAt4saamk0zr5O3wCWAp8wPYc2ytsXwmcCXxJkkpblvRhSX8A/lC2nSRptqRnJL2/IaaNJH1R0pOS/izpfEkvL2V7SHpK0iclzQEuljRO0o3l7zlf0s8l5f/zIiLWE7mgR0RERH+0A7cBJ/az/mTgfuAVwBXAd4E3AtsDhwHnSRpZ2/9Q4AyqEe17gcsBynT9W0obrwQOBr4uaeda3UOoEulRVKPjjb4LPAVsBbwHOEvS/7Z9EXAMcKftkbZP7aTuXsAPbK9q2H41sA2wY23b1HLeO0t6F9Xfbi9gB2DPhvrnlLq7lb/JeOCUWvkWwFiqGQHTgBPKOWwGbA58CnAn8UZExCCUxD0iIiL66xTgo5I260fdP9m+2PZK4CpgAnC67edt30w19by+UNtM2z+z/TzwaapR8AnAu6mmsl9s+0Xb9wA/AP6tVvc627+0vcr2c/UgShtvAT5p+znb91KNsh/Ry/MYB8zuZPvsWnmHs23Pt70COAi42PaDZRr+9FpMokrGP1H2XwKcRXVTosMq4NTy91oBvABsCUy0/YLtn9tO4h4RsZ5I4h4RERH9YvtB4Ebg5H5U/3Pt+4rSXuO2+oj7rNpxlwLzqUbIJwKTyxTxhZIWUo3Ob9FZ3U5sBXQkxx2eoBrh7o1nqRLmRlvWyjuLY6uG30/Uvm8GDAfurp3Tj8v2DnMbbkJ8AXgUuLk8etCffycREdGikrhHRETEmjgVOJrVE92OhdyG17bVE+n+mNDxpUyhHws8Q5X83m57TO0z0vaxtbrdjTw/A4yVNKq2bRvg6V7G9RPggE6eJz+oxPZIF3HMrp9TOWaHZ6luXOxSO6fRtus3MlY7J9tLbJ9ge1vgX4DjJb2jl+cQEREtLol7RERE9JvtR6mmun+stm0uVeJ7mKRhZeG17dbwUPtImiLpZVTPut9lexbViP+Okg6XtGH5vFHSTr2MfxZwB3C2pI0lvRb4AHBZL+P6CjAauEjSFqWN91FN5z+pm+nqVwNHSdpZ0nCqGyAdMa0CLgS+IumVAJLGS3pnV0FIerek7cs0+0XASqrp9BERsR5I4h4RERFr6nRgRMO2o4GTgHlUr0m7Yw2PcQVVcjsfeAPVAnaUKe7/TPX89zPAHOBzwEZ9aPt9wKRS/4dUz47/pDcVbc+jetf7xsBvqc73eOBw21d1U+9HwFeBW6mmuN/asMsny/a7JC2mGtl/VTeh7FD2WQrcCXzd9k97cw4REdH6lHVLIiIiIiIiIlpXRtwjIiIiIiIiWlgS94iIiIiIiIgWlsQ9IiIiIiIiooUlcY+IiIiIiIhoYUncIyIiIiIiIlpYEveIiIiIiIiIFpbEPSIiIiIiIqKFJXGPiIiIiIiIaGFJ3CMiIiIiIiJa2P8HWtpiT+CdJNAAAAAASUVORK5CYII=\n",
    ")"
   ]
  },
  {
   "cell_type": "markdown",
   "id": "430b067a",
   "metadata": {},
   "source": [
    "How much money spent by each country?¶"
   ]
  },
  {
   "cell_type": "code",
   "execution_count": null,
   "id": "95189df9",
   "metadata": {},
   "outputs": [],
   "source": [
    "df_new"
   ]
  },
  {
   "cell_type": "markdown",
   "id": "16c321b4",
   "metadata": {},
   "source": [
    "397924 rows × 13 columns"
   ]
  },
  {
   "cell_type": "code",
   "execution_count": null,
   "id": "12a33b73",
   "metadata": {},
   "outputs": [],
   "source": [
    "df_new.groupby('country')"
   ]
  },
  {
   "cell_type": "code",
   "execution_count": null,
   "id": "b987f799",
   "metadata": {},
   "outputs": [],
   "source": [
    "<pandas.core.groupby.generic.DataFrameGroupBy object at 0x0000020AA2A497F0>"
   ]
  },
  {
   "cell_type": "code",
   "execution_count": null,
   "id": "33ea1373",
   "metadata": {},
   "outputs": [],
   "source": [
    "df_new.groupby('country')['amount_spent']"
   ]
  },
  {
   "cell_type": "code",
   "execution_count": null,
   "id": "64eb3e64",
   "metadata": {},
   "outputs": [],
   "source": [
    "<pandas.core.groupby.generic.SeriesGroupBy object at 0x0000020AA2A2A0D0>"
   ]
  },
  {
   "cell_type": "code",
   "execution_count": null,
   "id": "a0947c02",
   "metadata": {},
   "outputs": [],
   "source": [
    "df_new.groupby('country')['amount_spent'].sum()"
   ]
  },
  {
   "cell_type": "code",
   "execution_count": null,
   "id": "9855b386",
   "metadata": {},
   "outputs": [],
   "source": [
    "country\n",
    "Australia                138521.310\n",
    "Austria                   10198.680\n",
    "Bahrain                     548.400\n",
    "Belgium                   41196.340\n",
    "Brazil                     1143.600\n",
    "Canada                     3666.380\n",
    "Channel Islands           20450.440\n",
    "Cyprus                    13590.380\n",
    "Czech Republic              826.740\n",
    "Denmark                   18955.340\n",
    "EIRE                     265545.900\n",
    "European Community         1300.250\n",
    "Finland                   22546.080\n",
    "France                   209024.050\n",
    "Germany                  228867.140\n",
    "Greece                     4760.520\n",
    "Iceland                    4310.000\n",
    "Israel                     7221.690\n",
    "Italy                     17483.240\n",
    "Japan                     37416.370\n",
    "Lebanon                    1693.880\n",
    "Lithuania                  1661.060\n",
    "Malta                      2725.590\n",
    "Netherlands              285446.340\n",
    "Norway                    36165.440\n",
    "Poland                     7334.650\n",
    "Portugal                  33439.890\n",
    "RSA                        1002.310\n",
    "Saudi Arabia                145.920\n",
    "Singapore                 21279.290\n",
    "Spain                     61577.110\n",
    "Sweden                    38378.330\n",
    "Switzerland               56443.950\n",
    "USA                        3580.390\n",
    "United Arab Emirates       1902.280\n",
    "United Kingdom          7308391.554\n",
    "Unspecified                2667.070\n",
    "Name: amount_spent, dtype: float64"
   ]
  },
  {
   "cell_type": "code",
   "execution_count": null,
   "id": "38e68fba",
   "metadata": {},
   "outputs": [],
   "source": [
    "df_new.groupby('country')['amount_spent'].sum().sort_values()"
   ]
  },
  {
   "cell_type": "code",
   "execution_count": null,
   "id": "fcf56eba",
   "metadata": {},
   "outputs": [],
   "source": [
    "country\n",
    "Saudi Arabia                145.920\n",
    "Bahrain                     548.400\n",
    "Czech Republic              826.740\n",
    "RSA                        1002.310\n",
    "Brazil                     1143.600\n",
    "European Community         1300.250\n",
    "Lithuania                  1661.060\n",
    "Lebanon                    1693.880\n",
    "United Arab Emirates       1902.280\n",
    "Unspecified                2667.070\n",
    "Malta                      2725.590\n",
    "USA                        3580.390\n",
    "Canada                     3666.380\n",
    "Iceland                    4310.000\n",
    "Greece                     4760.520\n",
    "Israel                     7221.690\n",
    "Poland                     7334.650\n",
    "Austria                   10198.680\n",
    "Cyprus                    13590.380\n",
    "Italy                     17483.240\n",
    "Denmark                   18955.340\n",
    "Channel Islands           20450.440\n",
    "Singapore                 21279.290\n",
    "Finland                   22546.080\n",
    "Portugal                  33439.890\n",
    "Norway                    36165.440\n",
    "Japan                     37416.370\n",
    "Sweden                    38378.330\n",
    "Belgium                   41196.340\n",
    "Switzerland               56443.950\n",
    "Spain                     61577.110\n",
    "Australia                138521.310\n",
    "France                   209024.050\n",
    "Germany                  228867.140\n",
    "EIRE                     265545.900\n",
    "Netherlands              285446.340\n",
    "United Kingdom          7308391.554\n",
    "Name: amount_spent, dtype: float64"
   ]
  },
  {
   "cell_type": "markdown",
   "id": "4e4b1d13",
   "metadata": {},
   "source": [
    "How much money spent by each country?¶"
   ]
  },
  {
   "cell_type": "code",
   "execution_count": null,
   "id": "5113a105",
   "metadata": {},
   "outputs": [],
   "source": [
    "group_country_amount_spent = df_new.groupby('country')['amount_spent'].sum().sort_values()\n",
    "# del group_country_orders['United Kingdom']\n",
    "\n",
    "# plot total money spent by each country (with UK)\n",
    "plt.subplots(figsize=(15,8))\n",
    "group_country_amount_spent.plot(kind = 'barh', fontsize=12, color=color[0])\n",
    "plt.xlabel('Money Spent (Dollar)', fontsize=12)\n",
    "plt.ylabel('Country', fontsize=12)\n",
    "plt.title('Money Spent by different Countries', fontsize=12)\n",
    "plt.show()"
   ]
  },
  {
   "cell_type": "markdown",
   "id": "c1faa40d",
   "metadata": {},
   "source": [
    "![Visualization](data:image/png;base64,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\n",
    ")"
   ]
  },
  {
   "cell_type": "code",
   "execution_count": null,
   "id": "0d991083",
   "metadata": {},
   "outputs": [],
   "source": [
    "group_country_amount_spent = df_new.groupby('country')['amount_spent'].sum().sort_values()\n",
    "del group_country_amount_spent['United Kingdom']\n",
    "\n",
    "# plot total money spent by each country (without UK)\n",
    "plt.subplots(figsize=(15,8))\n",
    "group_country_amount_spent.plot(kind = 'barh', fontsize=12, color=color[0])\n",
    "plt.xlabel('Money Spent (Dollar)', fontsize=12)\n",
    "plt.ylabel('Country', fontsize=12)\n",
    "plt.title('Money Spent by different Countries', fontsize=12)\n",
    "plt.show()"
   ]
  },
  {
   "cell_type": "markdown",
   "id": "26c4c514",
   "metadata": {},
   "source": [
    "![Visualization](data:image/png;base64,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\n",
    ")"
   ]
  },
  {
   "cell_type": "markdown",
   "id": "c0b2f3aa",
   "metadata": {},
   "source": [
    "This is called Data Analysis :)¶"
   ]
  }
 ],
 "metadata": {},
 "nbformat": 4,
 "nbformat_minor": 5
}
